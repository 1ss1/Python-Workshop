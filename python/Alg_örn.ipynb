{
 "cells": [
  {
   "cell_type": "markdown",
   "id": "dee58240-4647-43a2-abf0-3fe150f089fc",
   "metadata": {},
   "source": [
    "# SORU ÇÖZÜMLERİ"
   ]
  },
  {
   "cell_type": "code",
   "execution_count": 1,
   "id": "e0ec6bde-2867-45b8-9684-6071387fdda0",
   "metadata": {},
   "outputs": [
    {
     "name": "stdout",
     "output_type": "stream",
     "text": [
      "Bu bizim ilk örneğimiz\n"
     ]
    }
   ],
   "source": [
    "# ÖRNEK 1 :\n",
    "print(\"Bu bizim ilk örneğimiz\")"
   ]
  },
  {
   "cell_type": "code",
   "execution_count": 3,
   "id": "b284b65c-e1ef-43b7-9066-90859d79221f",
   "metadata": {},
   "outputs": [
    {
     "name": "stdin",
     "output_type": "stream",
     "text": [
      "isminizi Giriniz:  idil\n"
     ]
    },
    {
     "name": "stdout",
     "output_type": "stream",
     "text": [
      "Merhaba idil\n"
     ]
    }
   ],
   "source": [
    "# örn2:\n",
    "isim = input(\"isminizi Giriniz: \")\n",
    "print(\"Merhaba \" + isim)"
   ]
  },
  {
   "cell_type": "code",
   "execution_count": 9,
   "id": "1c96e4dc-60e1-449a-86e7-17427f211981",
   "metadata": {},
   "outputs": [
    {
     "name": "stdin",
     "output_type": "stream",
     "text": [
      "Birinci sayıyı giriniz :  45\n",
      "İkinci sayıyı giriniz :  34\n"
     ]
    },
    {
     "name": "stdout",
     "output_type": "stream",
     "text": [
      "Sayıların toplamı :79.0 \n"
     ]
    }
   ],
   "source": [
    "# örn3 :\n",
    "sayı1 = input(\"Birinci sayıyı giriniz : \")\n",
    "sayı2 = input(\"İkinci sayıyı giriniz : \")\n",
    "toplam = float(sayı1) + float(sayı2)\n",
    "print(\"Sayıların toplamı :{} \".format(toplam))"
   ]
  },
  {
   "cell_type": "code",
   "execution_count": 10,
   "id": "d9219ebb-cc30-45b8-9e85-53ee58e402b9",
   "metadata": {},
   "outputs": [
    {
     "name": "stdin",
     "output_type": "stream",
     "text": [
      "1.Notu Girin :  70\n",
      "2. Notu girin :  92\n"
     ]
    },
    {
     "name": "stdout",
     "output_type": "stream",
     "text": [
      "Ders notunuz :81.0 \n"
     ]
    }
   ],
   "source": [
    "# örn 4 :\n",
    "not1 = int(input(\"1.Notu Girin : \"))\n",
    "not2 = int(input(\"2. Notu girin : \"))\n",
    "ortalama = (not1 + not2) / 2\n",
    "print(\"Ders notunuz :{} \".format(ortalama))"
   ]
  },
  {
   "cell_type": "code",
   "execution_count": 11,
   "id": "30ac8349-c216-4e6b-ad11-53f69dbde6f2",
   "metadata": {},
   "outputs": [
    {
     "name": "stdin",
     "output_type": "stream",
     "text": [
      "Vize notu :  75\n",
      "Final notu :  86\n"
     ]
    },
    {
     "name": "stdout",
     "output_type": "stream",
     "text": [
      "Ders Notunuz : 81.6 \n"
     ]
    }
   ],
   "source": [
    "# örn 5 :\n",
    "vize = input(\"Vize notu : \")\n",
    "final = input(\"Final notu : \")\n",
    "ortalama = int(vize)*0.4 + int(final)*0.6\n",
    "print(\"Ders Notunuz : {} \".format(ortalama))"
   ]
  },
  {
   "cell_type": "code",
   "execution_count": 12,
   "id": "518964fc-a6ad-4f01-a668-e5c6400254d0",
   "metadata": {},
   "outputs": [
    {
     "name": "stdin",
     "output_type": "stream",
     "text": [
      "1. not :  55\n",
      "2. not :  75\n",
      "3. not :  95\n"
     ]
    },
    {
     "name": "stdout",
     "output_type": "stream",
     "text": [
      "Yazılı ortalaması :75.0\n"
     ]
    }
   ],
   "source": [
    "# örn 6 :\n",
    "yazılı1 = int(input(\"1. not : \"))\n",
    "yazılı2 = int(input(\"2. not : \"))\n",
    "yazılı3 = int(input(\"3. not : \"))\n",
    "ortalama = (yazılı1 + yazılı2 + yazılı3) / 3\n",
    "print(\"Yazılı ortalaması :{}\".format(ortalama))"
   ]
  },
  {
   "cell_type": "code",
   "execution_count": 13,
   "id": "53d47c9b-8c31-4354-850f-70c619a86793",
   "metadata": {},
   "outputs": [
    {
     "name": "stdin",
     "output_type": "stream",
     "text": [
      "ders ortalamanızı giriniz :  49\n"
     ]
    },
    {
     "name": "stdout",
     "output_type": "stream",
     "text": [
      "Dersten Kaldınız.\n"
     ]
    }
   ],
   "source": [
    "# örn 7 :\n",
    "ortalama = float(input(\"ders ortalamanızı giriniz : \"))\n",
    "\n",
    "if ortalama >= 50 :\n",
    "    print(\"Dersten geçtiniz.\")\n",
    "else :\n",
    "    print(\"Dersten Kaldınız.\")"
   ]
  },
  {
   "cell_type": "code",
   "execution_count": 15,
   "id": "54ebf0c5-f26d-4d2f-a402-68710d0fe1a3",
   "metadata": {},
   "outputs": [
    {
     "name": "stdin",
     "output_type": "stream",
     "text": [
      "Bir sayı giriniz :  34\n"
     ]
    },
    {
     "name": "stdout",
     "output_type": "stream",
     "text": [
      "Çift sayı\n"
     ]
    }
   ],
   "source": [
    "# örn 8 :\n",
    "sayı = input(\"Bir sayı giriniz : \")\n",
    "\n",
    "if int(sayı)%2 == 0 :\n",
    "    print(\"Çift sayı\")\n",
    "else :\n",
    "    print(\"tek sayı\")"
   ]
  },
  {
   "cell_type": "code",
   "execution_count": 20,
   "id": "ce1a7df5-f542-40b1-99d8-08ecbdd07e34",
   "metadata": {},
   "outputs": [
    {
     "name": "stdin",
     "output_type": "stream",
     "text": [
      "Bir Sayı Giriniz :  6\n"
     ]
    },
    {
     "name": "stdout",
     "output_type": "stream",
     "text": [
      "6 sayısı pozitif sayıdır.\n"
     ]
    }
   ],
   "source": [
    "# örn 9:\n",
    "sayı = int(input(\"Bir Sayı Giriniz : \"))\n",
    "\n",
    "if sayı > 0 :\n",
    "    print(str(sayı) + \" sayısı pozitif sayıdır.\")\n",
    "if sayı < 0 :\n",
    "    print(str(sayı) + \" Sayısı negatif sayıdır.\")\n",
    "if sayı == 0 :\n",
    "    print(str(sayı) + \" sayısı sıfırdır.\")"
   ]
  },
  {
   "cell_type": "code",
   "execution_count": 24,
   "id": "fd5bceef-69fb-4e66-a307-856044bd7ab7",
   "metadata": {},
   "outputs": [
    {
     "name": "stdin",
     "output_type": "stream",
     "text": [
      "Yaş :  23\n"
     ]
    },
    {
     "name": "stdout",
     "output_type": "stream",
     "text": [
      "Ehliyet alabilir.\n"
     ]
    }
   ],
   "source": [
    "# örn 10 :\n",
    "yaş = int(input(\"Yaş : \"))\n",
    "\n",
    "if yaş >= 18 :\n",
    "    print(\"Ehliyet alabilir.\")\n",
    "else : \n",
    "    print(\"ehliyet alamaz. \")"
   ]
  },
  {
   "cell_type": "code",
   "execution_count": 25,
   "id": "6e94eb48-3ae8-4907-87a9-256e428d2980",
   "metadata": {},
   "outputs": [
    {
     "name": "stdout",
     "output_type": "stream",
     "text": [
      "1\n",
      "2\n",
      "3\n",
      "4\n",
      "5\n",
      "6\n",
      "7\n",
      "8\n",
      "9\n",
      "10\n"
     ]
    }
   ],
   "source": [
    "# örn 11 :\n",
    "for i in range(1,11) :\n",
    "    print(i)"
   ]
  },
  {
   "cell_type": "code",
   "execution_count": 31,
   "id": "af13f812-09f8-4b55-9b53-8193224ba199",
   "metadata": {},
   "outputs": [
    {
     "name": "stdout",
     "output_type": "stream",
     "text": [
      "2\n",
      "4\n",
      "6\n",
      "8\n",
      "10\n",
      "12\n",
      "14\n",
      "16\n",
      "18\n",
      "20\n"
     ]
    }
   ],
   "source": [
    "# örn 12 :\n",
    "for i in range(2, 21, 2) :\n",
    "  print(i)"
   ]
  },
  {
   "cell_type": "code",
   "execution_count": 32,
   "id": "14e19cbe-70ca-4625-81f6-f4fa5febc82b",
   "metadata": {},
   "outputs": [
    {
     "name": "stdout",
     "output_type": "stream",
     "text": [
      "2\n",
      "4\n",
      "6\n",
      "8\n",
      "10\n",
      "12\n",
      "14\n",
      "16\n",
      "18\n",
      "20\n"
     ]
    }
   ],
   "source": [
    "for i in range(1,21) :\n",
    "    if i % 2 == 0 :\n",
    "        print(i)"
   ]
  },
  {
   "cell_type": "code",
   "execution_count": 33,
   "id": "275157f9-07a5-453a-9091-2cc938304240",
   "metadata": {},
   "outputs": [
    {
     "name": "stdout",
     "output_type": "stream",
     "text": [
      "1\n",
      "3\n",
      "5\n",
      "7\n",
      "9\n",
      "11\n",
      "13\n",
      "15\n",
      "17\n",
      "19\n"
     ]
    }
   ],
   "source": [
    "# örn 13 :\n",
    "for i in range(1,21) :\n",
    "    if i % 2 == 1 :\n",
    "        print(i)"
   ]
  },
  {
   "cell_type": "code",
   "execution_count": 34,
   "id": "064195c2-462f-490e-800a-f7baea8eae36",
   "metadata": {},
   "outputs": [
    {
     "name": "stdout",
     "output_type": "stream",
     "text": [
      "1\n",
      "3\n",
      "5\n",
      "7\n",
      "9\n",
      "11\n",
      "13\n",
      "15\n",
      "17\n",
      "19\n"
     ]
    }
   ],
   "source": [
    "for i in range(1, 21, 2):\n",
    "    print(i)"
   ]
  },
  {
   "cell_type": "code",
   "execution_count": 36,
   "id": "7c8512e0-4cf7-47a7-bb72-0be73996cfef",
   "metadata": {},
   "outputs": [
    {
     "name": "stdout",
     "output_type": "stream",
     "text": [
      "15\n",
      "30\n",
      "45\n",
      "60\n",
      "75\n",
      "90\n"
     ]
    }
   ],
   "source": [
    "# örn 14 :\n",
    "for i in range(1, 100) :\n",
    "    if i % 15 == 0 :\n",
    "        print(i)"
   ]
  },
  {
   "cell_type": "code",
   "execution_count": 1,
   "id": "ebf218e2-b71d-42f1-b0f0-98035702759f",
   "metadata": {},
   "outputs": [
    {
     "name": "stdout",
     "output_type": "stream",
     "text": [
      "1\n",
      "2\n",
      "3\n",
      "4\n",
      "5\n",
      "6\n",
      "7\n",
      "8\n",
      "9\n",
      "10\n",
      "11\n",
      "12\n"
     ]
    }
   ],
   "source": [
    "# örn 15 :\n",
    "for i in range(1,13) :\n",
    "    if i < 13 :\n",
    "        print(i)"
   ]
  },
  {
   "cell_type": "code",
   "execution_count": 3,
   "id": "0a244f83-f929-4f0a-b9af-23b584935176",
   "metadata": {},
   "outputs": [
    {
     "name": "stdin",
     "output_type": "stream",
     "text": [
      "Bir sayı giriniz :  5\n"
     ]
    },
    {
     "name": "stdout",
     "output_type": "stream",
     "text": [
      "0\n",
      "1\n",
      "2\n",
      "3\n",
      "4\n"
     ]
    }
   ],
   "source": [
    "sayı = int(input(\"Bir sayı giriniz : \"))\n",
    "\n",
    "for i in range(sayı) :\n",
    "    print(i)"
   ]
  },
  {
   "cell_type": "code",
   "execution_count": 5,
   "id": "e1cd78ef-8f41-4399-b6a8-f8f748df7df7",
   "metadata": {},
   "outputs": [
    {
     "name": "stdin",
     "output_type": "stream",
     "text": [
      "birinci kenarı gir :  5\n",
      "ikinci kenarı gir :  7\n"
     ]
    },
    {
     "name": "stdout",
     "output_type": "stream",
     "text": [
      "Dikdörtgen alanı : 35\n",
      "Dikdörtgen Çevresi : 24\n"
     ]
    }
   ],
   "source": [
    "# örn 16 :\n",
    "kenar1 = int(input(\"birinci kenarı gir : \"))\n",
    "kenar2 = int(input(\"ikinci kenarı gir : \"))\n",
    "\n",
    "çevre = 2 * (kenar1 + kenar2)\n",
    "alan = kenar1 * kenar2\n",
    "\n",
    "print(\"Dikdörtgen alanı : {}\".format(alan))\n",
    "print(\"Dikdörtgen Çevresi : {}\".format(çevre))"
   ]
  },
  {
   "cell_type": "code",
   "execution_count": 8,
   "id": "b3b77aa9-d3ad-4044-ac97-ae9e9c1f2b4c",
   "metadata": {},
   "outputs": [
    {
     "name": "stdin",
     "output_type": "stream",
     "text": [
      "bir metin giriniz :  Çekoslavakyalılaştıramadıklarımızdan mısınız?\n"
     ]
    },
    {
     "name": "stdout",
     "output_type": "stream",
     "text": [
      "Ç\n",
      "e\n",
      "k\n",
      "o\n",
      "s\n",
      "l\n",
      "a\n",
      "v\n",
      "a\n",
      "k\n",
      "y\n",
      "a\n",
      "l\n",
      "ı\n",
      "l\n",
      "a\n",
      "ş\n",
      "t\n",
      "ı\n",
      "r\n",
      "a\n",
      "m\n",
      "a\n",
      "d\n",
      "ı\n",
      "k\n",
      "l\n",
      "a\n",
      "r\n",
      "ı\n",
      "m\n",
      "ı\n",
      "z\n",
      "d\n",
      "a\n",
      "n\n",
      " \n",
      "m\n",
      "ı\n",
      "s\n",
      "ı\n",
      "n\n",
      "ı\n",
      "z\n",
      "?\n"
     ]
    }
   ],
   "source": [
    "# örn 17 :\n",
    "metin = input(\"bir metin giriniz : \")\n",
    "sayac = 0\n",
    "\n",
    "while sayac < len(metin) :\n",
    "    print(metin[sayac])\n",
    "    sayac += 1"
   ]
  },
  {
   "cell_type": "code",
   "execution_count": 10,
   "id": "30cef0f0-b94d-4984-b2d3-9534f9fa9caf",
   "metadata": {},
   "outputs": [
    {
     "name": "stdin",
     "output_type": "stream",
     "text": [
      "ilk sayı :  10\n",
      "ikinci sayı :  15\n"
     ]
    },
    {
     "name": "stdout",
     "output_type": "stream",
     "text": [
      "10 ile 15 arasındaki sayıların toplamı : 50\n"
     ]
    }
   ],
   "source": [
    "# örn 18 :\n",
    "sayı1 = int(input(\"ilk sayı : \"))\n",
    "sayı2 = int(input(\"ikinci sayı : \"))\n",
    "toplam = 0 ;\n",
    "\n",
    "for i in range(sayı1 + 1, sayı2) :\n",
    "    toplam += i\n",
    "print(\"{0} ile {1} arasındaki sayıların toplamı : {2}\".format(sayı1, sayı2, toplam))"
   ]
  },
  {
   "cell_type": "code",
   "execution_count": 12,
   "id": "80b08ac3-2e60-42fb-9569-641e68d7c48d",
   "metadata": {},
   "outputs": [
    {
     "name": "stdin",
     "output_type": "stream",
     "text": [
      "Bir sayı gir : 17\n"
     ]
    },
    {
     "name": "stdout",
     "output_type": "stream",
     "text": [
      "Girilen sayı asal\n"
     ]
    }
   ],
   "source": [
    "# örn 19 :                       !!!! tekrar bak\n",
    "\n",
    "sayı = int(input(\"Bir sayı gir :\"))\n",
    "sayac = 0\n",
    "\n",
    "for i in range(2, sayı) :\n",
    "    if sayı % i == 0 :\n",
    "        sayac += 1\n",
    "        break\n",
    "if sayac != 0 :\n",
    "    print(\"Girilen sayı asal değil\")\n",
    "else:\n",
    "    print(\"Girilen sayı asal\")"
   ]
  },
  {
   "cell_type": "code",
   "execution_count": 14,
   "id": "98225ad3-63d4-4081-ba36-b015685d5642",
   "metadata": {},
   "outputs": [
    {
     "name": "stdin",
     "output_type": "stream",
     "text": [
      "Bir sayı giriniz :  15\n"
     ]
    },
    {
     "name": "stdout",
     "output_type": "stream",
     "text": [
      "Tek sayıların toplamı : 49\n",
      "Çift sayıların toplamı : 56\n"
     ]
    }
   ],
   "source": [
    "# örn 20 :\n",
    "sayı = int(input(\"Bir sayı giriniz : \"))\n",
    "tektoplam = 0\n",
    "cifttoplam = 0\n",
    "\n",
    "for i in range (1, sayı):\n",
    "    if i % 2 == 0 :\n",
    "        cifttoplam += i\n",
    "    else :\n",
    "        tektoplam += i\n",
    "\n",
    "print(\"Tek sayıların toplamı : {}\".format(tektoplam))\n",
    "print(\"Çift sayıların toplamı : {}\".format(cifttoplam))"
   ]
  },
  {
   "cell_type": "code",
   "execution_count": 21,
   "id": "330a09c3-6d38-4de5-9e6d-d0de9e8397d6",
   "metadata": {},
   "outputs": [
    {
     "name": "stdin",
     "output_type": "stream",
     "text": [
      "Maaşı giriniz :  1000\n",
      "Zam oranı(%) :  10\n"
     ]
    },
    {
     "name": "stdout",
     "output_type": "stream",
     "text": [
      "Zamlı maaş :  1100.0\n"
     ]
    }
   ],
   "source": [
    "# 21 :\n",
    "maaş = int(input(\"Maaşı giriniz : \"))\n",
    "zam = int(input(\"Zam oranı(%) : \"))\n",
    "yenimaaş = maaş + (maaş * zam) / 100\n",
    "\n",
    "print(\"Zamlı maaş : \", yenimaaş)"
   ]
  },
  {
   "cell_type": "code",
   "execution_count": 22,
   "id": "9524eb57-996d-4810-a8c7-ace6877a5fde",
   "metadata": {},
   "outputs": [
    {
     "name": "stdin",
     "output_type": "stream",
     "text": [
      "Yarıçapı giriniz :  25\n"
     ]
    },
    {
     "name": "stdout",
     "output_type": "stream",
     "text": [
      "157.0\n",
      "1962.5\n"
     ]
    }
   ],
   "source": [
    "# 22 :\n",
    "r = int(input(\"Yarıçapı giriniz : \"))\n",
    "pi = 3.14\n",
    "cevre = 2 * pi * r\n",
    "alan = pi * r** 2\n",
    "\n",
    "print(cevre)\n",
    "print(alan)"
   ]
  },
  {
   "cell_type": "code",
   "execution_count": 23,
   "id": "9f99b640-dbcb-45a5-820f-08f17864d0a3",
   "metadata": {},
   "outputs": [],
   "source": [
    "# 23 : Fonksiyon sonra bak "
   ]
  },
  {
   "cell_type": "code",
   "execution_count": 26,
   "id": "fd50c7e1-6a57-4c04-bda9-b0a2b883c776",
   "metadata": {},
   "outputs": [
    {
     "name": "stdout",
     "output_type": "stream",
     "text": [
      "15 sayısı 5 in katıdır.\n",
      "85 sayısı 5 in katıdır.\n",
      "65 sayısı 5 in katıdır.\n",
      "30 sayısı 5 in katıdır.\n",
      "95 sayısı 5 in katıdır.\n",
      "10 sayısı 5 in katıdır.\n",
      "20 sayısı 5 in katıdır.\n",
      "55 sayısı 5 in katıdır.\n",
      "5 sayısı 5 in katıdır.\n",
      "5 in katı olan sayı adedi : 18\n"
     ]
    }
   ],
   "source": [
    "# 24 :\n",
    "sayilar = [18,15,22,19,85,32,65,30,95,10,12,20,32,55,34,28,101,5,4,32]\n",
    "\n",
    "for sayi in sayilar :\n",
    "    if sayi % 5 == 0 :\n",
    "        print(\"{} sayısı 5 in katıdır.\".format(sayi))\n",
    "        sayac += 1\n",
    "\n",
    "print(\"5 in katı olan sayı adedi : \" + str(sayac))"
   ]
  },
  {
   "cell_type": "code",
   "execution_count": 14,
   "id": "d13a116c-ed3a-4ed9-b326-250bfec6750e",
   "metadata": {},
   "outputs": [
    {
     "name": "stdin",
     "output_type": "stream",
     "text": [
      "Başlangıç sayısı giriniz :  20\n",
      "bitiş sayısı giriniz :  40\n"
     ]
    },
    {
     "name": "stdout",
     "output_type": "stream",
     "text": [
      "Ortalama 30.0\n"
     ]
    }
   ],
   "source": [
    "# 25 :   \n",
    "baslangıc = int(input(\"Başlangıç sayısı giriniz : \")) # anlamadım bi daha bak\n",
    "bitis = int(input(\"bitiş sayısı giriniz : \"))\n",
    "toplam = 0\n",
    "sayac = 0\n",
    "\n",
    "for sayi in range(baslangıc, bitis + 1) :\n",
    "    if sayi % 2 ==0 :\n",
    "        toplam = toplam + sayi\n",
    "        sayac += 1\n",
    "    \n",
    "print(\"Ortalama\", (toplam/sayac))"
   ]
  },
  {
   "cell_type": "code",
   "execution_count": 25,
   "id": "d5ca9476-4a7c-4dcb-9dac-87193e4485a2",
   "metadata": {},
   "outputs": [
    {
     "name": "stdin",
     "output_type": "stream",
     "text": [
      "Baslangıc :  20\n",
      "Bitis :  40\n"
     ]
    },
    {
     "name": "stdout",
     "output_type": "stream",
     "text": [
      "Ort :  30.0\n"
     ]
    }
   ],
   "source": [
    "# 26 :          \n",
    "baslangıc = int(input(\"Baslangıc : \"))\n",
    "bitis = int(input(\"Bitis : \"))\n",
    "toplam = 0\n",
    "\n",
    "for i in range(baslangıc, bitis+1) :\n",
    "    if i % 2 == 1:\n",
    "        toplam = i + toplam\n",
    "        sayac += 1\n",
    "print(\"Ort : \", (toplam / sayac))"
   ]
  },
  {
   "cell_type": "code",
   "execution_count": 13,
   "id": "c5afc09e-34ad-41f4-8494-6f145bd92ff7",
   "metadata": {},
   "outputs": [
    {
     "name": "stdin",
     "output_type": "stream",
     "text": [
      "Başlangıç Sayısı : 20\n",
      "Bitiş Sayısı : 40\n"
     ]
    },
    {
     "name": "stdout",
     "output_type": "stream",
     "text": [
      "Ortalama 30.0\n"
     ]
    }
   ],
   "source": [
    "\n",
    "toplam=0\n",
    "sayac=0\n",
    "baslangic = input(\"Başlangıç Sayısı :\")\n",
    "bitis = input(\"Bitiş Sayısı :\")\n",
    "for sayi in range (int(baslangic), int(bitis)+1):\n",
    "    if(sayi%2==1):\n",
    "        toplam=toplam+sayi\n",
    "        sayac=sayac+1\n",
    "print('Ortalama',(toplam/sayac))"
   ]
  },
  {
   "cell_type": "code",
   "execution_count": 18,
   "id": "8879b288-fffa-4c53-8248-525fd69d1631",
   "metadata": {},
   "outputs": [
    {
     "name": "stdin",
     "output_type": "stream",
     "text": [
      "baslangıc :  25\n",
      "Bitis :  78\n"
     ]
    },
    {
     "name": "stdout",
     "output_type": "stream",
     "text": [
      "ortalama 51.5\n"
     ]
    }
   ],
   "source": [
    "# 27 :\n",
    "toplam = 0\n",
    "sayac = 0\n",
    "baslangıc = int(input(\"baslangıc : \"))\n",
    "bitis = int(input(\"Bitis : \"))\n",
    "\n",
    "for i in range(baslangıc, bitis + 1):\n",
    "    toplam += i\n",
    "    sayac += 1\n",
    "print(\"ortalama\", toplam / sayac)"
   ]
  },
  {
   "cell_type": "code",
   "execution_count": 21,
   "id": "5e467a46-08c2-4b06-8e0f-ee9637b9f482",
   "metadata": {},
   "outputs": [
    {
     "name": "stdin",
     "output_type": "stream",
     "text": [
      "baslangıc :  20\n",
      "Bitis :  75\n"
     ]
    },
    {
     "name": "stdout",
     "output_type": "stream",
     "text": [
      "Toplam :  2660\n"
     ]
    }
   ],
   "source": [
    "# 28 :\n",
    "toplam = 0\n",
    "\n",
    "baslangıc = int(input(\"baslangıc : \"))\n",
    "bitis = int(input(\"Bitis : \"))\n",
    "\n",
    "for i in range(baslangıc, bitis + 1) :\n",
    "    toplam += i\n",
    "   \n",
    "print(\"Toplam : \", toplam)"
   ]
  },
  {
   "cell_type": "code",
   "execution_count": 24,
   "id": "805f7c17-4d33-4448-acf6-37fa823021ec",
   "metadata": {},
   "outputs": [
    {
     "name": "stdin",
     "output_type": "stream",
     "text": [
      "baslangıc :  22\n",
      "Bitis :  44\n"
     ]
    },
    {
     "name": "stdout",
     "output_type": "stream",
     "text": [
      "Aradaki Çift Sayıların Toplamı :  396\n"
     ]
    }
   ],
   "source": [
    "# 29 : \n",
    "baslangıc = int(input(\"baslangıc : \"))\n",
    "bitis = int(input(\"Bitis : \"))\n",
    "toplam = 0\n",
    "\n",
    "for i in range(baslangıc, bitis + 1): \n",
    "    if i % 2 == 0:\n",
    "        toplam += i\n",
    "\n",
    "print(\"Aradaki Çift Sayıların Toplamı : \", toplam)"
   ]
  },
  {
   "cell_type": "code",
   "execution_count": 26,
   "id": "9ce5114f-278e-4244-becc-7e2edfacb5d1",
   "metadata": {},
   "outputs": [
    {
     "name": "stdin",
     "output_type": "stream",
     "text": [
      "baslangıc :  15\n",
      "Bitis :  75\n"
     ]
    },
    {
     "name": "stdout",
     "output_type": "stream",
     "text": [
      "Aradaki tek sayıların toplamı : 1395\n"
     ]
    }
   ],
   "source": [
    "# 30 :\n",
    "baslangıc = int(input(\"baslangıc : \"))\n",
    "bitis = int(input(\"Bitis : \"))\n",
    "toplam = 0\n",
    "\n",
    "for i in range(baslangıc, bitis + 1):\n",
    "    if i % 2 != 0 :\n",
    "        toplam += i\n",
    "        \n",
    "print(\"Aradaki tek sayıların toplamı :\", toplam)"
   ]
  },
  {
   "cell_type": "code",
   "execution_count": 28,
   "id": "c94ab726-e94c-4e9c-942a-5f3c476ce260",
   "metadata": {},
   "outputs": [],
   "source": [
    "# 31-32-33 işlemedik"
   ]
  },
  {
   "cell_type": "code",
   "execution_count": 29,
   "id": "e58f860a-d088-4c4b-8305-89898bb458cb",
   "metadata": {},
   "outputs": [
    {
     "name": "stdin",
     "output_type": "stream",
     "text": [
      "1. not giriniz :  50\n",
      "2. not giriniz :  60\n",
      "3. not giriniz :  70\n"
     ]
    },
    {
     "name": "stdout",
     "output_type": "stream",
     "text": [
      "Dersin ortalaması: 60.0\n"
     ]
    }
   ],
   "source": [
    "# 34 :\n",
    "not1 = float(input(\"1. not giriniz : \"))\n",
    "not2 = float(input(\"2. not giriniz : \"))\n",
    "not3 = float(input(\"3. not giriniz : \"))\n",
    "\n",
    "ort = (not1 + not2 + not3) / 3\n",
    "\n",
    "print(\"Dersin ortalaması: {}\".format(ort))"
   ]
  },
  {
   "cell_type": "code",
   "execution_count": 30,
   "id": "ec08c609-956c-43ea-947f-41d6c9622cb5",
   "metadata": {},
   "outputs": [
    {
     "name": "stdin",
     "output_type": "stream",
     "text": [
      "Sayı giriniz :  13\n"
     ]
    },
    {
     "name": "stdout",
     "output_type": "stream",
     "text": [
      "Girilen sayı tek.\n"
     ]
    }
   ],
   "source": [
    "# 35 :\n",
    "sayi = int(input(\"Sayı giriniz : \"))\n",
    "\n",
    "if sayi % 2 == 0 :\n",
    "    print(\"Girilen sayı çift.\")\n",
    "else :\n",
    "    print(\"Girilen sayı tek.\")"
   ]
  },
  {
   "cell_type": "code",
   "execution_count": 32,
   "id": "c66979c6-b287-417a-a4f1-1b6b068c764d",
   "metadata": {},
   "outputs": [
    {
     "name": "stdin",
     "output_type": "stream",
     "text": [
      "Kaldığınız süreyi girin :  3\n"
     ]
    },
    {
     "name": "stdout",
     "output_type": "stream",
     "text": [
      "Ödenmesi gereken miktar : 12\n"
     ]
    }
   ],
   "source": [
    "# 36 :\n",
    "\n",
    "saat = int(input(\"Kaldığınız süreyi girin : \"))\n",
    "ucret = 0\n",
    "\n",
    "if saat <= 1 :\n",
    "    ucret = 5\n",
    "elif saat <= 5:\n",
    "    ucret = saat * 4\n",
    "else : \n",
    "    ucret = saat * 3\n",
    "    \n",
    "print(\"Ödenmesi gereken miktar : {}\".format(ucret))"
   ]
  },
  {
   "cell_type": "code",
   "execution_count": 33,
   "id": "8c28e7ef-7f94-42f9-8b83-6b49a1505447",
   "metadata": {},
   "outputs": [
    {
     "name": "stdin",
     "output_type": "stream",
     "text": [
      "Bir ifade giriniz :  Hello World\n"
     ]
    },
    {
     "name": "stdout",
     "output_type": "stream",
     "text": [
      "Hello World\n",
      "Hello World\n",
      "Hello World\n",
      "Hello World\n",
      "Hello World\n",
      "Hello World\n",
      "Hello World\n",
      "Hello World\n",
      "Hello World\n",
      "Hello World\n"
     ]
    }
   ],
   "source": [
    "# 37 :\n",
    "metin = input(\"Bir ifade giriniz : \")\n",
    "\n",
    "for i in range(10):\n",
    "    print(metin)"
   ]
  },
  {
   "cell_type": "code",
   "execution_count": 34,
   "id": "6bbb7e7d-0627-409a-8051-25d283da8171",
   "metadata": {},
   "outputs": [
    {
     "name": "stdin",
     "output_type": "stream",
     "text": [
      "Bir ifade giriniz :  hi!\n",
      "Bir sayı giriniz :  5\n"
     ]
    },
    {
     "name": "stdout",
     "output_type": "stream",
     "text": [
      "hi!\n",
      "hi!\n",
      "hi!\n",
      "hi!\n",
      "hi!\n"
     ]
    }
   ],
   "source": [
    "# 38 :\n",
    "metin = input(\"Bir ifade giriniz : \")\n",
    "sayi = int(input(\"Bir sayı giriniz : \"))\n",
    "\n",
    "for i in range(sayi): \n",
    "    print(metin)"
   ]
  },
  {
   "cell_type": "code",
   "execution_count": 11,
   "id": "aff6a8b7-aaeb-45d3-a69a-c0600a975399",
   "metadata": {},
   "outputs": [
    {
     "name": "stdin",
     "output_type": "stream",
     "text": [
      "Virgül ile sayilari giriniz : 1,2,3,4\n"
     ]
    },
    {
     "name": "stdout",
     "output_type": "stream",
     "text": [
      "girdiğimiz sayilar : 1,2,3,4\n",
      "Gridiğiniz sayıların toplamı : 10\n"
     ]
    }
   ],
   "source": [
    "# 39 :\n",
    "sayilar = input(\"Virgül ile sayilari giriniz :\")\n",
    "print(\"girdiğimiz sayilar : {}\".format(sayilar))\n",
    "\n",
    "sayilarin_listesi = sayilar.split(\",\")\n",
    "toplam = 0\n",
    "\n",
    "for i in sayilarin_listesi :\n",
    "    toplam += int(i)\n",
    "    \n",
    "print(\"Gridiğiniz sayıların toplamı : {}\".format(toplam))"
   ]
  },
  {
   "cell_type": "code",
   "execution_count": 14,
   "id": "220351f4-29e8-4751-8a48-38011da6d626",
   "metadata": {},
   "outputs": [
    {
     "name": "stdin",
     "output_type": "stream",
     "text": [
      "Virgül ile sayıları giriniz : 1, 2, 3, 4\n"
     ]
    },
    {
     "name": "stdout",
     "output_type": "stream",
     "text": [
      "Gridiğiniz sayıların toplamı : 2.5\n"
     ]
    }
   ],
   "source": [
    "#40 :\n",
    "sayilar = input(\"Virgül ile sayıları giriniz :\")\n",
    "\n",
    "sayilarin_listesi = sayilar.split(\",\")\n",
    "toplam = 0\n",
    "\n",
    "for i in sayilarin_listesi :\n",
    "    toplam += int(i)\n",
    "    \n",
    "print(\"Gridiğiniz sayıların toplamı : {}\".format(toplam / len(sayilarin_listesi)))"
   ]
  },
  {
   "cell_type": "code",
   "execution_count": 17,
   "id": "82501865-2295-4d09-bd89-5fe00f9b493d",
   "metadata": {},
   "outputs": [
    {
     "name": "stdin",
     "output_type": "stream",
     "text": [
      "sayi1 : 3\n",
      "sayi2 :  12\n",
      "sayi3 :  4\n"
     ]
    },
    {
     "name": "stdout",
     "output_type": "stream",
     "text": [
      "3\n",
      "7\n",
      "11\n"
     ]
    }
   ],
   "source": [
    "# 41 :\n",
    "başlangıc = int(input(\"sayi1 :\"))\n",
    "bitis = int(input(\"sayi2 : \"))\n",
    "artiş = int(input(\"sayi3 : \"))\n",
    "\n",
    "for i in range(başlangıc, bitis, artiş):\n",
    "    print(i)"
   ]
  },
  {
   "cell_type": "code",
   "execution_count": 2,
   "id": "06772051-e405-409e-8608-c0c238035c3e",
   "metadata": {},
   "outputs": [
    {
     "name": "stdout",
     "output_type": "stream",
     "text": [
      "100 e kadarki çift sayıların toplamı : 2652\n"
     ]
    }
   ],
   "source": [
    "# 42 :\n",
    "sayac = 0\n",
    "toplam = 0\n",
    "while sayac <= 100 :\n",
    "    sayac = sayac + 2\n",
    "    toplam = toplam + sayac\n",
    "\n",
    "print(\"100 e kadarki çift sayıların toplamı : {}\".format(toplam))"
   ]
  },
  {
   "cell_type": "code",
   "execution_count": 3,
   "id": "c5a37401-648c-489f-ad87-1855e550c162",
   "metadata": {},
   "outputs": [
    {
     "name": "stdout",
     "output_type": "stream",
     "text": [
      "100 e kadarki tek sayıların toplamı : 2600\n"
     ]
    }
   ],
   "source": [
    "# 43 :\n",
    "sayac = 1\n",
    "toplam = 0\n",
    "while sayac <= 100 :\n",
    "    sayac = sayac + 2\n",
    "    toplam = toplam + sayac\n",
    "\n",
    "print(\"100 e kadarki tek sayıların toplamı : {}\".format(toplam))"
   ]
  },
  {
   "cell_type": "code",
   "execution_count": 6,
   "id": "f2f77446-1f34-4189-9137-315fdbddbc96",
   "metadata": {},
   "outputs": [
    {
     "name": "stdin",
     "output_type": "stream",
     "text": [
      "bir sayi giriniz :  6\n"
     ]
    },
    {
     "name": "stdout",
     "output_type": "stream",
     "text": [
      "Girilen sayıya kadarki sayıların toplamı : 21\n"
     ]
    }
   ],
   "source": [
    "# 44 :\n",
    "sayi = int(input(\"bir sayi giriniz : \"))\n",
    "toplam = 0\n",
    "sayac = 0\n",
    "\n",
    "while sayac < sayi:\n",
    "    sayac += 1\n",
    "    toplam += sayac\n",
    "    \n",
    "print(\"Girilen sayıya kadarki sayıların toplamı : {}\".format(toplam))"
   ]
  },
  {
   "cell_type": "code",
   "execution_count": 12,
   "id": "041388eb-4523-44c4-9abe-f75ac948a356",
   "metadata": {},
   "outputs": [
    {
     "name": "stdin",
     "output_type": "stream",
     "text": [
      "bir sayi giriniz :  9\n"
     ]
    },
    {
     "name": "stdout",
     "output_type": "stream",
     "text": [
      "3\n",
      "5\n",
      "7\n",
      "9\n",
      "Girilen sayıya kadarki tek sayıların toplamı : 24\n"
     ]
    }
   ],
   "source": [
    "# 45 : ?????????????????????????????????????????????????????????????????????\n",
    "\n",
    "#Klavyeden girilen sayıya kadar olan tek sayıların toplamını hesaplayan ve sonucu yazdıran\n",
    "#python kodunu while döngüsü kullanarak yazınız.\n",
    "\n",
    "sayi = int(input(\"bir sayi giriniz : \"))\n",
    "toplam = 0\n",
    "sayac = 1\n",
    "\n",
    "while sayac + 1  < sayi :\n",
    "    sayac += 2\n",
    "    print(sayac)\n",
    "    toplam += sayac\n",
    "    \n",
    "print(\"Girilen sayıya kadarki tek sayıların toplamı : {}\".format(toplam))"
   ]
  },
  {
   "cell_type": "code",
   "execution_count": 3,
   "id": "57876427-01d2-4083-8ad3-db18f10a67ad",
   "metadata": {},
   "outputs": [
    {
     "name": "stdin",
     "output_type": "stream",
     "text": [
      "Bir Sayı Giriniz:  9\n"
     ]
    },
    {
     "name": "stdout",
     "output_type": "stream",
     "text": [
      "9  sayısına kadar olan tek sayıların toplamı:35\n"
     ]
    }
   ],
   "source": [
    "sayac = 1\n",
    "toplam = 0\n",
    "bitis=int(input(\"Bir Sayı Giriniz: \"))\n",
    "while sayac <= bitis:\n",
    "    sayac = sayac + 2\n",
    "    toplam = toplam + sayac\n",
    " \n",
    "print(bitis,\" sayısına kadar olan tek sayıların toplamı:{0}\".format(toplam))"
   ]
  },
  {
   "cell_type": "code",
   "execution_count": 33,
   "id": "d771eaf1-1e33-45bf-b6f3-e1d7a502be60",
   "metadata": {},
   "outputs": [
    {
     "name": "stdin",
     "output_type": "stream",
     "text": [
      "bir sayi giriniz :  9\n"
     ]
    },
    {
     "name": "stdout",
     "output_type": "stream",
     "text": [
      "1\n",
      "3\n",
      "5\n",
      "7\n",
      "9\n",
      "Girilen sayıya kadarki tek sayıların toplamı : 25\n"
     ]
    }
   ],
   "source": [
    "\n",
    "sayi = int(input(\"bir sayi giriniz : \"))\n",
    "toplam = 0\n",
    "sayac = -1\n",
    "\n",
    "while sayac  < sayi - 1 :\n",
    "    sayac += 2\n",
    "    print(sayac)\n",
    "    toplam += sayac\n",
    "    \n",
    "print(\"Girilen sayıya kadarki tek sayıların toplamı : {}\".format(toplam))"
   ]
  },
  {
   "cell_type": "code",
   "execution_count": 39,
   "id": "a0fee657-fb5f-4e4b-ab28-5f9f5d048c53",
   "metadata": {},
   "outputs": [
    {
     "name": "stdin",
     "output_type": "stream",
     "text": [
      "bir sayi giriniz :  9\n"
     ]
    },
    {
     "name": "stdout",
     "output_type": "stream",
     "text": [
      "2\n",
      "4\n",
      "6\n",
      "8\n",
      "10\n",
      "Girilen sayıya kadarki cift sayıların toplamı : 30\n"
     ]
    }
   ],
   "source": [
    "# 46 :   ?????????????????????????????????????????????????????????????????????????????? \n",
    "    sayi = int(input(\"bir sayi giriniz : \"))\n",
    "toplam = 0\n",
    "sayac = 0\n",
    "\n",
    "while sayac  <= sayi :\n",
    "    sayac += 2\n",
    "    print(sayac)\n",
    "    toplam += sayac\n",
    "    \n",
    "print(\"Girilen sayıya kadarki cift sayıların toplamı : {}\".format(toplam))"
   ]
  },
  {
   "cell_type": "code",
   "execution_count": 41,
   "id": "62df01f6-0c54-4f74-83ca-9dbd2faf6402",
   "metadata": {},
   "outputs": [
    {
     "name": "stdin",
     "output_type": "stream",
     "text": [
      "Bir metin giriniz :  merhaba dünya\n"
     ]
    },
    {
     "name": "stdout",
     "output_type": "stream",
     "text": [
      "m\n",
      "e\n",
      "r\n",
      "h\n",
      "a\n",
      "b\n",
      "a\n",
      " \n",
      "d\n",
      "ü\n",
      "n\n",
      "y\n",
      "a\n"
     ]
    }
   ],
   "source": [
    "# 47 :\n",
    "metin = input(\"Bir metin giriniz : \")\n",
    "sayac = 0\n",
    "\n",
    "while sayac < len(metin):\n",
    "    print(metin[sayac])\n",
    "    sayac += 1"
   ]
  },
  {
   "cell_type": "code",
   "execution_count": 44,
   "id": "5cfd61f3-c37e-4250-bd68-c394bcb1b52d",
   "metadata": {},
   "outputs": [
    {
     "name": "stdin",
     "output_type": "stream",
     "text": [
      "Bir metin giriniz :  merhaba dünya\n"
     ]
    },
    {
     "name": "stdout",
     "output_type": "stream",
     "text": [
      "['m', 'e', 'r', 'h', 'a', 'b', 'a', ' ', 'd', 'ü', 'n', 'y', 'a']\n",
      "m\n",
      "e\n",
      "r\n",
      "h\n",
      "a\n",
      "b\n",
      "a\n",
      " \n",
      "d\n",
      "ü\n",
      "n\n",
      "y\n",
      "a\n"
     ]
    }
   ],
   "source": [
    "metin = input(\"Bir metin giriniz : \")\n",
    "\n",
    "print(list(metin))\n",
    "\n",
    "for i in list(metin):\n",
    "    print(i)"
   ]
  },
  {
   "cell_type": "code",
   "execution_count": null,
   "id": "cc41522d-5137-4e7e-9efd-4069b3a2cbb0",
   "metadata": {},
   "outputs": [],
   "source": [
    "# sorted() : Fonksiyondur. iterable ın elemanlarını artan ve ya azalan sırayla liste halinde döndürür.\n",
    "   \n",
    "# kullanım sekli :\n",
    "#     sorted(iterable, key=None, reverse=False)\n",
    "    \n",
    "# sort() : metoddur. Listenin eleamnlarını sıralar.\n",
    "\n",
    "# kullanım şekli :\n",
    "#     list.sort(key=..., reverse=...)\n",
    "    \n",
    "\n",
    "# sort() ve sorted() arasındaki en basit fark şudur: sort() listeyi doğrudan değiştirir ve herhangi bir değer döndürmez,\n",
    "#     sorted() listeyi değiştirmez ve sıralanmış listeyi döndürür.\n",
    "    \n",
    "    "
   ]
  },
  {
   "cell_type": "code",
   "execution_count": 9,
   "id": "278991ac-66a1-4fae-9753-0b4b68f6f241",
   "metadata": {},
   "outputs": [
    {
     "data": {
      "text/plain": [
       "11.03183737263398"
      ]
     },
     "execution_count": 9,
     "metadata": {},
     "output_type": "execute_result"
    }
   ],
   "source": [
    "# 48 :\n",
    "import random\n",
    "\n",
    "# random.random()\n",
    "\n",
    "random.uniform(0,100) # float rastgele sayı üretir."
   ]
  },
  {
   "cell_type": "code",
   "execution_count": 7,
   "id": "da5b6820-94b4-49ae-8af5-71f992d79192",
   "metadata": {},
   "outputs": [
    {
     "name": "stdout",
     "output_type": "stream",
     "text": [
      "0.8744\n",
      "0.4366\n",
      "0.9773\n",
      "0.5369\n",
      "0.0884\n",
      "0.5081\n",
      "0.1159\n",
      "0.9298\n",
      "0.0803\n",
      "0.8829\n"
     ]
    }
   ],
   "source": [
    "for i in range(10) : \n",
    "    print(\"{:.4f}\".format(random.random())) # virgülden sonra 4 basamağı olan 10 tane rastgele sayı üretti."
   ]
  },
  {
   "cell_type": "code",
   "execution_count": 18,
   "id": "27ec24de-5d99-4c82-919d-e8b85e1d3057",
   "metadata": {},
   "outputs": [
    {
     "name": "stdout",
     "output_type": "stream",
     "text": [
      "41\n",
      "49\n",
      "86\n",
      "8\n",
      "46\n",
      "25\n",
      "95\n",
      "38\n",
      "47\n",
      "92\n"
     ]
    }
   ],
   "source": [
    "import random\n",
    "\n",
    "for i in range(10):\n",
    "    \n",
    "    print( random.randint(0,100)) # randint integer rastgele sayı üretir.\n",
    "\n",
    "    "
   ]
  },
  {
   "cell_type": "code",
   "execution_count": 26,
   "id": "e38f1e54-e8f7-4d16-a0be-6559486beb4f",
   "metadata": {},
   "outputs": [
    {
     "name": "stdout",
     "output_type": "stream",
     "text": [
      "0.584646554458109\n",
      "2.8829933024458123\n",
      "10\n",
      "veli\n"
     ]
    }
   ],
   "source": [
    "import random\n",
    "\n",
    "print(random.random())  \n",
    "print(random.uniform(2,5))\n",
    "print(random.randint(3,92))\n",
    "\n",
    "liste = 'ali', 'veli', 'ahmet','mehmet', 'celal', 'selin', 'nihat' # iterable herhangibi şey için.\n",
    "\n",
    "print(random.choice(liste))"
   ]
  },
  {
   "cell_type": "code",
   "execution_count": 11,
   "id": "eae033a5-0f4a-4282-a2de-285cdcf18bef",
   "metadata": {},
   "outputs": [],
   "source": [
    "# 49 :Kullanıcının klavyeden kilo bilgisi alınarak kilo 50 ve altında ise zayıfsın, 50-80 arası fitsin, 80 ve üstü ise kilo almışsın şeklinde ekranda yazdıran python kodunu yazınız."
   ]
  },
  {
   "cell_type": "code",
   "execution_count": 14,
   "id": "032e666b-d2c5-4e00-839e-3f2c405e3abf",
   "metadata": {},
   "outputs": [
    {
     "name": "stdin",
     "output_type": "stream",
     "text": [
      "Lütfen kilonuzu giriniz:  83\n"
     ]
    },
    {
     "name": "stdout",
     "output_type": "stream",
     "text": [
      "kilo almışsınız\n"
     ]
    }
   ],
   "source": [
    "kilo = int(input(\"Lütfen kilonuzu giriniz: \"))\n",
    "\n",
    "if kilo <= 50 :\n",
    "    print(\"zayıfsınız\")\n",
    "elif 50 < kilo < 80 :\n",
    "    print(\"fitsiniz\")\n",
    "else :\n",
    "    print(\"kilo almışsınız\")"
   ]
  },
  {
   "cell_type": "code",
   "execution_count": null,
   "id": "2218ab3d-19b8-49e0-82a3-1bc78670cc28",
   "metadata": {},
   "outputs": [],
   "source": [
    "# 50"
   ]
  },
  {
   "cell_type": "code",
   "execution_count": 18,
   "id": "73cabf60-40d9-4156-a7f6-902da3346a3c",
   "metadata": {},
   "outputs": [
    {
     "name": "stdin",
     "output_type": "stream",
     "text": [
      "yaş :  54\n"
     ]
    },
    {
     "name": "stdout",
     "output_type": "stream",
     "text": [
      "orta yaşlı\n"
     ]
    }
   ],
   "source": [
    "yas = int(input(\"yaş : \"))\n",
    "\n",
    "if yas < 18 :\n",
    "    print(\"çoçuk\")\n",
    "elif 18 <= yas <40 :\n",
    "    print(\"genç\")\n",
    "elif 40 <= yas < 60 :\n",
    "    print(\"orta yaşlı\")\n",
    "else :\n",
    "    print(\"yaşlı\")"
   ]
  },
  {
   "cell_type": "code",
   "execution_count": 10,
   "id": "56261937-ca3d-443f-bf59-462a5bb9a9e4",
   "metadata": {},
   "outputs": [
    {
     "name": "stdin",
     "output_type": "stream",
     "text": [
      "iki sayı giriniz :  2 3\n",
      "Bir operatör işareti giriniz( +, -, /, *) :  +\n"
     ]
    },
    {
     "name": "stdout",
     "output_type": "stream",
     "text": [
      "2+3 = 5\n"
     ]
    }
   ],
   "source": [
    "# 51 :\n",
    "\n",
    "num1, num2 = map(int, input(\"iki sayı giriniz : \").split())\n",
    "\n",
    "operator_isareti = input(\"Bir operatör işareti giriniz( +, -, /, *) : \")\n",
    "\n",
    "if operator_isareti == \"+\" :\n",
    "    print(str(num1) + \"+\" + str(num2) + \" = \" + str(num1+num2))\n",
    "    "
   ]
  },
  {
   "cell_type": "code",
   "execution_count": 9,
   "id": "ef4916e1-2417-438f-91f7-d9af5a58a997",
   "metadata": {},
   "outputs": [],
   "source": [
    "# 52\n",
    "# Klavyeden girilen bir sayının rakamlarının toplamını bulan ve ekranda gösteren python kodunu yazınız."
   ]
  },
  {
   "cell_type": "code",
   "execution_count": 18,
   "id": "3fad7c20-76fa-4ae9-a658-2cdb9c4bb3f3",
   "metadata": {},
   "outputs": [
    {
     "name": "stdin",
     "output_type": "stream",
     "text": [
      "Bir sayı giriniz :  1254\n"
     ]
    },
    {
     "name": "stdout",
     "output_type": "stream",
     "text": [
      "Girilen sayının rakamları toplamı :  12\n"
     ]
    }
   ],
   "source": [
    "sayi = int(input(\"Bir sayı giriniz : \"))\n",
    "toplam = 0\n",
    "\n",
    "while sayi >= 10 :\n",
    "    son_basamak = sayi % 10\n",
    "    toplam = toplam + son_basamak # toplam += son_basamak\n",
    "    sayi = sayi // 10 \n",
    "print(\"Girilen sayının rakamları toplamı : \", toplam + sayi)"
   ]
  },
  {
   "cell_type": "code",
   "execution_count": 16,
   "id": "263ff8c6-36d9-47ff-9624-b2a4b20faeb6",
   "metadata": {},
   "outputs": [
    {
     "name": "stdin",
     "output_type": "stream",
     "text": [
      "Bir Sayı Giriniz:  1254\n"
     ]
    },
    {
     "name": "stdout",
     "output_type": "stream",
     "text": [
      "Girilen Sayının Rakamları Toplamı 12\n"
     ]
    }
   ],
   "source": [
    "x=int(input(\"Bir Sayı Giriniz: \"))\n",
    "toplam=0\n",
    "while x>=10:\n",
    "  k=x%10\n",
    "  toplam=toplam+k\n",
    "  x=x//10\n",
    "print(\"Girilen Sayının Rakamları Toplamı\",toplam+x)"
   ]
  },
  {
   "cell_type": "code",
   "execution_count": 19,
   "id": "259c193c-2c2e-425f-9b44-8c2a26346b00",
   "metadata": {},
   "outputs": [],
   "source": [
    "# 53"
   ]
  },
  {
   "cell_type": "code",
   "execution_count": 20,
   "id": "b401a69f-3461-40c1-a2b6-6714ea5da024",
   "metadata": {},
   "outputs": [
    {
     "name": "stdout",
     "output_type": "stream",
     "text": [
      "Mon Nov 15 16:06:48 2021\n"
     ]
    }
   ],
   "source": [
    "import time\n",
    "\n",
    "print(time.ctime ())"
   ]
  },
  {
   "cell_type": "code",
   "execution_count": 1,
   "id": "4f9b9cf2-11f4-479f-8fdc-b628b08aa5d8",
   "metadata": {},
   "outputs": [],
   "source": [
    "# 54"
   ]
  },
  {
   "cell_type": "code",
   "execution_count": 2,
   "id": "5193312c-30e2-4b57-a17a-c01e4e24f5f7",
   "metadata": {},
   "outputs": [
    {
     "name": "stdout",
     "output_type": "stream",
     "text": [
      "16/11/2021\n"
     ]
    }
   ],
   "source": [
    "\n",
    "import time\n",
    "print (time.strftime(\"%d/%m/%Y\"))"
   ]
  },
  {
   "cell_type": "code",
   "execution_count": 3,
   "id": "00dd2a0a-8c14-412a-bebb-7c38eca9ad57",
   "metadata": {},
   "outputs": [],
   "source": [
    "# 55"
   ]
  },
  {
   "cell_type": "code",
   "execution_count": 5,
   "id": "bc9ff4a1-fa0c-490f-86e7-680b33966241",
   "metadata": {},
   "outputs": [
    {
     "name": "stdin",
     "output_type": "stream",
     "text": [
      "Sıcaklığı F cinsinden yazınız :  23\n"
     ]
    },
    {
     "name": "stdout",
     "output_type": "stream",
     "text": [
      "23.0 F = -5.0 C dir.\n",
      "None\n"
     ]
    }
   ],
   "source": [
    "f = float(input(\"Sıcaklığı F cinsinden yazınız : \"))\n",
    "\n",
    "c = (f - 32) / 1.8\n",
    "\n",
    "print(print(\"{} F = {} C dir.\".format(f, c)))"
   ]
  },
  {
   "cell_type": "code",
   "execution_count": 6,
   "id": "f7f2d233-a184-4e26-aca6-1dd8e3559a9b",
   "metadata": {},
   "outputs": [],
   "source": [
    "# 56 "
   ]
  },
  {
   "cell_type": "code",
   "execution_count": 33,
   "id": "86caaacc-67d0-45ef-9c59-4aeaba1af6a5",
   "metadata": {},
   "outputs": [
    {
     "name": "stdin",
     "output_type": "stream",
     "text": [
      "Kaç sayı girilsin? :  6\n"
     ]
    },
    {
     "name": "stdout",
     "output_type": "stream",
     "text": [
      "[6]\n"
     ]
    }
   ],
   "source": [
    "# klavyeden girilecek n sayıda sayının en büyük olanını yazdır.\n",
    "\n",
    "adet  = int(input(\"Kaç sayı girilsin? : \"))\n",
    "liste =[]\n",
    "\n",
    "for i in range(1, adet + 1):\n",
    "    liste.append(i)\n",
    "    en_buyuk = liste[-1:-2:-1]\n",
    "print(en_buyuk)"
   ]
  },
  {
   "cell_type": "code",
   "execution_count": 18,
   "id": "378229e8-f92b-4644-83a3-d17cd88ba19b",
   "metadata": {},
   "outputs": [
    {
     "name": "stdout",
     "output_type": "stream",
     "text": [
      "[0, 1, 2]\n"
     ]
    }
   ],
   "source": [
    "a = []\n",
    "for i in range(3):\n",
    "    a.append(i)\n",
    "print(a)"
   ]
  },
  {
   "cell_type": "code",
   "execution_count": 1,
   "id": "7f9608a4-519b-4b42-aa5f-521ab88b344c",
   "metadata": {},
   "outputs": [
    {
     "name": "stdin",
     "output_type": "stream",
     "text": [
      "Kaç sayı girilsin? :  4\n"
     ]
    },
    {
     "name": "stdout",
     "output_type": "stream",
     "text": [
      "4\n"
     ]
    }
   ],
   "source": [
    "adet  = int(input(\"Kaç sayı girilsin? : \"))\n",
    "liste =[]\n",
    "for i in range(1, adet + 1):\n",
    "    liste.append(i)\n",
    "    liste.sort(reverse=True)\n",
    "    en_buyuk = liste[0]\n",
    "print(en_buyuk)"
   ]
  },
  {
   "cell_type": "code",
   "execution_count": 2,
   "id": "d7bb26bb-41bb-4466-a098-7091e29dbf9d",
   "metadata": {},
   "outputs": [
    {
     "name": "stdin",
     "output_type": "stream",
     "text": [
      "Kaç sayı girilsin? :  4\n"
     ]
    },
    {
     "name": "stdout",
     "output_type": "stream",
     "text": [
      "4\n"
     ]
    }
   ],
   "source": [
    "adet  = int(input(\"Kaç sayı girilsin? : \"))\n",
    "liste =[]\n",
    "for i in range(1, adet + 1):\n",
    "    liste.append(i)\n",
    "    liste.sort()\n",
    "    en_buyuk = liste[-1]\n",
    "print(en_buyuk)"
   ]
  },
  {
   "cell_type": "code",
   "execution_count": null,
   "id": "fc57ac27-ddec-4e08-8413-8410bbbccf2b",
   "metadata": {},
   "outputs": [],
   "source": []
  }
 ],
 "metadata": {
  "kernelspec": {
   "display_name": "Python 3",
   "language": "python",
   "name": "python3"
  },
  "language_info": {
   "codemirror_mode": {
    "name": "ipython",
    "version": 3
   },
   "file_extension": ".py",
   "mimetype": "text/x-python",
   "name": "python",
   "nbconvert_exporter": "python",
   "pygments_lexer": "ipython3",
   "version": "3.8.8"
  }
 },
 "nbformat": 4,
 "nbformat_minor": 5
}
