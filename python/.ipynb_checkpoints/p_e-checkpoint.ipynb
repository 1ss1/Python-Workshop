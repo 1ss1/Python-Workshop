{
 "cells": [
  {
   "cell_type": "markdown",
   "id": "39747241-7c75-4951-b048-e65254ab8a0c",
   "metadata": {},
   "source": [
    "# 3)"
   ]
  },
  {
   "cell_type": "markdown",
   "id": "acdcae19-54f3-46fc-9805-69abfd960476",
   "metadata": {},
   "source": [
    "#### The prime factors of 13195 are 5, 7, 13 and 29.\n",
    "\n",
    "#### What is the largest prime factor of the number 600851475143 ?"
   ]
  },
  {
   "cell_type": "code",
   "execution_count": 18,
   "id": "676b77b3-1c4b-46ff-b198-35e81bb3d5fe",
   "metadata": {},
   "outputs": [
    {
     "name": "stdout",
     "output_type": "stream",
     "text": [
      "6857\n"
     ]
    }
   ],
   "source": [
    "def sayi(int1):\n",
    "    bolen = 2\n",
    "    while int1 != 1:\n",
    "        if int1 / bolen == 1:\n",
    "            print(bolen)\n",
    "            break\n",
    "        elif int1 % bolen == 0:\n",
    "            int1 /= bolen\n",
    "        else:\n",
    "              bolen += 1\n",
    "\n",
    "sayi(600851475143)"
   ]
  },
  {
   "cell_type": "code",
   "execution_count": 21,
   "id": "77e31851-55f7-4be5-aeb5-5187f4178839",
   "metadata": {},
   "outputs": [
    {
     "name": "stdout",
     "output_type": "stream",
     "text": [
      "Max simple divider:  6857\n"
     ]
    }
   ],
   "source": [
    "# 2nd solution:\n",
    "def IsSimpleNumber(n):\n",
    "\tfor i in range(2, n):\n",
    "\t\tif n % i == 0:\n",
    "\t\t\treturn False\n",
    "\t\t\tbreak\n",
    "\telse:\n",
    "\t\treturn True\n",
    "def NextDiv(n):\n",
    "\ti = 2\n",
    "\twhile i<n:\n",
    "\t\tif n % i == 0:\n",
    "\t\t\tr = int(n/i)\n",
    "\t\t\tbreak\n",
    "\t\ti += 1\n",
    "\treturn(r)\n",
    "v = 600851475143\n",
    "i = NextDiv(v)\n",
    "while i>1:\n",
    "\tif IsSimpleNumber(i):\n",
    "\t\tprint(\"Max simple divider: \",i)\n",
    "\t\tbreak\n",
    "\ti = NextDiv(i)"
   ]
  },
  {
   "cell_type": "code",
   "execution_count": 3,
   "id": "c85315c4-ea21-4fd9-88b7-55fa74252f29",
   "metadata": {},
   "outputs": [
    {
     "data": {
      "text/plain": [
       "6857"
      ]
     },
     "execution_count": 3,
     "metadata": {},
     "output_type": "execute_result"
    }
   ],
   "source": [
    "# 3rd solution: \n",
    "def p3(n=600851475143):\n",
    "    def factors(n):\n",
    "        return [i for i in range(1, int(n ** 0.5)) if n % i == 0]\n",
    "\n",
    "    def is_prime(n):\n",
    "        return True not in [n % i == 0 for i in range(2, int(n ** 0.5) + 1)]\n",
    "\n",
    "    return max([i for i in factors(n) if is_prime(i)] or [0])\n",
    "P3(600851475143)"
   ]
  },
  {
   "cell_type": "markdown",
   "id": "e03b1215-0508-45a2-8f40-5b7a29362b6d",
   "metadata": {},
   "source": [
    "- in javascript "
   ]
  },
  {
   "cell_type": "markdown",
   "id": "5dc66993-6035-4a96-8d84-c4c96f36a09f",
   "metadata": {},
   "source": [
    " \n",
    "      \n",
    "\n",
    "    function solve() {  \n",
    "        let result = getLargestPrimeFactor(600_851_475_143);  \n",
    "        console.log(`The solution is ${result}.`);  \n",
    "    }  \n",
    "\n",
    "    function getLargestPrimeFactor(n) {  \n",
    "        let largestPrimeFactor = 1;  \n",
    "        let divisor = 1;  \n",
    "        while (largestPrimeFactor < n) {  \n",
    "            divisor++;  \n",
    "           while(n % divisor === 0) {  \n",
    "                largestPrimeFactor = divisor;  \n",
    "                n /= divisor;  \n",
    "            }  \n",
    "        }  \n",
    "        return largestPrimeFactor;  \n",
    "    }  \n",
    "\n",
    "    solve();  "
   ]
  },
  {
   "cell_type": "markdown",
   "id": "fe020ece-db50-4de7-b9c3-00f9f7c983dc",
   "metadata": {},
   "source": [
    "# 4)"
   ]
  },
  {
   "cell_type": "raw",
   "id": "daa3739c-cd16-40f0-93bf-26133e27f29e",
   "metadata": {},
   "source": [
    "A palindromic number reads the same both ways. The largest palindrome made from the product of two 2-digit numbers is 9009 = 91 × 99.\n",
    "\n",
    "Find the largest palindrome made from the product of two 3-digit numbers."
   ]
  },
  {
   "cell_type": "code",
   "execution_count": 10,
   "id": "ca19ca50-8cf8-4129-bd52-a2c0604a3286",
   "metadata": {},
   "outputs": [
    {
     "name": "stdout",
     "output_type": "stream",
     "text": [
      "906609\n",
      "913 993\n"
     ]
    }
   ],
   "source": [
    "def check_palindrome(x):\n",
    "    str_number = str(x)\n",
    "    reverse_number = str_number[::-1]\n",
    "    if str_number == reverse_number:\n",
    "        return True\n",
    "    else:\n",
    "        return False\n",
    "\n",
    "\n",
    "a = 0\n",
    "b = 0\n",
    "big_palindrome = 0\n",
    "\n",
    "for i in range(100,1000):\n",
    "    for j in range(100,1000):\n",
    "        if check_palindrome(i * j) and i * j > big_palindrome:\n",
    "            a = i\n",
    "            b = j\n",
    "            big_palindrome  = i*j\n",
    "            \n",
    "            \n",
    "print(big_palindrome)\n",
    "print(a, b)"
   ]
  },
  {
   "cell_type": "code",
   "execution_count": 7,
   "id": "cf30f1ac-314f-4389-84ac-79cf1f35ec31",
   "metadata": {},
   "outputs": [
    {
     "name": "stdout",
     "output_type": "stream",
     "text": [
      "906609\n"
     ]
    }
   ],
   "source": [
    "result = []\n",
    "for number1 in range(100,1000):\n",
    "    for number2 in range(100,1000):\n",
    "        a=(number1*number2)\n",
    "        b=str(a)\n",
    "        if (b==b[::-1]):\n",
    "            result.append(a)\n",
    "print(max(result))"
   ]
  },
  {
   "cell_type": "code",
   "execution_count": 11,
   "id": "be56ae33-55eb-4450-83c5-097be9e14bc0",
   "metadata": {},
   "outputs": [
    {
     "name": "stdout",
     "output_type": "stream",
     "text": [
      "906609\n"
     ]
    }
   ],
   "source": [
    "list = []\n",
    "for j in range(100, 999):\n",
    "    for n in range(100, 999):\n",
    "        if str(n*j) == str(n*j)[::-1]: list.append(n*j)\n",
    "print(max(list))"
   ]
  },
  {
   "cell_type": "code",
   "execution_count": 12,
   "id": "b4b35649-2c61-4dfa-a241-17158a62a8b2",
   "metadata": {},
   "outputs": [
    {
     "name": "stdout",
     "output_type": "stream",
     "text": [
      "Largest palindrome:  906609\n"
     ]
    }
   ],
   "source": [
    "def palindrome(n):\n",
    "  max = 1\n",
    "  for i in range(10**(n-1), 10**n):\n",
    "    for j in range(10**(n-1), 10**n):\n",
    "      if str(i * j) == str(i * j)[::-1]:        \n",
    "        if i * j >= max :\n",
    "          max = i * j\n",
    "\n",
    "  print(\"Largest palindrome: \", max)\n",
    "\n",
    "palindrome(3)"
   ]
  },
  {
   "cell_type": "markdown",
   "id": "d660f431-7fe6-4cdd-96e2-0ed111e22898",
   "metadata": {},
   "source": [
    "- javascript"
   ]
  },
  {
   "cell_type": "markdown",
   "id": "54de4a16-663e-4560-bcd2-6c4915284322",
   "metadata": {},
   "source": [
    "\n",
    "    function solve() {\n",
    "        let result = getLargestPalindrome(3);\n",
    "        console.log(`The solution is ${result}.`);\n",
    "    }\n",
    "\n",
    "    function getLargestPalindrome(digits) {\n",
    "        smallestFactor = 10**(digits - 1);\n",
    "        biggestFactor = 10**digits;\n",
    "        let largestPalindrome = smallestFactor** 2 - 1;\n",
    "        for (let i = smallestFactor; i < biggestFactor; i++) {\n",
    "            for (let j = i; j < biggestFactor; j++) {\n",
    "                if (i * j > largestPalindrome && isPalindrome(i * j)) {\n",
    "                    largestPalindrome = i * j;\n",
    "                }\n",
    "            }\n",
    "        }\n",
    "        return largestPalindrome;\n",
    "    }\n",
    "\n",
    "    function isPalindrome(n) {\n",
    "        return n.toString() === n.toString().split('').reverse().join(\"\");\n",
    "    }\n",
    "\n",
    "    solve();\n"
   ]
  },
  {
   "cell_type": "markdown",
   "id": "d03a5191-5b82-4b02-b06c-414b4d94ce4b",
   "metadata": {},
   "source": [
    "# 5)"
   ]
  },
  {
   "cell_type": "markdown",
   "id": "19ee913f-b59c-46a6-b91a-dd38d0bc2c8f",
   "metadata": {},
   "source": [
    "#### 2520 is the smallest number that can be divided by each of the numbers from 1 to 10 without any remainder.\n",
    "#### What is the smallest positive number that is evenly divisible by all of the numbers from 1 to 20?"
   ]
  },
  {
   "cell_type": "code",
   "execution_count": 1,
   "id": "5a400018-c583-4897-a041-3008c4bcfd9e",
   "metadata": {},
   "outputs": [],
   "source": [
    "import math\n",
    "import functools"
   ]
  },
  {
   "cell_type": "code",
   "execution_count": 2,
   "id": "fade1549-6446-448d-8bbe-e85b6cb6e755",
   "metadata": {},
   "outputs": [
    {
     "data": {
      "text/plain": [
       "8"
      ]
     },
     "execution_count": 2,
     "metadata": {},
     "output_type": "execute_result"
    }
   ],
   "source": [
    "math.gcd(32,24)"
   ]
  },
  {
   "cell_type": "code",
   "execution_count": 3,
   "id": "6224e4fe-e9f7-4a8f-aa31-134750ee82d7",
   "metadata": {},
   "outputs": [],
   "source": [
    "# ebob(x,y) * ekok(x,y) = x * y "
   ]
  },
  {
   "cell_type": "code",
   "execution_count": 4,
   "id": "1b5bcefe-338e-4baf-a19c-26b94e050471",
   "metadata": {},
   "outputs": [
    {
     "name": "stdout",
     "output_type": "stream",
     "text": [
      "12\n"
     ]
    }
   ],
   "source": [
    "def lcm(x,y):\n",
    "    return x*y // math.gcd(x,y) # float çıkmasın ddiye tam bölümü aldık\n",
    "print(lcm(6,4))"
   ]
  },
  {
   "cell_type": "code",
   "execution_count": 5,
   "id": "4a606fa4-27cf-4417-94a9-e4a20f6c9795",
   "metadata": {},
   "outputs": [
    {
     "name": "stdout",
     "output_type": "stream",
     "text": [
      "232792560\n"
     ]
    }
   ],
   "source": [
    "result = functools.reduce(lcm, range(1,21))\n",
    "print(result)"
   ]
  },
  {
   "cell_type": "code",
   "execution_count": 6,
   "id": "929d7428-02e3-441f-bb13-18a6cc96767e",
   "metadata": {},
   "outputs": [
    {
     "data": {
      "text/plain": [
       "232792560"
      ]
     },
     "execution_count": 6,
     "metadata": {},
     "output_type": "execute_result"
    }
   ],
   "source": [
    "def hay(n):\n",
    "    num = 1\n",
    "    a = 1\n",
    "    b = 1\n",
    "    for i in range(2, n):\n",
    "        t = 0\n",
    "        for k in range(2,i):\n",
    "            if i % k == 0:\n",
    "                t += 1\n",
    "        if t == 0:\n",
    "            num *= i\n",
    "   \n",
    "    while True:\n",
    "        if 2**a < n:\n",
    "            a += 1\n",
    "        else:\n",
    "            if 3**b < n:\n",
    "                b += 1\n",
    "            else:\n",
    "                return 2**(a-2) * 3**(b-2)*num\n",
    "hay(21)"
   ]
  },
  {
   "cell_type": "code",
   "execution_count": 7,
   "id": "3aceae2a-3041-409d-ab5f-32c6d7ce9a42",
   "metadata": {},
   "outputs": [
    {
     "name": "stdout",
     "output_type": "stream",
     "text": [
      "232792560\n"
     ]
    }
   ],
   "source": [
    "\"\"\"\n",
    "Finds least common factor between i and i+1,\n",
    "from 1 <= i <= 19\n",
    "Uses least common factor from previous iteration\n",
    "to find common factor\n",
    "\"\"\"\n",
    "common = 1\n",
    "for i in range(1, 20):\n",
    "    j = i + 1\n",
    "    temp = common\n",
    "    while common % j != 0:\n",
    "        common += temp\n",
    "print(common)"
   ]
  },
  {
   "cell_type": "markdown",
   "id": "9930653a-190a-4caf-8563-8e5f00a666ef",
   "metadata": {},
   "source": [
    "# 6)"
   ]
  },
  {
   "attachments": {
    "4a4a9fda-1011-4e79-8994-7e92192934f9.png": {
     "image/png": "[encoded data removed]"
    }
   },
   "cell_type": "markdown",
   "id": "2f1b869a-d85c-4578-b03c-78feb64c5161",
   "metadata": {},
   "source": [
    "![Ekran görüntüsü 2021-12-15 160917.png](attachment:4a4a9fda-1011-4e79-8994-7e92192934f9.png)"
   ]
  },
  {
   "cell_type": "code",
   "execution_count": 32,
   "id": "d242090e-e28b-4917-bdce-dafc73d4f4fb",
   "metadata": {},
   "outputs": [
    {
     "name": "stdin",
     "output_type": "stream",
     "text": [
      "num 2 :  100\n",
      "num 1 :  100\n"
     ]
    },
    {
     "name": "stdout",
     "output_type": "stream",
     "text": [
      "difference :  25164150\n"
     ]
    }
   ],
   "source": [
    "# my solition:\n",
    "def natural_numbers():\n",
    "    num = int(input(\"num 1 : \"))\n",
    "    result = 0\n",
    "    for i in range(1,num + 1):\n",
    "        result += i * i\n",
    "    return result\n",
    "#print(natural_numbers())\n",
    "\n",
    "def natural_numbers2():\n",
    "    num = int(input(\"num 2 : \"))\n",
    "    result = 0\n",
    "    for i in range(1, num+1):\n",
    "        result += i\n",
    "    return result **2\n",
    "\n",
    "#print(natural_numbers2())\n",
    "\n",
    "\n",
    "print(\"difference : \", natural_numbers2() - natural_numbers())"
   ]
  },
  {
   "cell_type": "code",
   "execution_count": 28,
   "id": "3472ca18-1d74-468a-af76-8a5bfe4d7f0b",
   "metadata": {},
   "outputs": [
    {
     "name": "stdout",
     "output_type": "stream",
     "text": [
      "25164150\n"
     ]
    }
   ],
   "source": [
    "def sum_squares(n):\n",
    "    sum = 0 \n",
    "    for i in range(1, n):\n",
    "        i **= 2\n",
    "        sum += i\n",
    "    return sum\n",
    "\n",
    "def squares_sum(n):\n",
    "    sum = 0\n",
    "    for i in range(1,n):\n",
    "        sum += i\n",
    "    sum **= 2\n",
    "    return sum\n",
    "\n",
    "a = squares_sum(101)\n",
    "b = sum_squares(101)\n",
    "c = a - b\n",
    "print(c)"
   ]
  },
  {
   "cell_type": "code",
   "execution_count": 29,
   "id": "3a5868f0-05f3-4df8-b6ca-fb218f965429",
   "metadata": {},
   "outputs": [
    {
     "name": "stdout",
     "output_type": "stream",
     "text": [
      "25164150\n"
     ]
    }
   ],
   "source": [
    "sum_squares = 0 \n",
    "square_sum = 0\n",
    "number = 1\n",
    "while number<=100:\n",
    "    sum_squares = sum_squares + number**2\n",
    "    square_sum = square_sum + number \n",
    "    number = number+1\n",
    "    \n",
    "differece =  square_sum**2 - sum_squares\n",
    "print(differece)"
   ]
  },
  {
   "cell_type": "code",
   "execution_count": 30,
   "id": "a88212f8-e719-4091-b7f6-162eea6cb339",
   "metadata": {},
   "outputs": [
    {
     "name": "stdout",
     "output_type": "stream",
     "text": [
      "25164150 \n",
      "\n"
     ]
    }
   ],
   "source": [
    "n = 100\n",
    "\n",
    "sumsqur = 0\n",
    "for i in range(1,n+1):\n",
    "    sumsqur += i*i\n",
    "\n",
    "sqursum = (n*(n+1)/2)**2\n",
    "\n",
    "ans = int(sqursum - sumsqur)\n",
    "\n",
    "print(ans, '\\n')"
   ]
  },
  {
   "cell_type": "markdown",
   "id": "704f82e9-e404-45c1-8274-36cb0769fd70",
   "metadata": {},
   "source": [
    "# 7)"
   ]
  },
  {
   "cell_type": "markdown",
   "id": "7fee7c93-bdea-45a1-ac0c-e7462c059159",
   "metadata": {},
   "source": [
    "### By listing the first six prime numbers: 2, 3, 5, 7, 11, and 13, we can see that the 6th prime is 13.\n",
    "\n",
    "### What is the 10 001st prime number?"
   ]
  },
  {
   "cell_type": "code",
   "execution_count": null,
   "id": "d0c2faff-9bf5-4cda-a0ba-06d47405cb6c",
   "metadata": {},
   "outputs": [],
   "source": [
    "# def prime_numbers():\n",
    "#     liste = []\n",
    "#     number = 1\n",
    "#     while True:\n",
    "#         for i in range(2, number):\n",
    "#             if number %i != 0:\n",
    "#                 return liste.append(number)\n",
    "#                 number += 1\n",
    "                \n",
    "#             elif len(liste) == 10001 :\n",
    "#                 return liste[10001]\n",
    "# prime_numbers()          "
   ]
  },
  {
   "cell_type": "code",
   "execution_count": 15,
   "id": "c3586e48-3152-459e-8865-eb4d93c8a68e",
   "metadata": {},
   "outputs": [
    {
     "name": "stdout",
     "output_type": "stream",
     "text": [
      "104743\n"
     ]
    }
   ],
   "source": [
    "import math\n",
    "\n",
    "prime_count = 0\n",
    "\n",
    "def prime_check(x):\n",
    "    is_prime = True\n",
    "    \n",
    "    if x == 2:\n",
    "        return True\n",
    "    else:\n",
    "        for i in range(2, int(math.sqrt(x) + 1)):\n",
    "            if x % i == 0:\n",
    "                is_prime = False\n",
    "                break\n",
    "        return is_prime\n",
    "    \n",
    "i = 2\n",
    "\n",
    "while True:\n",
    "    if prime_check(i):\n",
    "        prime_count += 1\n",
    "        \n",
    "    if prime_count == 10001:\n",
    "        print(i)\n",
    "        break\n",
    "    i+=1\n",
    "    \n"
   ]
  },
  {
   "cell_type": "code",
   "execution_count": null,
   "id": "a7e234a7-3387-4036-8517-98ec97250fd9",
   "metadata": {},
   "outputs": [],
   "source": [
    "# def isPrime(n):\n",
    "#     d = 2\n",
    "#     while n % d != 0:\n",
    "#         d += 1\n",
    "#     return d == n\n",
    "\n",
    "# primes = []\n",
    "# i = 2\n",
    "# while len(primes) < 10001:\n",
    "#     if isPrime(i) == True:\n",
    "#         primes.append(i)\n",
    "#     i += 1\n",
    "# print(primes[-1])"
   ]
  },
  {
   "cell_type": "code",
   "execution_count": 1,
   "id": "33e24027-d210-44a5-910d-4f5d917b8bd7",
   "metadata": {},
   "outputs": [
    {
     "name": "stdout",
     "output_type": "stream",
     "text": [
      "104743\n"
     ]
    }
   ],
   "source": [
    "from math import *\n",
    "\n",
    "def eratosthene(n):\n",
    "    isPrime = [True]*(n+1)\n",
    "    primes = []\n",
    "    for i in range(2,n+1):\n",
    "        if isPrime[i]:\n",
    "            for j in range(i, n+1, i):\n",
    "                isPrime[j] = False\n",
    "            primes.append(i)\n",
    "    return primes\n",
    "\n",
    "def primeNumb(n):\n",
    "    limit = n*(log(n) + log(log(n)) - 0.5)\n",
    "    primes = eratosthene(floor(limit))\n",
    "    return primes[n-1]\n",
    "\n",
    "print(primeNumb(10001))"
   ]
  },
  {
   "cell_type": "raw",
   "id": "97f6c725-b90e-4762-b9fc-ae5f6f8dae7a",
   "metadata": {},
   "source": [
    "JavaScript :\n",
    "\n",
    "const getIsPrime = (num) => {\n",
    "  for(let i = 2; i < num; i++)\n",
    "    if(num % i === 0) return false;\n",
    "  return true\n",
    "}\n",
    "\n",
    "const testToRange = (primeCount) => {\n",
    "    var countPrime = 0;\n",
    "    var numb = 0;\n",
    "    var prime = 1;\n",
    "    while (countPrime !== (primeCount + 1)){\n",
    "        numb++\n",
    "        if(getIsPrime(numb)){\n",
    "            countPrime++\n",
    "            prime = numb\n",
    "        }\n",
    "    }\n",
    "    if(countPrime === (primeCount + 1))\n",
    "    return prime\n",
    "    else\n",
    "    return false\n",
    "}"
   ]
  },
  {
   "cell_type": "markdown",
   "id": "230f7058-c3cf-4dc0-b336-72173c32bf44",
   "metadata": {},
   "source": [
    "# 8)"
   ]
  },
  {
   "cell_type": "markdown",
   "id": "f2d89ced-2561-4f47-9416-c08015401b6c",
   "metadata": {},
   "source": [
    "\"\"\"The four adjacent digits in the 1000-digit number that have the greatest product are 9 × 9 × 8 × 9 = 5832.\n",
    "\n",
    "    73167176531330624919225119674426574742355349194934\n",
    "    96983520312774506326239578318016984801869478851843\n",
    "    85861560789112949495459501737958331952853208805511\n",
    "    12540698747158523863050715693290963295227443043557\n",
    "    66896648950445244523161731856403098711121722383113\n",
    "    62229893423380308135336276614282806444486645238749\n",
    "    30358907296290491560440772390713810515859307960866\n",
    "    70172427121883998797908792274921901699720888093776\n",
    "    65727333001053367881220235421809751254540594752243\n",
    "    52584907711670556013604839586446706324415722155397\n",
    "    53697817977846174064955149290862569321978468622482\n",
    "    83972241375657056057490261407972968652414535100474\n",
    "    82166370484403199890008895243450658541227588666881\n",
    "    16427171479924442928230863465674813919123162824586\n",
    "    17866458359124566529476545682848912883142607690042\n",
    "    24219022671055626321111109370544217506941658960408\n",
    "    07198403850962455444362981230987879927244284909188\n",
    "    84580156166097919133875499200524063689912560717606\n",
    "    05886116467109405077541002256983155200055935729725\n",
    "    71636269561882670428252483600823257530420752963450\n",
    "\n",
    "Find the thirteen adjacent digits in the 1000-digit number that have the greatest product. What is the value of this product?\"\"\""
   ]
  },
  {
   "cell_type": "code",
   "execution_count": 9,
   "id": "f0974617-d7cf-4b0b-867b-c7fbab2c71f6",
   "metadata": {},
   "outputs": [],
   "source": [
    "# peşpeşe gelen 13 basamağın çarpımı en fazla kaç olur :\n",
    "\n",
    "num = \"\"\"73167176531330624919225119674426574742355349194934\n",
    "96983520312774506326239578318016984801869478851843\n",
    "85861560789112949495459501737958331952853208805511\n",
    "12540698747158523863050715693290963295227443043557\n",
    "66896648950445244523161731856403098711121722383113\n",
    "62229893423380308135336276614282806444486645238749\n",
    "30358907296290491560440772390713810515859307960866\n",
    "70172427121883998797908792274921901699720888093776\n",
    "65727333001053367881220235421809751254540594752243\n",
    "52584907711670556013604839586446706324415722155397\n",
    "53697817977846174064955149290862569321978468622482\n",
    "83972241375657056057490261407972968652414535100474\n",
    "82166370484403199890008895243450658541227588666881\n",
    "16427171479924442928230863465674813919123162824586\n",
    "17866458359124566529476545682848912883142607690042\n",
    "24219022671055626321111109370544217506941658960408\n",
    "07198403850962455444362981230987879927244284909188\n",
    "84580156166097919133875499200524063689912560717606\n",
    "05886116467109405077541002256983155200055935729725\n",
    "71636269561882670428252483600823257530420752963450\"\"\"\n",
    "\n",
    "liste = num.split(\"\\n\")\n",
    "#print(liste)\n",
    "\n",
    "number= \"\" \n",
    "for i in liste :\n",
    "    number += i\n",
    "#print(number)"
   ]
  },
  {
   "cell_type": "code",
   "execution_count": 10,
   "id": "fc2695c4-8a73-4954-951f-7221be65ac95",
   "metadata": {},
   "outputs": [
    {
     "name": "stdout",
     "output_type": "stream",
     "text": [
      "23514624000\n"
     ]
    }
   ],
   "source": [
    "product = 0\n",
    "\n",
    "for i in range(0, len(number) - 12): # index hatası vermemesi için son 13 basamağı almıyoruz\n",
    "    aux = 1\n",
    "    for j in number[i: i+13]:\n",
    "        aux *= int(j)\n",
    "    if aux > product :\n",
    "        product = aux\n",
    "    \n",
    "print(product)"
   ]
  },
  {
   "cell_type": "code",
   "execution_count": 12,
   "id": "675b5c24-de0b-4006-8f64-cac760928c34",
   "metadata": {},
   "outputs": [
    {
     "name": "stdout",
     "output_type": "stream",
     "text": [
      "23514624000 \n",
      "\n"
     ]
    }
   ],
   "source": [
    "nstr = '''73167176531330624919225119674426574742355349194934\\\n",
    "96983520312774506326239578318016984801869478851843\\\n",
    "85861560789112949495459501737958331952853208805511\\\n",
    "12540698747158523863050715693290963295227443043557\\\n",
    "66896648950445244523161731856403098711121722383113\\\n",
    "62229893423380308135336276614282806444486645238749\\\n",
    "30358907296290491560440772390713810515859307960866\\\n",
    "70172427121883998797908792274921901699720888093776\\\n",
    "65727333001053367881220235421809751254540594752243\\\n",
    "52584907711670556013604839586446706324415722155397\\\n",
    "53697817977846174064955149290862569321978468622482\\\n",
    "83972241375657056057490261407972968652414535100474\\\n",
    "82166370484403199890008895243450658541227588666881\\\n",
    "16427171479924442928230863465674813919123162824586\\\n",
    "17866458359124566529476545682848912883142607690042\\\n",
    "24219022671055626321111109370544217506941658960408\\\n",
    "07198403850962455444362981230987879927244284909188\\\n",
    "84580156166097919133875499200524063689912560717606\\\n",
    "05886116467109405077541002256983155200055935729725\\\n",
    "71636269561882670428252483600823257530420752963450'''\n",
    "n = 1000\n",
    "m = 13\n",
    "\n",
    "ans = 0\n",
    "for i in range(n-m+1):\n",
    "    prodct = 1\n",
    "    for j in range(m): \n",
    "        prodct *= int(nstr[i+j])\n",
    "    if prodct>ans:\n",
    "        ans = prodct\n",
    "\n",
    "print(ans, '\\n')"
   ]
  },
  {
   "cell_type": "markdown",
   "id": "b47d2090-4326-4010-85b6-211def6b5c7d",
   "metadata": {},
   "source": [
    "# 9)"
   ]
  },
  {
   "attachments": {
    "9fe88937-7597-46d0-bd66-3135e4af37da.png": {
     "image/png": "[encoded data removed]"
    }
   },
   "cell_type": "markdown",
   "id": "1ade16c1-a7a4-4d30-9663-09ccaac9b5ad",
   "metadata": {},
   "source": [
    "![image.png](attachment:9fe88937-7597-46d0-bd66-3135e4af37da.png)"
   ]
  },
  {
   "cell_type": "code",
   "execution_count": 13,
   "id": "fb8ddaab-494b-4c75-96a8-90d318b5bb2f",
   "metadata": {},
   "outputs": [
    {
     "name": "stdout",
     "output_type": "stream",
     "text": [
      "31875000\n",
      "31875000\n"
     ]
    }
   ],
   "source": [
    "for a in range(1, 1000):\n",
    "    for b in range(1, 1000-a):\n",
    "        c = 1000 - a - b\n",
    "        if c**2 == a**2 + b**2:\n",
    "            print(a*b*c)\n",
    "            break\n",
    "# dıştaki for döngüsü çalışmaya devam ettiği için iki kez yazdırdı yani 3*3 + 4*4 = 4*4 + 3*3"
   ]
  },
  {
   "cell_type": "code",
   "execution_count": 15,
   "id": "1ad20134-2f18-4607-9dfb-12718a639152",
   "metadata": {},
   "outputs": [
    {
     "name": "stdout",
     "output_type": "stream",
     "text": [
      "31875000\n",
      "200 375 425\n",
      "31875000\n",
      "375 200 425\n"
     ]
    }
   ],
   "source": [
    "done = False\n",
    "\n",
    "for a in range(1, 1000):\n",
    "    for b in range(1, 1000-a):\n",
    "        c = 1000 - a - b\n",
    "        if c**2 == a**2 + b**2:\n",
    "            print(a*b*c)\n",
    "            print(a,b,c)\n",
    "            break\n",
    "    if done:\n",
    "        break"
   ]
  },
  {
   "cell_type": "code",
   "execution_count": 18,
   "id": "809b8123-d25a-41b8-ae17-da8d3112d186",
   "metadata": {},
   "outputs": [
    {
     "name": "stdout",
     "output_type": "stream",
     "text": [
      "(200, 375, 425, 31875000)\n"
     ]
    }
   ],
   "source": [
    "def pyth_trip():\n",
    "    for a in range(1,1000):\n",
    "        for b in range(1,1000):\n",
    "            c=1000-a-b\n",
    "            if a**2+b**2==c**2:\n",
    "                return(a,b,c,a*b*c)\n",
    "print(pyth_trip())"
   ]
  },
  {
   "cell_type": "code",
   "execution_count": 19,
   "id": "4ce48d0f-1110-4d9c-afd5-02de9b5b1c5b",
   "metadata": {},
   "outputs": [
    {
     "name": "stdout",
     "output_type": "stream",
     "text": [
      "31875000 \n",
      "\n"
     ]
    }
   ],
   "source": [
    "import math\n",
    "\n",
    "n = 500000\n",
    "for d in range(int(math.sqrt(n)),1000):\n",
    "    if n%d: continue\n",
    "    a = 1000 - d; b = 1000 - n//d; c = d - b\n",
    "    if a*a+b*b==c*c: break\n",
    "\n",
    "ans = a*b*c\n",
    "\n",
    "print(ans, '\\n')"
   ]
  },
  {
   "cell_type": "code",
   "execution_count": 23,
   "id": "70852560-080d-4cff-9ddb-f4cd16e8d32f",
   "metadata": {},
   "outputs": [
    {
     "name": "stdout",
     "output_type": "stream",
     "text": [
      "Produto: 31875000\n"
     ]
    }
   ],
   "source": [
    "import math\n",
    "\n",
    "for a in range(1, 1000):\n",
    "    for b in range(a, 1000):\n",
    "        c = ( a**2 + b**2)**0.5\n",
    "        soma = a + b + c\n",
    "        if soma == 1000:\n",
    "            print('Produto: {}'.format( a * b * int(c) ))"
   ]
  },
  {
   "cell_type": "markdown",
   "id": "c6496e34-8c45-4fbc-b901-d527d301ecda",
   "metadata": {},
   "source": [
    "# 10)"
   ]
  },
  {
   "cell_type": "markdown",
   "id": "68e45a2a-2248-4578-a4bc-5ca1d8e790f8",
   "metadata": {},
   "source": [
    "### The sum of the primes below 10 is 2 + 3 + 5 + 7 = 17.\n",
    "\n",
    "### Find the sum of all the primes below two million."
   ]
  },
  {
   "cell_type": "code",
   "execution_count": 2,
   "id": "c535137d-ec1b-4257-bbc4-7d876cd53b31",
   "metadata": {},
   "outputs": [
    {
     "name": "stdin",
     "output_type": "stream",
     "text": [
      "Please enter a number :  20000000\n"
     ]
    },
    {
     "name": "stdout",
     "output_type": "stream",
     "text": [
      "[2, 3, 4, 5, 6, 7, 8, 9, 11, 13, 15, 17, 19, 23, 25, 29, 31, 35, 37, 41, 43, 47, 49, 53, 59, 61, 67, 71, 73, 79, 83, 89, 97, 101, 103, 107, 109, 113, 121, 127, 131, 137, 139, 143, 149, 151, 157, 163, 167, 169, 173, 179, 181, 191, 193, 197, 199, 211, 223, 227, 229, 233, 239, 241, 251, 257, 263, 269, 271, 277, 281, 283, 289, 293, 307, 311, 313, 317, 323, 331, 337, 347, 349, 353, 359, 361, 367, 373, 379, 383, 389, 397, 401, 409, 419, 421, 431, 433, 439, 443, 449, 457, 461, 463, 467, 479, 487, 491, 499, 503, 509, 521, 523, 529, 541, 547, 557, 563, 569, 571, 577, 587, 593, 599, 601, 607, 613, 617, 619, 631, 641, 643, 647, 653, 659, 661, 673, 677, 683, 691, 701, 709, 719, 727, 733, 739, 743, 751, 757, 761, 769, 773, 787, 797, 809, 811, 821, 823, 827, 829, 839, 841, 853, 857, 859, 863, 877, 881, 883, 887, 899, 907, 911, 919, 929, 937, 941, 947, 953, 961, 967, 971, 977, 983, 991, 997, 1009, 1013, 1019, 1021, 1031, 1033, 1039, 1049, 1051, 1061, 1063, 1069, 1087, 1091, 1093, 1097, 1103, 1109, 1117, 1123, 1129, 1151, 1153, 1163, 1171, 1181, 1187, 1193, 1201, 1213, 1217, 1223, 1229, 1231, 1237, 1249, 1259, 1277, 1279, 1283, 1289, 1291, 1297, 1301, 1303, 1307, 1319, 1321, 1327, 1361, 1367, 1369, 1373, 1381, 1399, 1409, 1423, 1427, 1429, 1433, 1439, 1447, 1451, 1453, 1459, 1471, 1481, 1483, 1487, 1489, 1493, 1499, 1511, 1523, 1531, 1543, 1549, 1553, 1559, 1567, 1571, 1579, 1583, 1597, 1601, 1607, 1609, 1613, 1619, 1621, 1627, 1637, 1657, 1663, 1667, 1669, 1681, 1693, 1697, 1699, 1709, 1721, 1723, 1733, 1741, 1747, 1753, 1759, 1763, 1777, 1783, 1787, 1789, 1801, 1811, 1823, 1831, 1847, 1849, 1861, 1867, 1871, 1873, 1877, 1879, 1889, 1901, 1907, 1913, 1931, 1933, 1949, 1951, 1973, 1979, 1987, 1993, 1997, 1999, 2003, 2011, 2017, 2027, 2029, 2039, 2053, 2063, 2069, 2081, 2083, 2087, 2089, 2099, 2111, 2113, 2129, 2131, 2137, 2141, 2143, 2153, 2161, 2179, 2203, 2207, 2209, 2213, 2221, 2237, 2239, 2243, 2251, 2267, 2269, 2273, 2281, 2287, 2293, 2297, 2309, 2311, 2333, 2339, 2341, 2347, 2351, 2357, 2371, 2377, 2381, 2383, 2389, 2393, 2399, 2411, 2417, 2423, 2437, 2441, 2447, 2459, 2467, 2473, 2477, 2503, 2521, 2531, 2539, 2543, 2549, 2551, 2557, 2579, 2591, 2593, 2609, 2617, 2621, 2633, 2647, 2657, 2659, 2663, 2671, 2677, 2683, 2687, 2689, 2693, 2699, 2707, 2711, 2713, 2719, 2729, 2731, 2741, 2749, 2753, 2767, 2777, 2789, 2791, 2797, 2801, 2803, 2809, 2819, 2833, 2837, 2843, 2851, 2857, 2861, 2879, 2887, 2897, 2903, 2909, 2917, 2927, 2939, 2953, 2957, 2963, 2969, 2971, 2999, 3001, 3011, 3019, 3023, 3037, 3041, 3049, 3061, 3067, 3079, 3083, 3089, 3109, 3119, 3121, 3137, 3163, 3167, 3169, 3181, 3187, 3191, 3203, 3209, 3217, 3221, 3229, 3251, 3253, 3257, 3259, 3271, 3299, 3301, 3307, 3313, 3319, 3323, 3329, 3331, 3343, 3347, 3359, 3361, 3371, 3373, 3389, 3391, 3407, 3413, 3433, 3449, 3457, 3461, 3463, 3467, 3469, 3481, 3491, 3499, 3511, 3517, 3527, 3529, 3533, 3539, 3541, 3547, 3557, 3559, 3571, 3581, 3583, 3593, 3599, 3607, 3613, 3617, 3623, 3631, 3637, 3643, 3659, 3671, 3673, 3677, 3691, 3697, 3701, 3709, 3719, 3721, 3727, 3733, 3739, 3761, 3767, 3769, 3779, 3793, 3797, 3803, 3821, 3823, 3833, 3847, 3851, 3853, 3863, 3877, 3881, 3889, 3907, 3911, 3917, 3919, 3923, 3929, 3931, 3943, 3947, 3967, 3989, 4001, 4003, 4007, 4013, 4019, 4021, 4027, 4049, 4051, 4057, 4073, 4079, 4091, 4093, 4099, 4111, 4127, 4129, 4133, 4139, 4153, 4157, 4159, 4177, 4201, 4211, 4217, 4219, 4229, 4231, 4241, 4243, 4253, 4259, 4261, 4271, 4273, 4283, 4289, 4297, 4327, 4337, 4339, 4349, 4357, 4363, 4373, 4391, 4397, 4409, 4421, 4423, 4441, 4447, 4451, 4457, 4463]\n",
      "1281466\n"
     ]
    }
   ],
   "source": [
    "from math import sqrt\n",
    "\n",
    "n= int(input(\"Please enter a number : \"))\n",
    "list1 = []\n",
    "for i in range(2, int(sqrt(n))+1):\n",
    "    for ii in range(2, int(sqrt(i))):\n",
    "        if i % ii == 0 :\n",
    "            break\n",
    "    else : \n",
    "        list1.append(i)\n",
    "print(list1)\n",
    "print(sum(list1))\n",
    "# cevap eksik çıkıyor"
   ]
  },
  {
   "cell_type": "code",
   "execution_count": 3,
   "id": "07ebf68b-48f2-4287-8e5d-70ecc0111865",
   "metadata": {},
   "outputs": [
    {
     "data": {
      "text/plain": [
       "4.0"
      ]
     },
     "execution_count": 3,
     "metadata": {},
     "output_type": "execute_result"
    }
   ],
   "source": [
    "math.sqrt(16)"
   ]
  },
  {
   "cell_type": "code",
   "execution_count": null,
   "id": "9eba7b1f-c6c1-48d5-90ff-70a6ad5a00a9",
   "metadata": {},
   "outputs": [],
   "source": [
    "142913828922"
   ]
  },
  {
   "cell_type": "code",
   "execution_count": 1,
   "id": "ae5f5d18-22aa-4128-b520-aa7613ce9626",
   "metadata": {},
   "outputs": [
    {
     "name": "stdout",
     "output_type": "stream",
     "text": [
      "142913828922 \n",
      "\n"
     ]
    }
   ],
   "source": [
    "import math\n",
    "\n",
    "def prim(n):\n",
    "    for i in range(2,int(math.sqrt(n))+1):\n",
    "        if n%i==0: return False\n",
    "    return True\n",
    "\n",
    "ans = 0\n",
    "for i in range(2,int(2e6)+1):\n",
    "    if prim(i): ans += i\n",
    "\n",
    "print(ans, '\\n')"
   ]
  },
  {
   "cell_type": "code",
   "execution_count": 12,
   "id": "e028bdd4-9ffd-438f-8838-8b349fb9f2f2",
   "metadata": {},
   "outputs": [
    {
     "name": "stdin",
     "output_type": "stream",
     "text": [
      "Please enter a number :  100\n"
     ]
    },
    {
     "name": "stdout",
     "output_type": "stream",
     "text": [
      "0\n"
     ]
    }
   ],
   "source": [
    "from math import sqrt\n",
    "\n",
    "n= int(input(\"Please enter a number : \"))\n",
    "result = 0\n",
    "for i in range(2, int(sqrt(n))):\n",
    "    if n%i == 0:\n",
    "        True\n",
    "        break\n",
    "    else:\n",
    "        for ii in range(2, i):\n",
    "            if i % ii == 0 :\n",
    "                break\n",
    "        else : \n",
    "            result += i\n",
    "print(result)\n",
    "# cevap eksik çıkıyor"
   ]
  },
  {
   "cell_type": "markdown",
   "id": "5301fad3-62d9-415b-9431-03940814732a",
   "metadata": {},
   "source": [
    "# 11)"
   ]
  },
  {
   "cell_type": "markdown",
   "id": "d5573d92-4715-4e9a-9430-fb5a6832d788",
   "metadata": {},
   "source": [
    "    In the 20×20 grid below, four numbers along a diagonal line have been marked in red.\n",
    "\n",
    "    08 02 22 97 38 15 00 40 00 75 04 05 07 78 52 12 50 77 91 08\n",
    "    49 49 99 40 17 81 18 57 60 87 17 40 98 43 69 48 04 56 62 00\n",
    "    81 49 31 73 55 79 14 29 93 71 40 67 53 88 30 03 49 13 36 65\n",
    "    52 70 95 23 04 60 11 42 69 24 68 56 01 32 56 71 37 02 36 91\n",
    "    22 31 16 71 51 67 63 89 41 92 36 54 22 40 40 28 66 33 13 80\n",
    "    24 47 32 60 99 03 45 02 44 75 33 53 78 36 84 20 35 17 12 50\n",
    "    32 98 81 28 64 23 67 10 26 38 40 67 59 54 70 66 18 38 64 70\n",
    "    67 26 20 68 02 62 12 20 95 63 94 39 63 08 40 91 66 49 94 21\n",
    "    24 55 58 05 66 73 99 26 97 17 78 78 96 83 14 88 34 89 63 72\n",
    "    21 36 23 09 75 00 76 44 20 45 35 14 00 61 33 97 34 31 33 95\n",
    "    78 17 53 28 22 75 31 67 15 94 03 80 04 62 16 14 09 53 56 92\n",
    "    16 39 05 42 96 35 31 47 55 58 88 24 00 17 54 24 36 29 85 57\n",
    "    86 56 00 48 35 71 89 07 05 44 44 37 44 60 21 58 51 54 17 58\n",
    "    19 80 81 68 05 94 47 69 28 73 92 13 86 52 17 77 04 89 55 40\n",
    "    04 52 08 83 97 35 99 16 07 97 57 32 16 26 26 79 33 27 98 66\n",
    "    88 36 68 87 57 62 20 72 03 46 33 67 46 55 12 32 63 93 53 69\n",
    "    04 42 16 73 38 25 39 11 24 94 72 18 08 46 29 32 40 62 76 36\n",
    "    20 69 36 41 72 30 23 88 34 62 99 69 82 67 59 85 74 04 36 16\n",
    "    20 73 35 29 78 31 90 01 74 31 49 71 48 86 81 16 23 57 05 54\n",
    "    01 70 54 71 83 51 54 69 16 92 33 48 61 43 52 01 89 19 67 48\n",
    "\n",
    "    The product of these numbers is 26 × 63 × 78 × 14 = 1788696.\n",
    "\n",
    "    What is the greatest product of four adjacent numbers in the same direction (up, down, left, right, or diagonally) in the 20×20 grid?"
   ]
  },
  {
   "cell_type": "code",
   "execution_count": 1,
   "id": "3179492b-20cf-4153-93f5-f9066bf6d302",
   "metadata": {},
   "outputs": [],
   "source": [
    "numbers = \"\"\"08 02 22 97 38 15 00 40 00 75 04 05 07 78 52 12 50 77 91 08\n",
    "49 49 99 40 17 81 18 57 60 87 17 40 98 43 69 48 04 56 62 00\n",
    "81 49 31 73 55 79 14 29 93 71 40 67 53 88 30 03 49 13 36 65\n",
    "52 70 95 23 04 60 11 42 69 24 68 56 01 32 56 71 37 02 36 91\n",
    "22 31 16 71 51 67 63 89 41 92 36 54 22 40 40 28 66 33 13 80\n",
    "24 47 32 60 99 03 45 02 44 75 33 53 78 36 84 20 35 17 12 50\n",
    "32 98 81 28 64 23 67 10 26 38 40 67 59 54 70 66 18 38 64 70\n",
    "67 26 20 68 02 62 12 20 95 63 94 39 63 08 40 91 66 49 94 21\n",
    "24 55 58 05 66 73 99 26 97 17 78 78 96 83 14 88 34 89 63 72\n",
    "21 36 23 09 75 00 76 44 20 45 35 14 00 61 33 97 34 31 33 95\n",
    "78 17 53 28 22 75 31 67 15 94 03 80 04 62 16 14 09 53 56 92\n",
    "16 39 05 42 96 35 31 47 55 58 88 24 00 17 54 24 36 29 85 57\n",
    "86 56 00 48 35 71 89 07 05 44 44 37 44 60 21 58 51 54 17 58\n",
    "19 80 81 68 05 94 47 69 28 73 92 13 86 52 17 77 04 89 55 40\n",
    "04 52 08 83 97 35 99 16 07 97 57 32 16 26 26 79 33 27 98 66\n",
    "88 36 68 87 57 62 20 72 03 46 33 67 46 55 12 32 63 93 53 69\n",
    "04 42 16 73 38 25 39 11 24 94 72 18 08 46 29 32 40 62 76 36\n",
    "20 69 36 41 72 30 23 88 34 62 99 69 82 67 59 85 74 04 36 16\n",
    "20 73 35 29 78 31 90 01 74 31 49 71 48 86 81 16 23 57 05 54\n",
    "01 70 54 71 83 51 54 69 16 92 33 48 61 43 52 01 89 19 67 48\"\"\""
   ]
  },
  {
   "cell_type": "code",
   "execution_count": 6,
   "id": "953aec43-b409-4885-934e-a60cfa90c06e",
   "metadata": {},
   "outputs": [
    {
     "name": "stdout",
     "output_type": "stream",
     "text": [
      "73\n",
      "48\n"
     ]
    }
   ],
   "source": [
    "rows = numbers.split(\"\\n\")\n",
    "liste = []\n",
    "\n",
    "for i in range(20):\n",
    "    elements = rows[i].split(\" \")\n",
    "    liste.append(elements)\n",
    "print(liste[2][3])\n",
    "print(liste[19][19]) # son sayı"
   ]
  },
  {
   "cell_type": "code",
   "execution_count": 9,
   "id": "d362da0f-4a7d-4cca-b590-1f76687cedd1",
   "metadata": {},
   "outputs": [
    {
     "ename": "IndexError",
     "evalue": "string index out of range",
     "output_type": "error",
     "traceback": [
      "\u001b[1;31m---------------------------------------------------------------------------\u001b[0m",
      "\u001b[1;31mIndexError\u001b[0m                                Traceback (most recent call last)",
      "\u001b[1;32m<ipython-input-9-7180ba5ce425>\u001b[0m in \u001b[0;36m<module>\u001b[1;34m\u001b[0m\n\u001b[0;32m     51\u001b[0m \u001b[1;33m\u001b[0m\u001b[0m\n\u001b[0;32m     52\u001b[0m \u001b[0mresult\u001b[0m \u001b[1;33m=\u001b[0m \u001b[1;33m[\u001b[0m\u001b[1;33m]\u001b[0m\u001b[1;33m\u001b[0m\u001b[1;33m\u001b[0m\u001b[0m\n\u001b[1;32m---> 53\u001b[1;33m \u001b[0mresult\u001b[0m\u001b[1;33m.\u001b[0m\u001b[0mappend\u001b[0m\u001b[1;33m(\u001b[0m\u001b[0mup_down\u001b[0m\u001b[1;33m(\u001b[0m\u001b[1;33m)\u001b[0m\u001b[1;33m)\u001b[0m\u001b[1;33m\u001b[0m\u001b[1;33m\u001b[0m\u001b[0m\n\u001b[0m\u001b[0;32m     54\u001b[0m \u001b[0mresult\u001b[0m\u001b[1;33m.\u001b[0m\u001b[0mappend\u001b[0m\u001b[1;33m(\u001b[0m\u001b[0mleft_right\u001b[0m\u001b[1;33m(\u001b[0m\u001b[1;33m)\u001b[0m\u001b[1;33m)\u001b[0m\u001b[1;33m\u001b[0m\u001b[1;33m\u001b[0m\u001b[0m\n\u001b[0;32m     55\u001b[0m \u001b[0mresult\u001b[0m\u001b[1;33m.\u001b[0m\u001b[0mappend\u001b[0m\u001b[1;33m(\u001b[0m\u001b[0mdiagonal_first\u001b[0m\u001b[1;33m)\u001b[0m\u001b[1;33m\u001b[0m\u001b[1;33m\u001b[0m\u001b[0m\n",
      "\u001b[1;32m<ipython-input-9-7180ba5ce425>\u001b[0m in \u001b[0;36mup_down\u001b[1;34m()\u001b[0m\n\u001b[0;32m     19\u001b[0m             \u001b[0mproduct\u001b[0m \u001b[1;33m=\u001b[0m \u001b[1;36m1\u001b[0m\u001b[1;33m\u001b[0m\u001b[1;33m\u001b[0m\u001b[0m\n\u001b[0;32m     20\u001b[0m             \u001b[1;32mfor\u001b[0m \u001b[0mk\u001b[0m \u001b[1;32min\u001b[0m \u001b[0mrange\u001b[0m\u001b[1;33m(\u001b[0m\u001b[1;36m4\u001b[0m\u001b[1;33m)\u001b[0m\u001b[1;33m:\u001b[0m\u001b[1;33m\u001b[0m\u001b[1;33m\u001b[0m\u001b[0m\n\u001b[1;32m---> 21\u001b[1;33m                 \u001b[0mproduct\u001b[0m \u001b[1;33m*=\u001b[0m \u001b[0mint\u001b[0m\u001b[1;33m(\u001b[0m\u001b[0mliste\u001b[0m\u001b[1;33m[\u001b[0m\u001b[0mi\u001b[0m \u001b[1;33m+\u001b[0m \u001b[0mk\u001b[0m\u001b[1;33m]\u001b[0m\u001b[1;33m[\u001b[0m\u001b[0mj\u001b[0m\u001b[1;33m]\u001b[0m\u001b[1;33m)\u001b[0m \u001b[1;31m# satır değişecek sütun aynı kalacak\u001b[0m\u001b[1;33m\u001b[0m\u001b[1;33m\u001b[0m\u001b[0m\n\u001b[0m\u001b[0;32m     22\u001b[0m                 \u001b[1;32mif\u001b[0m \u001b[0mproduct\u001b[0m \u001b[1;33m>\u001b[0m \u001b[0mlargest_product\u001b[0m\u001b[1;33m:\u001b[0m\u001b[1;33m\u001b[0m\u001b[1;33m\u001b[0m\u001b[0m\n\u001b[0;32m     23\u001b[0m                     \u001b[0mlargest_product\u001b[0m \u001b[1;33m=\u001b[0m \u001b[0mproduct\u001b[0m \u001b[1;31m# yukarıdan aşağıya çarpımların en büyüğü\u001b[0m\u001b[1;33m\u001b[0m\u001b[1;33m\u001b[0m\u001b[0m\n",
      "\u001b[1;31mIndexError\u001b[0m: string index out of range"
     ]
    }
   ],
   "source": [
    "def left_right():\n",
    "    largest_product = 0\n",
    "    \n",
    "    for i in range(20):\n",
    "        for ii in range(17):  # 4 elemanın çarpımı istendiği için\n",
    "            product = 1\n",
    "            for k in range(4):\n",
    "                product *= int(liste[i][j + k])\n",
    "                if product > largest_product:\n",
    "                    largest_product = product # soldan sağa çarpımların en büyüğü\n",
    "    return largest_product\n",
    "\n",
    "\n",
    "def up_down():\n",
    "    largest_product = 0\n",
    "    \n",
    "    for i in range(17): # sütunun 4 eksiğine satırın tamamına bakıcaz yukardan aşağıya bakarken\n",
    "        for ii in range(20): \n",
    "            product = 1\n",
    "            for k in range(4):\n",
    "                product *= int(liste[i + k][j]) # satır değişecek sütun aynı kalacak\n",
    "                if product > largest_product:\n",
    "                    largest_product = product # yukarıdan aşağıya çarpımların en büyüğü\n",
    "    return largest_product\n",
    "\n",
    "\n",
    "  \n",
    "def diagonal_first():\n",
    "    largest_product = 0\n",
    "    \n",
    "    for i in range(17):  # çapraz gittiğimiz için hem satır hem sütunda 4 eksik olacak\n",
    "        for ii in range(17):  \n",
    "            product = 1\n",
    "            for k in range(4):\n",
    "                product *= int(liste[i + k][j + k])\n",
    "                if product > largest_product:\n",
    "                    largest_product = product # soldan sağa çapraz çarpımın en büyüğü\n",
    "    return largest_product\n",
    "\n",
    "def diagonal_second():\n",
    "    largest_product = 0\n",
    "    \n",
    "    for i in range(17):\n",
    "        for ii in range(17):  \n",
    "            product = 1\n",
    "            for k in range(4):\n",
    "                product *= int(liste[i][19 -j -k])\n",
    "                if product > largest_product:\n",
    "                    largest_product = product # soldan sağa çarpımların en büyüğü\n",
    "    return largest_product\n",
    "\n",
    "result = []\n",
    "result.append(up_down())\n",
    "result.append(left_right())\n",
    "result.append(diagonal_first)\n",
    "result.append(diagonal_second)\n",
    "\n",
    "print(max(result))"
   ]
  },
  {
   "cell_type": "code",
   "execution_count": 7,
   "id": "11fb7c03-e987-4b9c-bf85-78f934abc549",
   "metadata": {},
   "outputs": [],
   "source": [
    "liste = \"\"\"08 02 22 97 38 15 00 40 00 75 04 05 07 78 52 12 50 77 91 08\n",
    "49 49 99 40 17 81 18 57 60 87 17 40 98 43 69 48 04 56 62 00\n",
    "81 49 31 73 55 79 14 29 93 71 40 67 53 88 30 03 49 13 36 65\n",
    "52 70 95 23 04 60 11 42 69 24 68 56 01 32 56 71 37 02 36 91\n",
    "22 31 16 71 51 67 63 89 41 92 36 54 22 40 40 28 66 33 13 80\n",
    "24 47 32 60 99 03 45 02 44 75 33 53 78 36 84 20 35 17 12 50\n",
    "32 98 81 28 64 23 67 10 26 38 40 67 59 54 70 66 18 38 64 70\n",
    "67 26 20 68 02 62 12 20 95 63 94 39 63 08 40 91 66 49 94 21\n",
    "24 55 58 05 66 73 99 26 97 17 78 78 96 83 14 88 34 89 63 72\n",
    "21 36 23 09 75 00 76 44 20 45 35 14 00 61 33 97 34 31 33 95\n",
    "78 17 53 28 22 75 31 67 15 94 03 80 04 62 16 14 09 53 56 92\n",
    "16 39 05 42 96 35 31 47 55 58 88 24 00 17 54 24 36 29 85 57\n",
    "86 56 00 48 35 71 89 07 05 44 44 37 44 60 21 58 51 54 17 58\n",
    "19 80 81 68 05 94 47 69 28 73 92 13 86 52 17 77 04 89 55 40\n",
    "04 52 08 83 97 35 99 16 07 97 57 32 16 26 26 79 33 27 98 66\n",
    "88 36 68 87 57 62 20 72 03 46 33 67 46 55 12 32 63 93 53 69\n",
    "04 42 16 73 38 25 39 11 24 94 72 18 08 46 29 32 40 62 76 36\n",
    "20 69 36 41 72 30 23 88 34 62 99 69 82 67 59 85 74 04 36 16\n",
    "20 73 35 29 78 31 90 01 74 31 49 71 48 86 81 16 23 57 05 54\n",
    "01 70 54 71 83 51 54 69 16 92 33 48 61 43 52 01 89 19 67 48\"\"\""
   ]
  },
  {
   "cell_type": "code",
   "execution_count": 8,
   "id": "35de6a8e-9e0d-421b-856d-521455155ca4",
   "metadata": {},
   "outputs": [
    {
     "ename": "IndexError",
     "evalue": "string index out of range",
     "output_type": "error",
     "traceback": [
      "\u001b[1;31m---------------------------------------------------------------------------\u001b[0m",
      "\u001b[1;31mIndexError\u001b[0m                                Traceback (most recent call last)",
      "\u001b[1;32m<ipython-input-8-a1689ede00bb>\u001b[0m in \u001b[0;36m<module>\u001b[1;34m\u001b[0m\n\u001b[0;32m      1\u001b[0m \u001b[1;32mfor\u001b[0m  \u001b[0mi\u001b[0m \u001b[1;32min\u001b[0m \u001b[0mrange\u001b[0m\u001b[1;33m(\u001b[0m\u001b[1;36m0\u001b[0m\u001b[1;33m,\u001b[0m\u001b[1;36m20\u001b[0m\u001b[1;33m)\u001b[0m\u001b[1;33m:\u001b[0m\u001b[1;33m\u001b[0m\u001b[1;33m\u001b[0m\u001b[0m\n\u001b[0;32m      2\u001b[0m     \u001b[1;32mfor\u001b[0m \u001b[0mj\u001b[0m \u001b[1;32min\u001b[0m \u001b[0mrange\u001b[0m\u001b[1;33m(\u001b[0m\u001b[1;36m0\u001b[0m\u001b[1;33m,\u001b[0m\u001b[1;36m20\u001b[0m\u001b[1;33m)\u001b[0m\u001b[1;33m:\u001b[0m\u001b[1;33m\u001b[0m\u001b[1;33m\u001b[0m\u001b[0m\n\u001b[1;32m----> 3\u001b[1;33m         \u001b[1;32mif\u001b[0m \u001b[0mliste\u001b[0m\u001b[1;33m[\u001b[0m\u001b[0mi\u001b[0m\u001b[1;33m]\u001b[0m\u001b[1;33m[\u001b[0m\u001b[0mj\u001b[0m\u001b[1;33m]\u001b[0m\u001b[1;33m==\u001b[0m\u001b[1;34m\"00\"\u001b[0m\u001b[1;33m:\u001b[0m\u001b[1;33m\u001b[0m\u001b[1;33m\u001b[0m\u001b[0m\n\u001b[0m\u001b[0;32m      4\u001b[0m             \u001b[0mliste\u001b[0m\u001b[1;33m[\u001b[0m\u001b[0mi\u001b[0m\u001b[1;33m]\u001b[0m\u001b[1;33m[\u001b[0m\u001b[0mj\u001b[0m\u001b[1;33m]\u001b[0m\u001b[1;33m=\u001b[0m\u001b[1;34m\"0\"\u001b[0m\u001b[1;33m\u001b[0m\u001b[1;33m\u001b[0m\u001b[0m\n\u001b[0;32m      5\u001b[0m         \u001b[1;32melif\u001b[0m \u001b[0mlen\u001b[0m\u001b[1;33m(\u001b[0m\u001b[0mliste\u001b[0m\u001b[1;33m[\u001b[0m\u001b[0mi\u001b[0m\u001b[1;33m]\u001b[0m\u001b[1;33m[\u001b[0m\u001b[0mj\u001b[0m\u001b[1;33m]\u001b[0m\u001b[1;33m)\u001b[0m\u001b[1;33m!=\u001b[0m\u001b[1;36m1\u001b[0m\u001b[1;33m:\u001b[0m\u001b[1;33m\u001b[0m\u001b[1;33m\u001b[0m\u001b[0m\n",
      "\u001b[1;31mIndexError\u001b[0m: string index out of range"
     ]
    }
   ],
   "source": [
    "for  i in range(0,20):\n",
    "    for j in range(0,20):\n",
    "        if liste[i][j]==\"00\":\n",
    "            liste[i][j]=\"0\"\n",
    "        elif len(liste[i][j])!=1:\n",
    "            if liste[i][j].startswith(\"0\"):\n",
    "                liste[i][j]=liste[i][j].strip(\"0\")\n",
    "                \n"
   ]
  },
  {
   "cell_type": "code",
   "execution_count": 10,
   "id": "12b195b1-2267-420e-8f7a-fe1c80c32948",
   "metadata": {},
   "outputs": [
    {
     "name": "stdout",
     "output_type": "stream",
     "text": [
      "(20, 20)\n",
      "22 49 81 91\n",
      "97 99 49 52\n",
      "78 98 67 68\n",
      "98 67 68 92\n",
      "89 94 97 87\n",
      "70600674\n",
      "441\n"
     ]
    },
    {
     "name": "stderr",
     "output_type": "stream",
     "text": [
      "<ipython-input-10-cbf6203c805b>:27: DeprecationWarning: `np.int` is a deprecated alias for the builtin `int`. To silence this warning, use `int` by itself. Doing this will not modify any behavior and is safe. When replacing `np.int`, you may wish to use e.g. `np.int64` or `np.int32` to specify the precision. If you wish to review your current use, check the release note link for additional information.\n",
      "Deprecated in NumPy 1.20; for more details and guidance: https://numpy.org/devdocs/release/1.20.0-notes.html#deprecations\n",
      "  ga = numpy.genfromtxt(BytesIO(ga_str.encode('utf-8')), dtype=numpy.int)\n"
     ]
    }
   ],
   "source": [
    "import numpy\n",
    "from io import BytesIO\n",
    "\n",
    "ga_str = \"\"\"\n",
    "08 02 22 97 38 15 00 40 00 75 04 05 07 78 52 12 50 77 91 08\n",
    "49 49 99 40 17 81 18 57 60 87 17 40 98 43 69 48 04 56 62 00\n",
    "81 49 31 73 55 79 14 29 93 71 40 67 53 88 30 03 49 13 36 65\n",
    "52 70 95 23 04 60 11 42 69 24 68 56 01 32 56 71 37 02 36 91\n",
    "22 31 16 71 51 67 63 89 41 92 36 54 22 40 40 28 66 33 13 80\n",
    "24 47 32 60 99 03 45 02 44 75 33 53 78 36 84 20 35 17 12 50\n",
    "32 98 81 28 64 23 67 10 26 38 40 67 59 54 70 66 18 38 64 70\n",
    "67 26 20 68 02 62 12 20 95 63 94 39 63 08 40 91 66 49 94 21\n",
    "24 55 58 05 66 73 99 26 97 17 78 78 96 83 14 88 34 89 63 72\n",
    "21 36 23 09 75 00 76 44 20 45 35 14 00 61 33 97 34 31 33 95\n",
    "78 17 53 28 22 75 31 67 15 94 03 80 04 62 16 14 09 53 56 92\n",
    "16 39 05 42 96 35 31 47 55 58 88 24 00 17 54 24 36 29 85 57\n",
    "86 56 00 48 35 71 89 07 05 44 44 37 44 60 21 58 51 54 17 58\n",
    "19 80 81 68 05 94 47 69 28 73 92 13 86 52 17 77 04 89 55 40\n",
    "04 52 08 83 97 35 99 16 07 97 57 32 16 26 26 79 33 27 98 66\n",
    "88 36 68 87 57 62 20 72 03 46 33 67 46 55 12 32 63 93 53 69\n",
    "04 42 16 73 38 25 39 11 24 94 72 18 08 46 29 32 40 62 76 36\n",
    "20 69 36 41 72 30 23 88 34 62 99 69 82 67 59 85 74 04 36 16\n",
    "20 73 35 29 78 31 90 01 74 31 49 71 48 86 81 16 23 57 05 54\n",
    "01 70 54 71 83 51 54 69 16 92 33 48 61 43 52 01 89 19 67 48\n",
    "\"\"\"\n",
    "\n",
    "ga = numpy.genfromtxt(BytesIO(ga_str.encode('utf-8')), dtype=numpy.int)\n",
    "print(ga.shape)\n",
    "largest_product = 0\n",
    "x = 0\n",
    "y = 0\n",
    "count = 0\n",
    "while x <= 20 and y <= 20:\n",
    "    count += 1\n",
    "    try:\n",
    "        if ga[y][x] * ga[y][x+1] * ga[y][x+2] * ga[y][x+3] > largest_product:\n",
    "            largest_product = ga[y][x] * ga[y][x+1] * ga[y][x+2] * ga[y][x+3]\n",
    "    except: pass\n",
    "    try:\n",
    "        if ga[y][x] * ga[y+1][x] * ga[y+2][x] * ga[y+3][x] > largest_product:\n",
    "            largest_product = ga[y][x] * ga[y+1][x] * ga[y+2][x] * ga[y+3][x]\n",
    "    except: pass\n",
    "    try:\n",
    "        if ga[y][x] * ga[y+1][x+1] * ga[y+2][x+2] * ga[y+3][x+3] > largest_product:\n",
    "            largest_product = ga[y][x] * ga[y+1][x+1] * ga[y+2][x+2] * ga[y+3][x+3]\n",
    "    except: pass\n",
    "    try:\n",
    "        if ga[y][x] * ga[y+1][x-1] * ga[y+2][x-2] * ga[y+3][x-3] > largest_product:\n",
    "            print(ga[y][x], ga[y+1][x-1], ga[y+2][x-2], ga[y+3][x-3])\n",
    "            largest_product = ga[y][x] * ga[y+1][x-1] * ga[y+2][x-2] * ga[y+3][x-3]\n",
    "    except: pass\n",
    "\n",
    "    if x < 20:\n",
    "        x += 1\n",
    "    else:\n",
    "        x = 0\n",
    "        y += 1\n",
    "\n",
    "print(largest_product)\n",
    "print(count)"
   ]
  },
  {
   "cell_type": "code",
   "execution_count": 11,
   "id": "04fb3a5b-4201-4076-b295-845b80ae0e9a",
   "metadata": {},
   "outputs": [
    {
     "name": "stdout",
     "output_type": "stream",
     "text": [
      "70600674\n"
     ]
    }
   ],
   "source": [
    "num_grid = [\n",
    "\t[ 8, 2,22,97,38,15, 0,40, 0,75, 4, 5, 7,78,52,12,50,77,91, 8],\n",
    "\t[49,49,99,40,17,81,18,57,60,87,17,40,98,43,69,48, 4,56,62, 0],\n",
    "\t[81,49,31,73,55,79,14,29,93,71,40,67,53,88,30, 3,49,13,36,65],\n",
    "\t[52,70,95,23, 4,60,11,42,69,24,68,56, 1,32,56,71,37, 2,36,91],\n",
    "\t[22,31,16,71,51,67,63,89,41,92,36,54,22,40,40,28,66,33,13,80],\n",
    "\t[24,47,32,60,99, 3,45, 2,44,75,33,53,78,36,84,20,35,17,12,50],\n",
    "\t[32,98,81,28,64,23,67,10,26,38,40,67,59,54,70,66,18,38,64,70],\n",
    "\t[67,26,20,68, 2,62,12,20,95,63,94,39,63, 8,40,91,66,49,94,21],\n",
    "\t[24,55,58, 5,66,73,99,26,97,17,78,78,96,83,14,88,34,89,63,72],\n",
    "\t[21,36,23, 9,75, 0,76,44,20,45,35,14, 0,61,33,97,34,31,33,95],\n",
    "\t[78,17,53,28,22,75,31,67,15,94, 3,80, 4,62,16,14, 9,53,56,92],\n",
    "\t[16,39, 5,42,96,35,31,47,55,58,88,24, 0,17,54,24,36,29,85,57],\n",
    "\t[86,56, 0,48,35,71,89, 7, 5,44,44,37,44,60,21,58,51,54,17,58],\n",
    "\t[19,80,81,68, 5,94,47,69,28,73,92,13,86,52,17,77, 4,89,55,40],\n",
    "\t[ 4,52, 8,83,97,35,99,16, 7,97,57,32,16,26,26,79,33,27,98,66],\n",
    "\t[88,36,68,87,57,62,20,72, 3,46,33,67,46,55,12,32,63,93,53,69],\n",
    "\t[ 4,42,16,73,38,25,39,11,24,94,72,18, 8,46,29,32,40,62,76,36],\n",
    "\t[20,69,36,41,72,30,23,88,34,62,99,69,82,67,59,85,74, 4,36,16],\n",
    "\t[20,73,35,29,78,31,90, 1,74,31,49,71,48,86,81,16,23,57, 5,54],\n",
    "\t[ 1,70,54,71,83,51,54,69,16,92,33,48,61,43,52, 1,89,19,67,48]\n",
    "]\n",
    "\n",
    "\n",
    "def product(arr):\n",
    "\tprod = 1\n",
    "\tfor num in arr:\n",
    "\t\tprod *= num\n",
    "\n",
    "\treturn prod\n",
    "\n",
    "\n",
    "def search_up_down(grid):\n",
    "\tresult = 0\n",
    "\theight, width = len(grid), len(grid[0])\n",
    "\n",
    "\tfor i in range(height - 4):\n",
    "\t\tfor j in range(width):\n",
    "\t\t\tprod = product([row[j] for row in grid[i:i+4]])\n",
    "\t\t\tresult = max(result, prod)\n",
    "\n",
    "\treturn result\n",
    "\n",
    "\n",
    "def search_left_right(grid):\n",
    "\tresult = 0\n",
    "\theight, width = len(grid), len(grid[0])\n",
    "\n",
    "\tfor i in range(width - 4):\n",
    "\t\tfor j in range(height):\n",
    "\t\t\tprod = product(grid[j][i:i+4])\n",
    "\t\t\tresult = max(result, prod)\n",
    "\n",
    "\treturn result\n",
    "\n",
    "\n",
    "def search_diagonal_ul_br(grid):\n",
    "\tresult = 0\n",
    "\theight, width = len(grid), len(grid[0])\n",
    "\n",
    "\tfor i in range(height - 4):\n",
    "\t\tfor j in range(width - 4):\n",
    "\t\t\tprod = product([grid[i+offset][j+offset] for offset in range(4)])\n",
    "\t\t\tresult = max(result, prod)\n",
    "\n",
    "\treturn result\n",
    "\n",
    "\n",
    "def search_diagonal_bl_ur(grid):\n",
    "\tresult = 0\n",
    "\theight, width = len(grid), len(grid[0])\n",
    "\n",
    "\tfor i in range(height - 4):\n",
    "\t\tfor j in range(width - 4):\n",
    "\t\t\tprod = product([grid[i+3-offset][j+offset] for offset in range(4)])\n",
    "\t\t\tresult = max(result, prod)\n",
    "\n",
    "\treturn result\n",
    "\n",
    "\n",
    "def search_grid(grid):\n",
    "\treturn max(search_up_down(grid), max(search_left_right(grid), max(search_diagonal_bl_ur(grid), search_diagonal_ul_br(grid))))\n",
    "\n",
    "\n",
    "print(search_grid(num_grid))"
   ]
  },
  {
   "cell_type": "code",
   "execution_count": 13,
   "id": "b6b37684-5c5b-4ad5-a8a6-869a18907cf1",
   "metadata": {},
   "outputs": [
    {
     "name": "stdout",
     "output_type": "stream",
     "text": [
      "70600674\n",
      "0.02718520164489746\n"
     ]
    }
   ],
   "source": [
    "\n",
    "import numpy as np\n",
    "import time\n",
    "\n",
    "start = time.time()\n",
    "\n",
    "input_data = \"\"\"08 02 22 97 38 15 00 40 00 75 04 05 07 78 52 12 50 77 91 08 \n",
    "49 49 99 40 17 81 18 57 60 87 17 40 98 43 69 48 04 56 62 00 \n",
    "81 49 31 73 55 79 14 29 93 71 40 67 53 88 30 03 49 13 36 65 \n",
    "52 70 95 23 04 60 11 42 69 24 68 56 01 32 56 71 37 02 36 91 \n",
    "22 31 16 71 51 67 63 89 41 92 36 54 22 40 40 28 66 33 13 80 \n",
    "24 47 32 60 99 03 45 02 44 75 33 53 78 36 84 20 35 17 12 50 \n",
    "32 98 81 28 64 23 67 10 26 38 40 67 59 54 70 66 18 38 64 70 \n",
    "67 26 20 68 02 62 12 20 95 63 94 39 63 08 40 91 66 49 94 21 \n",
    "24 55 58 05 66 73 99 26 97 17 78 78 96 83 14 88 34 89 63 72 \n",
    "21 36 23 09 75 00 76 44 20 45 35 14 00 61 33 97 34 31 33 95 \n",
    "78 17 53 28 22 75 31 67 15 94 03 80 04 62 16 14 09 53 56 92 \n",
    "16 39 05 42 96 35 31 47 55 58 88 24 00 17 54 24 36 29 85 57 \n",
    "86 56 00 48 35 71 89 07 05 44 44 37 44 60 21 58 51 54 17 58 \n",
    "19 80 81 68 05 94 47 69 28 73 92 13 86 52 17 77 04 89 55 40 \n",
    "04 52 08 83 97 35 99 16 07 97 57 32 16 26 26 79 33 27 98 66 \n",
    "88 36 68 87 57 62 20 72 03 46 33 67 46 55 12 32 63 93 53 69 \n",
    "04 42 16 73 38 25 39 11 24 94 72 18 08 46 29 32 40 62 76 36 \n",
    "20 69 36 41 72 30 23 88 34 62 99 69 82 67 59 85 74 04 36 16 \n",
    "20 73 35 29 78 31 90 01 74 31 49 71 48 86 81 16 23 57 05 54 \n",
    "01 70 54 71 83 51 54 69 16 92 33 48 61 43 52 01 89 19 67 48\"\"\"\n",
    "\n",
    "input_data = [int(x.strip()) for x in input_data.split(' ')]\n",
    "input_data = np.array(input_data).reshape((20, 20))\n",
    "\n",
    "def calculate(subsection):\n",
    "    total = []\n",
    "    total += list(subsection.prod(1)) + list(subsection.prod(0))\n",
    "    total += [subsection.diagonal().prod(), np.fliplr(subsection).diagonal().prod()] \n",
    "    return total\n",
    "\n",
    "new_total = []\n",
    "for i in range(17):\n",
    "    for j in range(17):\n",
    "        new_total += calculate(input_data[i:i+4, j:j+4])\n",
    "\n",
    "print(max(new_total))\n",
    "print(time.time()-start)\n"
   ]
  },
  {
   "cell_type": "code",
   "execution_count": 14,
   "id": "491f10c0-6c0d-455f-812e-fa236011d566",
   "metadata": {},
   "outputs": [
    {
     "name": "stdout",
     "output_type": "stream",
     "text": [
      "70600674\n"
     ]
    }
   ],
   "source": [
    "numbers=((8,2,22,97,38,15,00,40,00,75,4,5,7,78,52,12,50,77,91,8),\n",
    "(49,49,99,40,17,81,18,57,60,87,17,40,98,43,69,48,4,56,62,0),\n",
    "(81,49,31,73,55,79,14,29,93,71,40,67,53,88,30,3,49,13,36,65),\n",
    "(52,70,95,23,4,60,11,42,69,24,68,56,1,32,56,71,37,2,36,91),\n",
    "(22,31,16,71,51,67,63,89,41,92,36,54,22,40,40,28,66,33,13,80),\n",
    "(24,47,32,60,99,3,45,2,44,75,33,53,78,36,84,20,35,17,12,50),\n",
    "(32,98,81,28,64,23,67,10,26,38,40,67,59,54,70,66,18,38,64,70),\n",
    "(67,26,20,68,2,62,12,20,95,63,94,39,63,8,40,91,66,49,94,21),\n",
    "(24,55,58,5,66,73,99,26,97,17,78,78,96,83,14,88,34,89,63,72),\n",
    "(21,36,23,9,75,00,76,44,20,45,35,14,00,61,33,97,34,31,33,95),\n",
    "(78,17,53,28,22,75,31,67,15,94,3,80,4,62,16,14,9,53,56,92),\n",
    "(16,39,5,42,96,35,31,47,55,58,88,24,00,17,54,24,36,29,85,57),\n",
    "(86,56,00,48,35,71,89,7,5,44,44,37,44,60,21,58,51,54,17,58),\n",
    "(19,80,81,68,5,94,47,69,28,73,92,13,86,52,17,77,4,89,55,40),\n",
    "(4,52,8,83,97,35,99,16,7,97,57,32,16,26,26,79,33,27,98,66),\n",
    "(88,36,68,87,57,62,20,72,3,46,33,67,46,55,12,32,63,93,53,69),\n",
    "(4,42,16,73,38,25,39,11,24,94,72,18,8,46,29,32,40,62,76,36),\n",
    "(20,69,36,41,72,30,23,88,34,62,99,69,82,67,59,85,74,4,36,16),\n",
    "(20,73,35,29,78,31,90,1,74,31,49,71,48,86,81,16,23,57,5,54),\n",
    "(1,70,54,71,83,51,54,69,16,92,33,48,61,43,52,1,89,19,67,48))\n",
    "max=0\n",
    "#left/right\n",
    "for i in range (20):\n",
    "    for j in range (17):\n",
    "        product=numbers[i][j]*numbers[i][j+1]*numbers[i][j+2]*numbers[i][j+3]\n",
    "        if product > max:\n",
    "            max=product\n",
    "#up/down\n",
    "for i in range (17):\n",
    "    for j in range (20):\n",
    "        product=numbers[j][i]*numbers[j][i+1]*numbers[j][i+2]*numbers[j][i+3]\n",
    "        if product > max:\n",
    "            max=product\n",
    "#diagonally\n",
    "for i in range (17):\n",
    "    for j in range (17):\n",
    "        product=numbers[i][j]*numbers[i+1][j+1]*numbers[i+2][j+2]*numbers[i+3][j+3]\n",
    "        if product > max:\n",
    "            max=product\n",
    "for i in range (17):\n",
    "    for j in range (19,2,-1):\n",
    "        product=numbers[i][j]*numbers[i+1][j-1]*numbers[i+2][j-2]*numbers[i+3][j-3]\n",
    "        if product > max:\n",
    "            max=product\n",
    "print(max)"
   ]
  },
  {
   "cell_type": "markdown",
   "id": "c72eb128-c5ca-4fce-b97e-cb75989eba72",
   "metadata": {},
   "source": [
    "# 12)"
   ]
  },
  {
   "cell_type": "markdown",
   "id": "4fe295df-ced4-46d9-840b-455c7fc391ad",
   "metadata": {},
   "source": [
    "    The sequence of triangle numbers is generated by adding the natural numbers. So the 7th triangle number would be 1 + 2 + 3 + 4 + 5 + 6 + 7 = 28. The first ten terms would be:\n",
    "\n",
    "    1, 3, 6, 10, 15, 21, 28, 36, 45, 55, ...\n",
    "\n",
    "    Let us list the factors of the first seven triangle numbers:\n",
    "\n",
    "     1: 1\n",
    "     3: 1,3\n",
    "     6: 1,2,3,6\n",
    "    10: 1,2,5,10\n",
    "    15: 1,3,5,15\n",
    "    21: 1,3,7,21\n",
    "    28: 1,2,4,7,14,28\n",
    "    We can see that 28 is the first triangle number to have over five divisors.\n",
    "\n",
    "    What is the value of the first triangle number to have over five hundred divisors?"
   ]
  },
  {
   "cell_type": "code",
   "execution_count": null,
   "id": "f8d40421-85fc-4ed7-ab41-420cdca9417e",
   "metadata": {},
   "outputs": [],
   "source": []
  },
  {
   "cell_type": "code",
   "execution_count": 3,
   "id": "afa8b896-d0cf-420c-b77b-7ad1e2b953dd",
   "metadata": {},
   "outputs": [],
   "source": [
    "# 1+2+3+...+n = n(n+1)/2"
   ]
  },
  {
   "cell_type": "raw",
   "id": "0cb9f0d8-1cda-4076-8c95-06117725bc61",
   "metadata": {},
   "source": [
    "import math"
   ]
  },
  {
   "cell_type": "code",
   "execution_count": 10,
   "id": "329fcc87-20be-4fe2-8286-77f15234e5e1",
   "metadata": {},
   "outputs": [
    {
     "name": "stdout",
     "output_type": "stream",
     "text": [
      "76576500\n"
     ]
    }
   ],
   "source": [
    "def bolen_sayisi(x):\n",
    "    bolen = 1\n",
    "    for i in range(2, int(math.sqrt(x) +1)): \n",
    "        if x% i == 0:\n",
    "            bolen += 1\n",
    "    return bolen*2     # karekök aldığımız için böleni ikiyle çarptık\n",
    "\n",
    "#print(bolen_sayisi(6))       \n",
    "\n",
    "n = 1\n",
    "\n",
    "while True:\n",
    "    number = (n*(n+1))/2   # formülü bilmeden for döngüsüyle çözümü bir sonraki hücrede\n",
    "    if bolen_sayisi(number) > 500:\n",
    "        print(int(number))\n",
    "        break\n",
    "    n += 1"
   ]
  },
  {
   "cell_type": "code",
   "execution_count": 12,
   "id": "108a7da8-b39f-4945-a047-a99318d59ffa",
   "metadata": {},
   "outputs": [
    {
     "name": "stdout",
     "output_type": "stream",
     "text": [
      "76576500\n"
     ]
    }
   ],
   "source": [
    "def bolen_sayisi(x):\n",
    "    bolen = 1\n",
    "    for i in range(2, int(math.sqrt(x) +1)): \n",
    "        if x% i == 0:\n",
    "            bolen += 1\n",
    "    return bolen*2     \n",
    "\n",
    "#print(bolen_sayisi(6))       \n",
    "\n",
    "n = 1\n",
    "\n",
    "while True:\n",
    "    \n",
    "    number = 0\n",
    "    for i in range(1,n+1):\n",
    "        number += i\n",
    "    if bolen_sayisi(number) > 500:\n",
    "        print(int(number))\n",
    "        break\n",
    "    n += 1"
   ]
  },
  {
   "cell_type": "code",
   "execution_count": 14,
   "id": "34a31b99-b875-4b0e-a680-4032a1aea1c6",
   "metadata": {},
   "outputs": [
    {
     "name": "stdout",
     "output_type": "stream",
     "text": [
      "76576500\n"
     ]
    }
   ],
   "source": [
    "def is_prime(n):\n",
    "    if n in [2, 3]:\n",
    "        return True\n",
    "    if n % 2 == 0 or n % 3 == 0:\n",
    "        return False\n",
    "    for i in range(5, int(n**(1/2)) + 1, 6):\n",
    "        if n % i == 0 or n % (i + 2) == 0:\n",
    "            return False\n",
    "    return True\n",
    "\n",
    "\n",
    "def get_factors(n):\n",
    "    factors = []\n",
    "    if is_prime(n):\n",
    "        return [n]\n",
    "    for i in range(1, int(n**(1/2))):\n",
    "        if n % i == 0:\n",
    "            factors.append(i)\n",
    "    if n**0.5 * n**0.5 == float(n):\n",
    "        factors.append(int(n**0.5))\n",
    "    factors += [n//i for i in factors[::-1]]\n",
    "    return factors\n",
    "\n",
    "\n",
    "i = 1\n",
    "while True:\n",
    "    n = (i * (i + 1)) // 2\n",
    "    l = len(get_factors(n))\n",
    "    if l > 500:\n",
    "        print(n)\n",
    "        break\n",
    "    i += 1"
   ]
  },
  {
   "cell_type": "markdown",
   "id": "467c786b-2219-4ed6-b3b1-4734b622474c",
   "metadata": {},
   "source": [
    "# 13)"
   ]
  },
  {
   "cell_type": "markdown",
   "id": "f4bf6848-58fc-4944-befa-e9241d64ccb4",
   "metadata": {},
   "source": [
    "    Work out the first ten digits of the sum of the following one-hundred 50-digit numbers.\n",
    "\n",
    "    37107287533902102798797998220837590246510135740250\n",
    "    46376937677490009712648124896970078050417018260538\n",
    "    74324986199524741059474233309513058123726617309629\n",
    "    91942213363574161572522430563301811072406154908250\n",
    "    23067588207539346171171980310421047513778063246676\n",
    "    89261670696623633820136378418383684178734361726757\n",
    "    28112879812849979408065481931592621691275889832738\n",
    "    44274228917432520321923589422876796487670272189318\n",
    "    47451445736001306439091167216856844588711603153276\n",
    "    70386486105843025439939619828917593665686757934951\n",
    "    62176457141856560629502157223196586755079324193331\n",
    "    64906352462741904929101432445813822663347944758178\n",
    "    92575867718337217661963751590579239728245598838407\n",
    "    58203565325359399008402633568948830189458628227828\n",
    "    80181199384826282014278194139940567587151170094390\n",
    "    35398664372827112653829987240784473053190104293586\n",
    "    86515506006295864861532075273371959191420517255829\n",
    "    71693888707715466499115593487603532921714970056938\n",
    "    54370070576826684624621495650076471787294438377604\n",
    "    53282654108756828443191190634694037855217779295145\n",
    "    36123272525000296071075082563815656710885258350721\n",
    "    45876576172410976447339110607218265236877223636045\n",
    "    17423706905851860660448207621209813287860733969412\n",
    "    81142660418086830619328460811191061556940512689692\n",
    "    51934325451728388641918047049293215058642563049483\n",
    "    62467221648435076201727918039944693004732956340691\n",
    "    15732444386908125794514089057706229429197107928209\n",
    "    55037687525678773091862540744969844508330393682126\n",
    "    18336384825330154686196124348767681297534375946515\n",
    "    80386287592878490201521685554828717201219257766954\n",
    "    78182833757993103614740356856449095527097864797581\n",
    "    16726320100436897842553539920931837441497806860984\n",
    "    48403098129077791799088218795327364475675590848030\n",
    "    87086987551392711854517078544161852424320693150332\n",
    "    59959406895756536782107074926966537676326235447210\n",
    "    69793950679652694742597709739166693763042633987085\n",
    "    41052684708299085211399427365734116182760315001271\n",
    "    65378607361501080857009149939512557028198746004375\n",
    "    35829035317434717326932123578154982629742552737307\n",
    "    94953759765105305946966067683156574377167401875275\n",
    "    88902802571733229619176668713819931811048770190271\n",
    "    25267680276078003013678680992525463401061632866526\n",
    "    36270218540497705585629946580636237993140746255962\n",
    "    24074486908231174977792365466257246923322810917141\n",
    "    91430288197103288597806669760892938638285025333403\n",
    "    34413065578016127815921815005561868836468420090470\n",
    "    23053081172816430487623791969842487255036638784583\n",
    "    11487696932154902810424020138335124462181441773470\n",
    "    63783299490636259666498587618221225225512486764533\n",
    "    67720186971698544312419572409913959008952310058822\n",
    "    95548255300263520781532296796249481641953868218774\n",
    "    76085327132285723110424803456124867697064507995236\n",
    "    37774242535411291684276865538926205024910326572967\n",
    "    23701913275725675285653248258265463092207058596522\n",
    "    29798860272258331913126375147341994889534765745501\n",
    "    18495701454879288984856827726077713721403798879715\n",
    "    38298203783031473527721580348144513491373226651381\n",
    "    34829543829199918180278916522431027392251122869539\n",
    "    40957953066405232632538044100059654939159879593635\n",
    "    29746152185502371307642255121183693803580388584903\n",
    "    41698116222072977186158236678424689157993532961922\n",
    "    62467957194401269043877107275048102390895523597457\n",
    "    23189706772547915061505504953922979530901129967519\n",
    "    86188088225875314529584099251203829009407770775672\n",
    "    11306739708304724483816533873502340845647058077308\n",
    "    82959174767140363198008187129011875491310547126581\n",
    "    97623331044818386269515456334926366572897563400500\n",
    "    42846280183517070527831839425882145521227251250327\n",
    "    55121603546981200581762165212827652751691296897789\n",
    "    32238195734329339946437501907836945765883352399886\n",
    "    75506164965184775180738168837861091527357929701337\n",
    "    62177842752192623401942399639168044983993173312731\n",
    "    32924185707147349566916674687634660915035914677504\n",
    "    99518671430235219628894890102423325116913619626622\n",
    "    73267460800591547471830798392868535206946944540724\n",
    "    76841822524674417161514036427982273348055556214818\n",
    "    97142617910342598647204516893989422179826088076852\n",
    "    87783646182799346313767754307809363333018982642090\n",
    "    10848802521674670883215120185883543223812876952786\n",
    "    71329612474782464538636993009049310363619763878039\n",
    "    62184073572399794223406235393808339651327408011116\n",
    "    66627891981488087797941876876144230030984490851411\n",
    "    60661826293682836764744779239180335110989069790714\n",
    "    85786944089552990653640447425576083659976645795096\n",
    "    66024396409905389607120198219976047599490197230297\n",
    "    64913982680032973156037120041377903785566085089252\n",
    "    16730939319872750275468906903707539413042652315011\n",
    "    94809377245048795150954100921645863754710598436791\n",
    "    78639167021187492431995700641917969777599028300699\n",
    "    15368713711936614952811305876380278410754449733078\n",
    "    40789923115535562561142322423255033685442488917353\n",
    "    44889911501440648020369068063960672322193204149535\n",
    "    41503128880339536053299340368006977710650566631954\n",
    "    81234880673210146739058568557934581403627822703280\n",
    "    82616570773948327592232845941706525094512325230608\n",
    "    22918802058777319719839450180888072429661980811197\n",
    "    77158542502016545090413245809786882778948721859617\n",
    "    72107838435069186155435662884062257473692284509516\n",
    "    20849603980134001723930671666823555245252804609722\n",
    "    53503534226472524250874054075591789781264330331690"
   ]
  },
  {
   "cell_type": "code",
   "execution_count": null,
   "id": "51bfa43e-3296-4fbb-a4a1-401e7a8260ec",
   "metadata": {},
   "outputs": [],
   "source": [
    "# 100 tane elli basamaklı sayının toplamının ilk 10 hanesi:"
   ]
  },
  {
   "cell_type": "code",
   "execution_count": 25,
   "id": "72baae7c-c1f6-48ca-9fbc-b822623b2e1f",
   "metadata": {},
   "outputs": [
    {
     "name": "stdout",
     "output_type": "stream",
     "text": [
      "5537376230\n"
     ]
    }
   ],
   "source": [
    "numbers = \"\"\"37107287533902102798797998220837590246510135740250\n",
    "46376937677490009712648124896970078050417018260538\n",
    "74324986199524741059474233309513058123726617309629\n",
    "91942213363574161572522430563301811072406154908250\n",
    "23067588207539346171171980310421047513778063246676\n",
    "89261670696623633820136378418383684178734361726757\n",
    "28112879812849979408065481931592621691275889832738\n",
    "44274228917432520321923589422876796487670272189318\n",
    "47451445736001306439091167216856844588711603153276\n",
    "70386486105843025439939619828917593665686757934951\n",
    "62176457141856560629502157223196586755079324193331\n",
    "64906352462741904929101432445813822663347944758178\n",
    "92575867718337217661963751590579239728245598838407\n",
    "58203565325359399008402633568948830189458628227828\n",
    "80181199384826282014278194139940567587151170094390\n",
    "35398664372827112653829987240784473053190104293586\n",
    "86515506006295864861532075273371959191420517255829\n",
    "71693888707715466499115593487603532921714970056938\n",
    "54370070576826684624621495650076471787294438377604\n",
    "53282654108756828443191190634694037855217779295145\n",
    "36123272525000296071075082563815656710885258350721\n",
    "45876576172410976447339110607218265236877223636045\n",
    "17423706905851860660448207621209813287860733969412\n",
    "81142660418086830619328460811191061556940512689692\n",
    "51934325451728388641918047049293215058642563049483\n",
    "62467221648435076201727918039944693004732956340691\n",
    "15732444386908125794514089057706229429197107928209\n",
    "55037687525678773091862540744969844508330393682126\n",
    "18336384825330154686196124348767681297534375946515\n",
    "80386287592878490201521685554828717201219257766954\n",
    "78182833757993103614740356856449095527097864797581\n",
    "16726320100436897842553539920931837441497806860984\n",
    "48403098129077791799088218795327364475675590848030\n",
    "87086987551392711854517078544161852424320693150332\n",
    "59959406895756536782107074926966537676326235447210\n",
    "69793950679652694742597709739166693763042633987085\n",
    "41052684708299085211399427365734116182760315001271\n",
    "65378607361501080857009149939512557028198746004375\n",
    "35829035317434717326932123578154982629742552737307\n",
    "94953759765105305946966067683156574377167401875275\n",
    "88902802571733229619176668713819931811048770190271\n",
    "25267680276078003013678680992525463401061632866526\n",
    "36270218540497705585629946580636237993140746255962\n",
    "24074486908231174977792365466257246923322810917141\n",
    "91430288197103288597806669760892938638285025333403\n",
    "34413065578016127815921815005561868836468420090470\n",
    "23053081172816430487623791969842487255036638784583\n",
    "11487696932154902810424020138335124462181441773470\n",
    "63783299490636259666498587618221225225512486764533\n",
    "67720186971698544312419572409913959008952310058822\n",
    "95548255300263520781532296796249481641953868218774\n",
    "76085327132285723110424803456124867697064507995236\n",
    "37774242535411291684276865538926205024910326572967\n",
    "23701913275725675285653248258265463092207058596522\n",
    "29798860272258331913126375147341994889534765745501\n",
    "18495701454879288984856827726077713721403798879715\n",
    "38298203783031473527721580348144513491373226651381\n",
    "34829543829199918180278916522431027392251122869539\n",
    "40957953066405232632538044100059654939159879593635\n",
    "29746152185502371307642255121183693803580388584903\n",
    "41698116222072977186158236678424689157993532961922\n",
    "62467957194401269043877107275048102390895523597457\n",
    "23189706772547915061505504953922979530901129967519\n",
    "86188088225875314529584099251203829009407770775672\n",
    "11306739708304724483816533873502340845647058077308\n",
    "82959174767140363198008187129011875491310547126581\n",
    "97623331044818386269515456334926366572897563400500\n",
    "42846280183517070527831839425882145521227251250327\n",
    "55121603546981200581762165212827652751691296897789\n",
    "32238195734329339946437501907836945765883352399886\n",
    "75506164965184775180738168837861091527357929701337\n",
    "62177842752192623401942399639168044983993173312731\n",
    "32924185707147349566916674687634660915035914677504\n",
    "99518671430235219628894890102423325116913619626622\n",
    "73267460800591547471830798392868535206946944540724\n",
    "76841822524674417161514036427982273348055556214818\n",
    "97142617910342598647204516893989422179826088076852\n",
    "87783646182799346313767754307809363333018982642090\n",
    "10848802521674670883215120185883543223812876952786\n",
    "71329612474782464538636993009049310363619763878039\n",
    "62184073572399794223406235393808339651327408011116\n",
    "66627891981488087797941876876144230030984490851411\n",
    "60661826293682836764744779239180335110989069790714\n",
    "85786944089552990653640447425576083659976645795096\n",
    "66024396409905389607120198219976047599490197230297\n",
    "64913982680032973156037120041377903785566085089252\n",
    "16730939319872750275468906903707539413042652315011\n",
    "94809377245048795150954100921645863754710598436791\n",
    "78639167021187492431995700641917969777599028300699\n",
    "15368713711936614952811305876380278410754449733078\n",
    "40789923115535562561142322423255033685442488917353\n",
    "44889911501440648020369068063960672322193204149535\n",
    "41503128880339536053299340368006977710650566631954\n",
    "81234880673210146739058568557934581403627822703280\n",
    "82616570773948327592232845941706525094512325230608\n",
    "22918802058777319719839450180888072429661980811197\n",
    "77158542502016545090413245809786882778948721859617\n",
    "72107838435069186155435662884062257473692284509516\n",
    "20849603980134001723930671666823555245252804609722\n",
    "53503534226472524250874054075591789781264330331690\"\"\"\n",
    "\n",
    "numbers = numbers.split()\n",
    "summ = 0\n",
    "for i in numbers:\n",
    "    summ += int(i)\n",
    "print(str(summ)[:10:])"
   ]
  },
  {
   "cell_type": "code",
   "execution_count": 26,
   "id": "6525e8af-0e01-4aa2-894a-f2cb41558727",
   "metadata": {},
   "outputs": [
    {
     "name": "stdout",
     "output_type": "stream",
     "text": [
      "5537376230\n"
     ]
    }
   ],
   "source": [
    "txt = \"\"\"\n",
    "37107287533902102798797998220837590246510135740250\n",
    "46376937677490009712648124896970078050417018260538\n",
    "74324986199524741059474233309513058123726617309629\n",
    "91942213363574161572522430563301811072406154908250\n",
    "23067588207539346171171980310421047513778063246676\n",
    "89261670696623633820136378418383684178734361726757\n",
    "28112879812849979408065481931592621691275889832738\n",
    "44274228917432520321923589422876796487670272189318\n",
    "47451445736001306439091167216856844588711603153276\n",
    "70386486105843025439939619828917593665686757934951\n",
    "62176457141856560629502157223196586755079324193331\n",
    "64906352462741904929101432445813822663347944758178\n",
    "92575867718337217661963751590579239728245598838407\n",
    "58203565325359399008402633568948830189458628227828\n",
    "80181199384826282014278194139940567587151170094390\n",
    "35398664372827112653829987240784473053190104293586\n",
    "86515506006295864861532075273371959191420517255829\n",
    "71693888707715466499115593487603532921714970056938\n",
    "54370070576826684624621495650076471787294438377604\n",
    "53282654108756828443191190634694037855217779295145\n",
    "36123272525000296071075082563815656710885258350721\n",
    "45876576172410976447339110607218265236877223636045\n",
    "17423706905851860660448207621209813287860733969412\n",
    "81142660418086830619328460811191061556940512689692\n",
    "51934325451728388641918047049293215058642563049483\n",
    "62467221648435076201727918039944693004732956340691\n",
    "15732444386908125794514089057706229429197107928209\n",
    "55037687525678773091862540744969844508330393682126\n",
    "18336384825330154686196124348767681297534375946515\n",
    "80386287592878490201521685554828717201219257766954\n",
    "78182833757993103614740356856449095527097864797581\n",
    "16726320100436897842553539920931837441497806860984\n",
    "48403098129077791799088218795327364475675590848030\n",
    "87086987551392711854517078544161852424320693150332\n",
    "59959406895756536782107074926966537676326235447210\n",
    "69793950679652694742597709739166693763042633987085\n",
    "41052684708299085211399427365734116182760315001271\n",
    "65378607361501080857009149939512557028198746004375\n",
    "35829035317434717326932123578154982629742552737307\n",
    "94953759765105305946966067683156574377167401875275\n",
    "88902802571733229619176668713819931811048770190271\n",
    "25267680276078003013678680992525463401061632866526\n",
    "36270218540497705585629946580636237993140746255962\n",
    "24074486908231174977792365466257246923322810917141\n",
    "91430288197103288597806669760892938638285025333403\n",
    "34413065578016127815921815005561868836468420090470\n",
    "23053081172816430487623791969842487255036638784583\n",
    "11487696932154902810424020138335124462181441773470\n",
    "63783299490636259666498587618221225225512486764533\n",
    "67720186971698544312419572409913959008952310058822\n",
    "95548255300263520781532296796249481641953868218774\n",
    "76085327132285723110424803456124867697064507995236\n",
    "37774242535411291684276865538926205024910326572967\n",
    "23701913275725675285653248258265463092207058596522\n",
    "29798860272258331913126375147341994889534765745501\n",
    "18495701454879288984856827726077713721403798879715\n",
    "38298203783031473527721580348144513491373226651381\n",
    "34829543829199918180278916522431027392251122869539\n",
    "40957953066405232632538044100059654939159879593635\n",
    "29746152185502371307642255121183693803580388584903\n",
    "41698116222072977186158236678424689157993532961922\n",
    "62467957194401269043877107275048102390895523597457\n",
    "23189706772547915061505504953922979530901129967519\n",
    "86188088225875314529584099251203829009407770775672\n",
    "11306739708304724483816533873502340845647058077308\n",
    "82959174767140363198008187129011875491310547126581\n",
    "97623331044818386269515456334926366572897563400500\n",
    "42846280183517070527831839425882145521227251250327\n",
    "55121603546981200581762165212827652751691296897789\n",
    "32238195734329339946437501907836945765883352399886\n",
    "75506164965184775180738168837861091527357929701337\n",
    "62177842752192623401942399639168044983993173312731\n",
    "32924185707147349566916674687634660915035914677504\n",
    "99518671430235219628894890102423325116913619626622\n",
    "73267460800591547471830798392868535206946944540724\n",
    "76841822524674417161514036427982273348055556214818\n",
    "97142617910342598647204516893989422179826088076852\n",
    "87783646182799346313767754307809363333018982642090\n",
    "10848802521674670883215120185883543223812876952786\n",
    "71329612474782464538636993009049310363619763878039\n",
    "62184073572399794223406235393808339651327408011116\n",
    "66627891981488087797941876876144230030984490851411\n",
    "60661826293682836764744779239180335110989069790714\n",
    "85786944089552990653640447425576083659976645795096\n",
    "66024396409905389607120198219976047599490197230297\n",
    "64913982680032973156037120041377903785566085089252\n",
    "16730939319872750275468906903707539413042652315011\n",
    "94809377245048795150954100921645863754710598436791\n",
    "78639167021187492431995700641917969777599028300699\n",
    "15368713711936614952811305876380278410754449733078\n",
    "40789923115535562561142322423255033685442488917353\n",
    "44889911501440648020369068063960672322193204149535\n",
    "41503128880339536053299340368006977710650566631954\n",
    "81234880673210146739058568557934581403627822703280\n",
    "82616570773948327592232845941706525094512325230608\n",
    "22918802058777319719839450180888072429661980811197\n",
    "77158542502016545090413245809786882778948721859617\n",
    "72107838435069186155435662884062257473692284509516\n",
    "20849603980134001723930671666823555245252804609722\n",
    "53503534226472524250874054075591789781264330331690\n",
    "\"\"\"\n",
    "print(str(sum(int(i) for i in txt.strip().split('\\n')))[:10])"
   ]
  },
  {
   "cell_type": "markdown",
   "id": "d305f53a-9429-43cf-ad9e-5f899430530b",
   "metadata": {},
   "source": [
    "# 14)"
   ]
  },
  {
   "cell_type": "markdown",
   "id": "395e9a60-edc7-4dc2-a2fd-96b9ee3ba2e8",
   "metadata": {},
   "source": [
    "    The following iterative sequence is defined for the set of positive integers:\n",
    "\n",
    "    n → n/2 (n is even)\n",
    "    n → 3n + 1 (n is odd)\n",
    "\n",
    "    Using the rule above and starting with 13, we generate the following sequence:\n",
    "\n",
    "    13 → 40 → 20 → 10 → 5 → 16 → 8 → 4 → 2 → 1\n",
    "    It can be seen that this sequence (starting at 13 and finishing at 1) contains 10 terms. Although it has not been proved yet (Collatz Problem), it is thought that all starting numbers finish at 1.\n",
    "\n",
    "    Which starting number, under one million, produces the longest chain?\n",
    "\n",
    "    NOTE: Once the chain starts the terms are allowed to go above one million."
   ]
  },
  {
   "cell_type": "code",
   "execution_count": 2,
   "id": "965cd014-d30f-4ffb-8919-0b995a705246",
   "metadata": {},
   "outputs": [
    {
     "name": "stdout",
     "output_type": "stream",
     "text": [
      "837799\n",
      "525\n"
     ]
    }
   ],
   "source": [
    "def collatz(x):\n",
    "    if x%2 ==0:\n",
    "        return x/2\n",
    "    else:\n",
    "        return 3*x + 1\n",
    "    \n",
    "def steps(x):\n",
    "    step = 1\n",
    "    while True:\n",
    "        x = collatz(x)\n",
    "        step += 1\n",
    "        if x==1 :\n",
    "            return step\n",
    "\n",
    "        \n",
    "max_steps = 0\n",
    "\n",
    "champ_number = 0\n",
    "\n",
    "for number in range(1, 1000001):\n",
    "    aux = steps(number)\n",
    "    if aux > max_steps:\n",
    "        max_steps = aux\n",
    "        champ_number=number\n",
    "        \n",
    "print(champ_number)\n",
    "print(max_steps)"
   ]
  },
  {
   "cell_type": "code",
   "execution_count": 3,
   "id": "1a3340ab-48dd-423b-a8f3-aeb738c44ff9",
   "metadata": {},
   "outputs": [
    {
     "name": "stdout",
     "output_type": "stream",
     "text": [
      "837799\n",
      "525\n",
      "123.61638712882996\n"
     ]
    }
   ],
   "source": [
    "import time\n",
    "\n",
    "def collatz(x):\n",
    "    if x%2 ==0:\n",
    "        return x/2\n",
    "    else:\n",
    "        return 3*x + 1\n",
    "    \n",
    "def steps(x):\n",
    "    step = 1\n",
    "    while True:\n",
    "        x = collatz(x)\n",
    "        step += 1\n",
    "        if x==1 :\n",
    "            return step\n",
    "\n",
    "        \n",
    "max_steps = 0\n",
    "\n",
    "champ_number = 0\n",
    "\n",
    "baslangıc = time.time()\n",
    "\n",
    "for number in range(1, 1000001):\n",
    "    aux = steps(number)\n",
    "    if aux > max_steps:\n",
    "        max_steps = aux\n",
    "        champ_number=number\n",
    "\n",
    "bitis = time.time()       \n",
    "print(champ_number)\n",
    "print(max_steps)\n",
    "\n",
    "print(str(bitis-baslangıc))"
   ]
  },
  {
   "cell_type": "code",
   "execution_count": 4,
   "id": "98f9b6b8-3a79-4d1c-918f-c8dde038b25a",
   "metadata": {},
   "outputs": [],
   "source": [
    "# süresini hesapladık çok uzun. bir sonraki  örnekte optimize edelim."
   ]
  },
  {
   "cell_type": "code",
   "execution_count": 5,
   "id": "ee1f3212-9e6c-4cce-ac36-f73194e21b73",
   "metadata": {},
   "outputs": [
    {
     "name": "stdout",
     "output_type": "stream",
     "text": [
      "[[523, 837799]]\n"
     ]
    }
   ],
   "source": [
    "def collatz_sequence(starting_num):\n",
    "    n = starting_num\n",
    "    steps = 1\n",
    "    while n != 2:\n",
    "        if n % 2 == 0:\n",
    "             n /= 2\n",
    "             steps += 1\n",
    "        else:\n",
    "            n = (3*n + 1) / 2\n",
    "            steps += 2\n",
    "    return [steps - 1, starting_num]\n",
    "\n",
    "\n",
    "full_list = []\n",
    "for i in range(3, 1000000):\n",
    "    full_list.append(collatz_sequence(i))\n",
    "print(sorted(full_list, reverse=True)[:1])"
   ]
  },
  {
   "cell_type": "code",
   "execution_count": 1,
   "id": "2df8d37d-d7c2-4bf7-9904-cabf27811747",
   "metadata": {},
   "outputs": [
    {
     "name": "stdout",
     "output_type": "stream",
     "text": [
      "837799\n",
      "7.45089864730835\n"
     ]
    }
   ],
   "source": [
    "\n",
    "import time\n",
    "start = time.time()\n",
    "s = list(range(1, 10**6+1))\n",
    "steps = []\n",
    "for i in s:\n",
    "    count = 0\n",
    "    num = i\n",
    "    while num != 1:\n",
    "        if num % 2 == 0: num /= 2\n",
    "        else: num = (3 * num) + 1\n",
    "        count += 1\n",
    "        if num < i:\n",
    "            count += steps[int(num)-1]\n",
    "            break\n",
    "    steps.append(count)\n",
    "print(steps.index(max(steps))+1)\n",
    "end = time.time()\n",
    "print(end - start)"
   ]
  },
  {
   "cell_type": "markdown",
   "id": "3c5f8547-facf-4ee3-addb-502782a27035",
   "metadata": {},
   "source": [
    "# 15)"
   ]
  },
  {
   "attachments": {
    "0ecba7e2-be39-4465-b4ed-1edc42ce5c4a.png": {
     "image/png": "[encoded data removed]"
    }
   },
   "cell_type": "markdown",
   "id": "43ac00c6-c769-4d02-b48a-229c416be4de",
   "metadata": {},
   "source": [
    "![image.png](attachment:0ecba7e2-be39-4465-b4ed-1edc42ce5c4a.png)"
   ]
  },
  {
   "cell_type": "code",
   "execution_count": 3,
   "id": "0eebd5ca-9fea-4d65-921a-80e22fe103d6",
   "metadata": {},
   "outputs": [
    {
     "data": {
      "text/plain": [
       "137846528820.0"
      ]
     },
     "execution_count": 3,
     "metadata": {},
     "output_type": "execute_result"
    }
   ],
   "source": [
    "from math import factorial\n",
    "\n",
    "factorial(40)/(factorial(20)*factorial(20)) # kombinasyon formülü"
   ]
  },
  {
   "cell_type": "code",
   "execution_count": 4,
   "id": "50bb01ae-68a4-47bd-a0bc-48b0873ea310",
   "metadata": {},
   "outputs": [
    {
     "data": {
      "text/plain": [
       "137846528820.0"
      ]
     },
     "execution_count": 4,
     "metadata": {},
     "output_type": "execute_result"
    }
   ],
   "source": [
    "factorial(40)/(factorial(20)**2)"
   ]
  },
  {
   "cell_type": "markdown",
   "id": "f60bfc53-206c-42ea-8e80-f62bf76cf66d",
   "metadata": {},
   "source": [
    "# 16)"
   ]
  },
  {
   "cell_type": "raw",
   "id": "8822b907-cd2e-4bbf-a4fc-19eec1694572",
   "metadata": {},
   "source": [
    "2^^15 = 32768 and the sum of its digits is 3 + 2 + 7 + 6 + 8 = 26.\n",
    "\n",
    "What is the sum of the digits of the number 2^^1000?"
   ]
  },
  {
   "cell_type": "code",
   "execution_count": 24,
   "id": "2f59ecd4-7811-4b82-80a5-74ab4f15b768",
   "metadata": {},
   "outputs": [
    {
     "name": "stdout",
     "output_type": "stream",
     "text": [
      "1366\n"
     ]
    }
   ],
   "source": [
    "from math import pow\n",
    "\n",
    "a = str(int(pow(2,1000)))\n",
    "\n",
    "summ = 0\n",
    "for i in a:\n",
    "    summ += int(i)\n",
    "print(summ)"
   ]
  },
  {
   "cell_type": "code",
   "execution_count": 25,
   "id": "eb72471e-5249-475a-a20c-edd1fc2b1bc0",
   "metadata": {},
   "outputs": [
    {
     "name": "stdout",
     "output_type": "stream",
     "text": [
      "1366\n"
     ]
    }
   ],
   "source": [
    "\n",
    "b = str(2**1000)\n",
    "\n",
    "summ = 0\n",
    "for i in a:\n",
    "    summ += int(i)\n",
    "print(summ)"
   ]
  },
  {
   "cell_type": "markdown",
   "id": "75dca6a5-e683-4f02-93e4-f73cc7fd2f8b",
   "metadata": {},
   "source": [
    "# 17)"
   ]
  },
  {
   "cell_type": "raw",
   "id": "3b3a9b94-8678-4165-af8b-d76890a777e8",
   "metadata": {},
   "source": [
    "If the numbers 1 to 5 are written out in words: one, two, three, four, five, then there are 3 + 3 + 5 + 4 + 4 = 19 letters used in total.\n",
    "\n",
    "If all the numbers from 1 to 1000 (one thousand) inclusive were written out in words, how many letters would be used?\n",
    "\n",
    "\n",
    "NOTE: Do not count spaces or hyphens. For example, 342 (three hundred and forty-two) contains 23 letters and 115 (one hundred and fifteen) contains 20 letters. The use of \"and\" when writing out numbers is in compliance with British usage."
   ]
  },
  {
   "cell_type": "code",
   "execution_count": 1,
   "id": "48236c4a-c5b3-4a0a-8438-7096d8263887",
   "metadata": {},
   "outputs": [
    {
     "name": "stdout",
     "output_type": "stream",
     "text": [
      "21124\n"
     ]
    }
   ],
   "source": [
    "# Number letter counts\n",
    "def e17():\n",
    "    n1=(0,3,3,5,4,4,3,5,5,4)    # 1 to 9\n",
    "    n10=(0,3,6,6,5,5,5,7,6,6)   # 10 to 90\n",
    "    n11=(0,6,6,8,8,7,7,9,8,8)   # 11 to 19\n",
    "    n=(7,10,11) # hundred, hundred and, one thousand\n",
    "\n",
    "    n1to99x10 = (sum(n1)*9 + n10[1] + sum(n11) + sum(n10[2:])*10)*10 # from 1 to 99 all\n",
    "    n100to900all = n[0]*9 + n[1]*99*9 + sum(n1)*100 # from 100 to 900\n",
    "    \n",
    "    letters = n1to99x10 + n100to900all + n[2]\n",
    "    return letters\n",
    "print(e17())    # 21124 "
   ]
  }
 ],
 "metadata": {
  "kernelspec": {
   "display_name": "Python 3",
   "language": "python",
   "name": "python3"
  },
  "language_info": {
   "codemirror_mode": {
    "name": "ipython",
    "version": 3
   },
   "file_extension": ".py",
   "mimetype": "text/x-python",
   "name": "python",
   "nbconvert_exporter": "python",
   "pygments_lexer": "ipython3",
   "version": "3.8.8"
  }
 },
 "nbformat": 4,
 "nbformat_minor": 5
}
