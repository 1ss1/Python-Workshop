{
 "cells": [
  {
   "cell_type": "markdown",
   "id": "39747241-7c75-4951-b048-e65254ab8a0c",
   "metadata": {},
   "source": [
    "# 3)"
   ]
  },
  {
   "cell_type": "markdown",
   "id": "acdcae19-54f3-46fc-9805-69abfd960476",
   "metadata": {},
   "source": [
    "#### The prime factors of 13195 are 5, 7, 13 and 29.\n",
    "\n",
    "#### What is the largest prime factor of the number 600851475143 ?"
   ]
  },
  {
   "cell_type": "code",
   "execution_count": 18,
   "id": "676b77b3-1c4b-46ff-b198-35e81bb3d5fe",
   "metadata": {},
   "outputs": [
    {
     "name": "stdout",
     "output_type": "stream",
     "text": [
      "6857\n"
     ]
    }
   ],
   "source": [
    "def sayi(int1):\n",
    "    bolen = 2\n",
    "    while int1 != 1:\n",
    "        if int1 / bolen == 1:\n",
    "            print(bolen)\n",
    "            break\n",
    "        elif int1 % bolen == 0:\n",
    "            int1 /= bolen\n",
    "        else:\n",
    "              bolen += 1\n",
    "\n",
    "sayi(600851475143)"
   ]
  },
  {
   "cell_type": "code",
   "execution_count": 21,
   "id": "77e31851-55f7-4be5-aeb5-5187f4178839",
   "metadata": {},
   "outputs": [
    {
     "name": "stdout",
     "output_type": "stream",
     "text": [
      "Max simple divider:  6857\n"
     ]
    }
   ],
   "source": [
    "# 2nd solution:\n",
    "def IsSimpleNumber(n):\n",
    "\tfor i in range(2, n):\n",
    "\t\tif n % i == 0:\n",
    "\t\t\treturn False\n",
    "\t\t\tbreak\n",
    "\telse:\n",
    "\t\treturn True\n",
    "def NextDiv(n):\n",
    "\ti = 2\n",
    "\twhile i<n:\n",
    "\t\tif n % i == 0:\n",
    "\t\t\tr = int(n/i)\n",
    "\t\t\tbreak\n",
    "\t\ti += 1\n",
    "\treturn(r)\n",
    "v = 600851475143\n",
    "i = NextDiv(v)\n",
    "while i>1:\n",
    "\tif IsSimpleNumber(i):\n",
    "\t\tprint(\"Max simple divider: \",i)\n",
    "\t\tbreak\n",
    "\ti = NextDiv(i)"
   ]
  },
  {
   "cell_type": "code",
   "execution_count": 3,
   "id": "c85315c4-ea21-4fd9-88b7-55fa74252f29",
   "metadata": {},
   "outputs": [
    {
     "data": {
      "text/plain": [
       "6857"
      ]
     },
     "execution_count": 3,
     "metadata": {},
     "output_type": "execute_result"
    }
   ],
   "source": [
    "# 3rd solution: \n",
    "def p3(n=600851475143):\n",
    "    def factors(n):\n",
    "        return [i for i in range(1, int(n ** 0.5)) if n % i == 0]\n",
    "\n",
    "    def is_prime(n):\n",
    "        return True not in [n % i == 0 for i in range(2, int(n ** 0.5) + 1)]\n",
    "\n",
    "    return max([i for i in factors(n) if is_prime(i)] or [0])\n",
    "P3(600851475143)"
   ]
  },
  {
   "cell_type": "markdown",
   "id": "e03b1215-0508-45a2-8f40-5b7a29362b6d",
   "metadata": {},
   "source": [
    "- in javascript "
   ]
  },
  {
   "cell_type": "markdown",
   "id": "5dc66993-6035-4a96-8d84-c4c96f36a09f",
   "metadata": {},
   "source": [
    " \n",
    "<code>  \n",
    "\n",
    "function solve() {  \n",
    "    let result = getLargestPrimeFactor(600_851_475_143);  \n",
    "    console.log(`The solution is ${result}.`);  \n",
    "}  \n",
    "  \n",
    "function getLargestPrimeFactor(n) {  \n",
    "    let largestPrimeFactor = 1;  \n",
    "    let divisor = 1;  \n",
    "    while (largestPrimeFactor < n) {  \n",
    "        divisor++;  \n",
    "       while(n % divisor === 0) {  \n",
    "            largestPrimeFactor = divisor;  \n",
    "            n /= divisor;  \n",
    "        }  \n",
    "    }  \n",
    "    return largestPrimeFactor;  \n",
    "}  \n",
    "  \n",
    "solve();  </code>"
   ]
  },
  {
   "cell_type": "markdown",
   "id": "fe020ece-db50-4de7-b9c3-00f9f7c983dc",
   "metadata": {},
   "source": [
    "# 4)"
   ]
  },
  {
   "cell_type": "raw",
   "id": "daa3739c-cd16-40f0-93bf-26133e27f29e",
   "metadata": {},
   "source": [
    "A palindromic number reads the same both ways. The largest palindrome made from the product of two 2-digit numbers is 9009 = 91 × 99.\n",
    "\n",
    "Find the largest palindrome made from the product of two 3-digit numbers."
   ]
  },
  {
   "cell_type": "code",
   "execution_count": 10,
   "id": "ca19ca50-8cf8-4129-bd52-a2c0604a3286",
   "metadata": {},
   "outputs": [
    {
     "name": "stdout",
     "output_type": "stream",
     "text": [
      "906609\n",
      "913 993\n"
     ]
    }
   ],
   "source": [
    "def check_palindrome(x):\n",
    "    str_number = str(x)\n",
    "    reverse_number = str_number[::-1]\n",
    "    if str_number == reverse_number:\n",
    "        return True\n",
    "    else:\n",
    "        return False\n",
    "\n",
    "\n",
    "a = 0\n",
    "b = 0\n",
    "big_palindrome = 0\n",
    "\n",
    "for i in range(100,1000):\n",
    "    for j in range(100,1000):\n",
    "        if check_palindrome(i * j) and i * j > big_palindrome:\n",
    "            a = i\n",
    "            b = j\n",
    "            big_palindrome  = i*j\n",
    "            \n",
    "            \n",
    "print(big_palindrome)\n",
    "print(a, b)"
   ]
  },
  {
   "cell_type": "code",
   "execution_count": 7,
   "id": "cf30f1ac-314f-4389-84ac-79cf1f35ec31",
   "metadata": {},
   "outputs": [
    {
     "name": "stdout",
     "output_type": "stream",
     "text": [
      "906609\n"
     ]
    }
   ],
   "source": [
    "result = []\n",
    "for number1 in range(100,1000):\n",
    "    for number2 in range(100,1000):\n",
    "        a=(number1*number2)\n",
    "        b=str(a)\n",
    "        if (b==b[::-1]):\n",
    "            result.append(a)\n",
    "print(max(result))"
   ]
  },
  {
   "cell_type": "code",
   "execution_count": 11,
   "id": "be56ae33-55eb-4450-83c5-097be9e14bc0",
   "metadata": {},
   "outputs": [
    {
     "name": "stdout",
     "output_type": "stream",
     "text": [
      "906609\n"
     ]
    }
   ],
   "source": [
    "list = []\n",
    "for j in range(100, 999):\n",
    "    for n in range(100, 999):\n",
    "        if str(n*j) == str(n*j)[::-1]: list.append(n*j)\n",
    "print(max(list))"
   ]
  },
  {
   "cell_type": "code",
   "execution_count": 12,
   "id": "b4b35649-2c61-4dfa-a241-17158a62a8b2",
   "metadata": {},
   "outputs": [
    {
     "name": "stdout",
     "output_type": "stream",
     "text": [
      "Largest palindrome:  906609\n"
     ]
    }
   ],
   "source": [
    "def palindrome(n):\n",
    "  max = 1\n",
    "  for i in range(10**(n-1), 10**n):\n",
    "    for j in range(10**(n-1), 10**n):\n",
    "      if str(i * j) == str(i * j)[::-1]:        \n",
    "        if i * j >= max :\n",
    "          max = i * j\n",
    "\n",
    "  print(\"Largest palindrome: \", max)\n",
    "\n",
    "palindrome(3)"
   ]
  },
  {
   "cell_type": "markdown",
   "id": "d660f431-7fe6-4cdd-96e2-0ed111e22898",
   "metadata": {},
   "source": [
    "- javascript"
   ]
  },
  {
   "cell_type": "markdown",
   "id": "54de4a16-663e-4560-bcd2-6c4915284322",
   "metadata": {},
   "source": [
    "\n",
    "<code>\n",
    "function solve() {\n",
    "    let result = getLargestPalindrome(3);\n",
    "    console.log(`The solution is ${result}.`);\n",
    "}\n",
    "\n",
    "function getLargestPalindrome(digits) {\n",
    "    smallestFactor = 10**(digits - 1);\n",
    "    biggestFactor = 10**digits;\n",
    "    let largestPalindrome = smallestFactor** 2 - 1;\n",
    "    for (let i = smallestFactor; i < biggestFactor; i++) {\n",
    "        for (let j = i; j < biggestFactor; j++) {\n",
    "            if (i * j > largestPalindrome && isPalindrome(i * j)) {\n",
    "                largestPalindrome = i * j;\n",
    "            }\n",
    "        }\n",
    "    }\n",
    "    return largestPalindrome;\n",
    "}\n",
    "\n",
    "function isPalindrome(n) {\n",
    "    return n.toString() === n.toString().split('').reverse().join(\"\");\n",
    "}\n",
    "\n",
    "solve();\n",
    "</code>"
   ]
  },
  {
   "cell_type": "markdown",
   "id": "d03a5191-5b82-4b02-b06c-414b4d94ce4b",
   "metadata": {},
   "source": [
    "# 5)"
   ]
  },
  {
   "cell_type": "markdown",
   "id": "19ee913f-b59c-46a6-b91a-dd38d0bc2c8f",
   "metadata": {},
   "source": [
    "#### 2520 is the smallest number that can be divided by each of the numbers from 1 to 10 without any remainder.\n",
    "#### What is the smallest positive number that is evenly divisible by all of the numbers from 1 to 20?"
   ]
  },
  {
   "cell_type": "code",
   "execution_count": null,
   "id": "5a400018-c583-4897-a041-3008c4bcfd9e",
   "metadata": {},
   "outputs": [],
   "source": []
  }
 ],
 "metadata": {
  "kernelspec": {
   "display_name": "Python 3",
   "language": "python",
   "name": "python3"
  },
  "language_info": {
   "codemirror_mode": {
    "name": "ipython",
    "version": 3
   },
   "file_extension": ".py",
   "mimetype": "text/x-python",
   "name": "python",
   "nbconvert_exporter": "python",
   "pygments_lexer": "ipython3",
   "version": "3.8.8"
  }
 },
 "nbformat": 4,
 "nbformat_minor": 5
}
