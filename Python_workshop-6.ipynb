{
 "cells": [
  {
   "cell_type": "markdown",
   "metadata": {
    "id": "UO4WBUc0Wtse"
   },
   "source": [
    "                                Exercise-1\n",
    "\n",
    "Convert a Number to Base-2\n",
    "Create a function that returns a base-2 (binary) representation of a base-10 (decimal) string number. To convert is simple: ((2) means base-2 and (10) means base-10) 010101001(2) = 1 + 8 + 32 + 128.\n",
    "\n",
    "Going from right to left, the value of the most right bit is 1, now from that every bit to the left will be x2 the value, value of an 8 bit binary numbers are (256, 128, 64, 32, 16, 8, 4, 2, 1).\n",
    "\n",
    "Examples\n",
    "\n",
    "binary(1) ➞ \"1\"\n",
    "\n",
    "// 1 * 1 = 1\n",
    "\n",
    "binary(5) ➞ \"101\"\n",
    "\n",
    "// 1 * 1 + 1 * 4 = 5\n",
    "\n",
    "binary(10) ➞ \"1010\"\n",
    "\n",
    "// 1 * 2 + 1 * 8 = 10\n",
    "\n",
    "Note (Don't use bin() function)"
   ]
  },
  {
   "cell_type": "code",
   "execution_count": 3,
   "metadata": {
    "id": "2Ao5oWrUWpVY"
   },
   "outputs": [
    {
     "data": {
      "text/plain": [
       "17"
      ]
     },
     "execution_count": 3,
     "metadata": {},
     "output_type": "execute_result"
    }
   ],
   "source": [
    "bin_num = \"10011\"\n",
    "int((bin_num)[0])* 2**0 +int(bin_num[1])* 2**1 + int(bin_num[4])* 2**4"
   ]
  },
  {
   "cell_type": "markdown",
   "metadata": {
    "id": "0nPBCPa6WxKP"
   },
   "source": [
    "                              Exercise-2 \n",
    "Check if One Array can be Nested in Another\n",
    "\n",
    "Create a function that returns true if the first array can be nested inside the second.\n",
    "\n",
    "arr1 can be nested inside arr2 if:\n",
    "\n",
    "arr1's min is greater than arr2's min.\n",
    "\n",
    "arr1's max is less than arr2's max.\n",
    "\n",
    "Examples\n",
    "\n",
    "canNest([1, 2, 3, 4], [0, 6]) ➞ True\n",
    "\n",
    "canNest([3, 1], [4, 0]) ➞ True\n",
    "\n",
    "canNest([9, 9, 8], [8, 9]) ➞ False\n",
    "\n",
    "canNest([1, 2, 3, 4], [2, 3]) ➞ False\n",
    "\n",
    "[ ]\n"
   ]
  },
  {
   "cell_type": "code",
   "execution_count": 1,
   "metadata": {
    "id": "vSpMNTCpW3QQ"
   },
   "outputs": [
    {
     "name": "stdout",
     "output_type": "stream",
     "text": [
      "True\n",
      "True\n",
      "False\n",
      "False\n"
     ]
    }
   ],
   "source": [
    "def canNest(list1, list2):\n",
    "    if (max(list1) < max(list2))  and (min(list1) > min(list2)):\n",
    "        return True\n",
    "    else:\n",
    "        return False\n",
    "\n",
    "print(canNest([1, 2, 3, 4], [0, 6]))\n",
    "print(canNest([3, 1], [4, 0]))\n",
    "print(canNest([9, 9, 8], [8, 9]))\n",
    "print(canNest([1, 2, 3, 4], [2, 3]))"
   ]
  },
  {
   "cell_type": "markdown",
   "metadata": {
    "id": "f9mSIheVW3kw"
   },
   "source": [
    "                                    Exercise-3\n",
    "Move Capital Letters to the Front\n",
    "\n",
    "Create a function that moves all capital letters to the front of a word.\n",
    "\n",
    "Examples\n",
    "\n",
    "cap_to_front(\"hApPy\") ➞ \"APhpy\"\n",
    "\n",
    "cap_to_front(\"moveMENT\") ➞ \"MENTmove\"\n",
    "\n",
    "cap_to_front(\"shOrtCAKE\") ➞ \"OCAKEshrt\""
   ]
  },
  {
   "cell_type": "code",
   "execution_count": 16,
   "metadata": {
    "id": "m9ehWO0HW7f7"
   },
   "outputs": [
    {
     "name": "stdout",
     "output_type": "stream",
     "text": [
      "APhpy\n",
      "MENTmove\n",
      "OCAKEshrt\n"
     ]
    }
   ],
   "source": [
    "def cap_to_front(string):\n",
    "    liste = list(string)\n",
    "    buyuk_harfler = []\n",
    "    kucuk_harfler = []\n",
    "    bos = \"\"\n",
    "    for i in liste :\n",
    "        if i == i.upper():\n",
    "            buyuk_harfler.append(i)\n",
    "        else :\n",
    "            kucuk_harfler.append(i)\n",
    "    return bos.join(buyuk_harfler + kucuk_harfler)\n",
    "            \n",
    "            \n",
    "            \n",
    "print(cap_to_front(\"hApPy\"))\n",
    "print(cap_to_front(\"moveMENT\"))\n",
    "print(cap_to_front(\"shOrtCAKE\"))"
   ]
  },
  {
   "cell_type": "markdown",
   "metadata": {
    "id": "VIH8NS-1W7wl"
   },
   "source": [
    "                                  Exercise-4\n",
    "The Reverser!\n",
    "\n",
    "The \"Reverser\" takes a string as input and returns that string in reverse order, with the opposite case.\n",
    "\n",
    "Examples\n",
    "\n",
    "reverse(\"Hello World\") ➞ \"DLROw OLLEh\"\n",
    "\n",
    "reverse(\"ReVeRsE\") ➞ \"eSrEvEr\"\n",
    "\n",
    "reverse(\"Radar\") ➞ \"RADAr\"\n",
    "\n",
    "Notes\n",
    "\n",
    "There will be no punctuation in any of the test cases."
   ]
  },
  {
   "cell_type": "code",
   "execution_count": 4,
   "metadata": {
    "id": "Iuvqb85DXAbe"
   },
   "outputs": [
    {
     "name": "stdout",
     "output_type": "stream",
     "text": [
      "DLROw OLLEh\n",
      "eSrEvEr\n",
      "RADAr\n"
     ]
    }
   ],
   "source": [
    "def reverse(words) :\n",
    "    a = words.swapcase()\n",
    "    if a :\n",
    "        return a[:: -1]\n",
    "    \n",
    "print(reverse(\"Hello World\"))\n",
    "print(reverse(\"ReVeRsE\") )\n",
    "print(reverse(\"Radar\"))"
   ]
  },
  {
   "cell_type": "markdown",
   "metadata": {
    "id": "bgeGq8lBXAxu"
   },
   "source": [
    "                                    Exercise-5\n",
    "Create a function that retrieves every number that is strictly larger than every number that follows it.\n",
    "\n",
    "> Onu izleyen her sayıdan kesinlikle büyük olan her sayıyı alan bir fonk oluşturun.\n",
    "Examples\n",
    "\n",
    "[3, 13, 11, 2, 1, 9, 5] ➞ [13, 11, 9, 5]\n",
    "\n",
    "13 is larger than all numbers to its right, etc.\n",
    "\n",
    "[5, 5, 5, 5, 5, 5] ➞ [5]\n",
    "\n",
    "Must be strictly larger.\n",
    "\n",
    "Always include the last number.\n",
    "\n",
    "[5, 9, 8, 7] ➞ [9, 8, 7]\n",
    "\n",
    "Notes\n",
    "\n",
    "The last number in an array is trivially strictly larger than all numbers that follow it (no numbers follow it).\n",
    "\n",
    "> Bir dizideki son sayı, onu takip eden tüm sayılardan önemsiz derecede kesinlikle daha büyüktür (hiçbir sayı onu takip etmez)."
   ]
  },
  {
   "cell_type": "code",
   "execution_count": 5,
   "metadata": {
    "id": "LEaGU0DcXBul"
   },
   "outputs": [
    {
     "data": {
      "text/plain": [
       "[13, 11, 9, 5]"
      ]
     },
     "execution_count": 5,
     "metadata": {},
     "output_type": "execute_result"
    }
   ],
   "source": [
    "def largers(liste):\n",
    "    list1 = []\n",
    "    \n",
    "    for i in liste :\n",
    "        if liste[0] < i :\n",
    "            list1.append(i)\n",
    "    return list1\n",
    "largers([3, 13, 11, 2, 1, 9, 5])"
   ]
  },
  {
   "cell_type": "markdown",
   "metadata": {
    "id": "ydJC7lTMXCH1"
   },
   "source": [
    "                                    Exercise - 6\n",
    "C * ns * r * d Str * ngs\n",
    "\n",
    "Someone has attempted to censor my strings by replacing every vowel with a *, l*k* th*s. Luckily, I've been able to find the vowels that were removed.\n",
    "\n",
    "Given a censored string and a string of the censored vowels, return the original uncensored string.  \n",
    "\n",
    "> Birisi her sesli harfi *, l*k* th*s ile değiştirerek dizelerimi sansürlemeye çalıştı. Şans eseri, kaldırılan sesli harfleri bulabildim.\n",
    "\n",
    "> Bir sansürlü dize ve bir sansürlü sesli harf dizisi verildiğinde, orijinal sansürsüz dizeyi döndürün.\n",
    "\n",
    "Example\n",
    "\n",
    "uncensor(\"Wh * r * d * d my v * w * ls g * ?\", \"eeioeo\") ➞ \"Where did my vowels go?\"\n",
    "\n",
    "uncensor(\"abcd\", \"\") ➞ \"abcd\"\n",
    "\n",
    "uncensor(\"* PP * RC * S * \", \"UEAE\") ➞ \"UPPERCASE\"\n",
    "\n",
    "Notes\n",
    "\n",
    "The vowels are given in the correct order.\n",
    "\n",
    "The number of vowels will match the number of * characters in the censored string."
   ]
  },
  {
   "cell_type": "code",
   "execution_count": 6,
   "metadata": {
    "id": "MoUpvXSEXFmL"
   },
   "outputs": [
    {
     "name": "stdout",
     "output_type": "stream",
     "text": [
      "Where did my vowels go ?\n",
      "abcd\n",
      "UPPERCASE \n"
     ]
    }
   ],
   "source": [
    "def uncensor(string, harfler):\n",
    "    n = 0\n",
    "    \n",
    "    for i in string:\n",
    "        if i == \"*\":\n",
    "            string = string.replace(\"*\", harfler[n], 1)\n",
    "            n += 1\n",
    "    return string\n",
    "\n",
    "print(uncensor(\"Wh*r* d*d my v*w*ls g* ?\", \"eeioeo\"))\n",
    "print(uncensor(\"abcd\", \"\"))\n",
    "print(uncensor(\"*PP*RC*S* \", \"UEAE\") )"
   ]
  },
  {
   "cell_type": "markdown",
   "metadata": {
    "id": "5HeJI99aXF2r"
   },
   "source": [
    "                                    Exercise -7\n",
    "                                    \n",
    "There is a string, s , of lowercase English letters that is repeated infinitely many times. Given an integer, n , find and print the number of letter a's in the first n letters of the infinite string.  \n",
    "\n",
    ">Sonsuz kez tekrarlanan küçük İngilizce harflerden oluşan bir dize var: s . Bir n tamsayısı verildiğinde, sonsuz dizenin ilk n harfindeki a harfinin sayısını bulun ve yazdırın\n",
    "\n",
    "Example\n",
    "s = \"abcac\"\n",
    "\n",
    "n = 10\n",
    "\n",
    "The substring we consider is \"abcacabcac\", the first 10 characters of the infinite string. There are 4  occurrences of a in the substring.\n",
    "\n",
    ">örnekteki alt dize, sonsuz dizenin ilk 10 karakteri olan 'abcacabcac' dır. Alt dizede a'nın 4 tekrarı vardır."
   ]
  },
  {
   "cell_type": "code",
   "execution_count": 8,
   "metadata": {
    "id": "M7_acFlkXPLe"
   },
   "outputs": [
    {
     "data": {
      "text/plain": [
       "4"
      ]
     },
     "execution_count": 8,
     "metadata": {},
     "output_type": "execute_result"
    }
   ],
   "source": [
    "# site çözümü :\n",
    "\n",
    "def repeatedString(s, n):\n",
    "    r = 0\n",
    "    ls = len(s)\n",
    "    for i in range(0, ls):\n",
    "        if s[i] == 'a':\n",
    "            r+= 1\n",
    "    r*= int(n / ls)\n",
    "    for i in range(0, n % ls):\n",
    "        if s[i] == 'a':\n",
    "            r+= 1\n",
    "    return r\n",
    "\n",
    "repeatedString(\"abcac\", 10)"
   ]
  },
  {
   "cell_type": "markdown",
   "metadata": {
    "id": "G6s3c68YXPdV"
   },
   "source": [
    "                                Exercise -8\n",
    "Nearest Vowel\n",
    "\n",
    "Given a letter, created a function which returns the nearest vowel to the letter. If two vowels are equidistant to the given letter, return the earlier vowel.\n",
    "\n",
    "Examples\n",
    "\n",
    "nearestVowel(\"b\") ➞ \"a\"\n",
    "\n",
    "nearestVowel(\"s\") ➞ \"u\"\n",
    "\n",
    "nearestVowel(\"c\") ➞ \"a\"\n",
    "\n",
    "nearestVowel(\"i\") ➞ \"i\"\n",
    "\n",
    "Notes\n",
    "\n",
    "All letters will be given in lowercase.\n",
    "\n",
    "There will be no alphabet wrapping involved, meaning the closest vowel to \"z\" should return \"u\", not \"a\"."
   ]
  },
  {
   "cell_type": "code",
   "execution_count": 13,
   "metadata": {},
   "outputs": [
    {
     "data": {
      "text/plain": [
       "'u'"
      ]
     },
     "execution_count": 13,
     "metadata": {},
     "output_type": "execute_result"
    }
   ],
   "source": [
    "def nearestVowel(string) :\n",
    "    vowel = \"aeiou\"\n",
    "    order = [abs(ord(i) - ord(string)) for i in vowel]\n",
    "    return vowel[order.index(min(order))]\n",
    "\n",
    "nearestVowel(\"s\")"
   ]
  }
 ],
 "metadata": {
  "colab": {
   "name": "workshop-26.11.ipynb",
   "provenance": []
  },
  "kernelspec": {
   "display_name": "Python 3",
   "language": "python",
   "name": "python3"
  },
  "language_info": {
   "codemirror_mode": {
    "name": "ipython",
    "version": 3
   },
   "file_extension": ".py",
   "mimetype": "text/x-python",
   "name": "python",
   "nbconvert_exporter": "python",
   "pygments_lexer": "ipython3",
   "version": "3.8.8"
  }
 },
 "nbformat": 4,
 "nbformat_minor": 4
}
