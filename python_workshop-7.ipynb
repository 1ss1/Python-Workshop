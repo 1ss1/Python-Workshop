{
 "cells": [
  {
   "cell_type": "code",
   "execution_count": null,
   "metadata": {},
   "outputs": [],
   "source": []
  },
  {
   "cell_type": "markdown",
   "metadata": {},
   "source": [
    "1-QUESTION:Write a calculator function which takes orderly first number, operator and second number than gives the result."
   ]
  },
  {
   "cell_type": "code",
   "execution_count": 5,
   "metadata": {},
   "outputs": [
    {
     "name": "stdin",
     "output_type": "stream",
     "text": [
      "first number :  3\n",
      "second number :  4\n",
      "operator :  +\n"
     ]
    },
    {
     "name": "stdout",
     "output_type": "stream",
     "text": [
      "3 + 4 = 7\n"
     ]
    }
   ],
   "source": [
    "# 1. yol :\n",
    "\n",
    "def calculator():\n",
    "    first = int(input(\"first number : \"))\n",
    "    second = int(input(\"second number : \"))\n",
    "    operator = input(\"operator : \").strip()\n",
    "    if operator == \"+\":\n",
    "        result =  first + second\n",
    "        return f\"{first} {operator} {second} = {result}\"\n",
    "    elif operator == \"-\":\n",
    "        result =  first - second\n",
    "        return f\"{first} {operator} {second} = {result}\"\n",
    "    elif operator == \"/\":\n",
    "        result = int(first / second)\n",
    "        return f\"{first} {operator} {second} = {result}\"\n",
    "    elif operator == \"*\":\n",
    "        result =  first * second\n",
    "        return f\"{first} {operator} {second} = {result}\"\n",
    "\n",
    "print(calculator())"
   ]
  },
  {
   "cell_type": "code",
   "execution_count": 15,
   "metadata": {},
   "outputs": [
    {
     "name": "stdin",
     "output_type": "stream",
     "text": [
      " 3+3\n"
     ]
    },
    {
     "data": {
      "text/plain": [
       "6"
      ]
     },
     "execution_count": 15,
     "metadata": {},
     "output_type": "execute_result"
    }
   ],
   "source": [
    "#2. yol :\n",
    "def calculator():\n",
    "    operator = input()\n",
    "    a, o, b = int(operator[0]), operator[1], int(operator[2])\n",
    "    \n",
    "    if o == \"+\":\n",
    "        return a+b\n",
    "    elif o == \"-\":\n",
    "        return a-b\n",
    "    elif o == \"/\":\n",
    "        return a/b\n",
    "    elif o == \"*\":\n",
    "        return a*b\n",
    "    else:\n",
    "        return (\"Please enter a valid operator sign.\")\n",
    "calculator()"
   ]
  },
  {
   "cell_type": "code",
   "execution_count": 18,
   "metadata": {},
   "outputs": [
    {
     "name": "stdout",
     "output_type": "stream",
     "text": [
      "+ - * /\n"
     ]
    }
   ],
   "source": [
    "calculator = {\"+\": (lambda x, y : x + y),\n",
    "              \"-\": (lambda x, y : x - y),\n",
    "              \"*\": (lambda x, y : x * y),\n",
    "              \"/\": (lambda x, y : x / y)}\n",
    "print(*calculator)"
   ]
  },
  {
   "cell_type": "code",
   "execution_count": 26,
   "metadata": {},
   "outputs": [
    {
     "name": "stdout",
     "output_type": "stream",
     "text": [
      "5\n",
      "+\n",
      "4\n"
     ]
    },
    {
     "data": {
      "text/plain": [
       "9"
      ]
     },
     "execution_count": 26,
     "metadata": {},
     "output_type": "execute_result"
    }
   ],
   "source": [
    "calculator(a=int(input()),opr=input(),b=int(input()))"
   ]
  },
  {
   "cell_type": "code",
   "execution_count": null,
   "metadata": {},
   "outputs": [],
   "source": []
  },
  {
   "cell_type": "markdown",
   "metadata": {},
   "source": [
    "2-QUESTION:Write a function that calculates factorial of a given number."
   ]
  },
  {
   "cell_type": "code",
   "execution_count": 23,
   "metadata": {},
   "outputs": [
    {
     "name": "stdin",
     "output_type": "stream",
     "text": [
      " 5\n"
     ]
    },
    {
     "name": "stdout",
     "output_type": "stream",
     "text": [
      "5 sayısının faktöriyeli 120 dir.\n"
     ]
    }
   ],
   "source": [
    "# 1.yol:\n",
    "\n",
    "def factorial():\n",
    "    number = int(input(\"\"))\n",
    "    \n",
    "    result = 1\n",
    "    for i in range(1, number + 1):\n",
    "        result *= i\n",
    "    return f\"{number} sayısının faktöriyeli {result} dir.\"\n",
    "print(factorial())"
   ]
  },
  {
   "cell_type": "code",
   "execution_count": 26,
   "metadata": {},
   "outputs": [
    {
     "name": "stdin",
     "output_type": "stream",
     "text": [
      " 6\n"
     ]
    },
    {
     "data": {
      "text/plain": [
       "720"
      ]
     },
     "execution_count": 26,
     "metadata": {},
     "output_type": "execute_result"
    }
   ],
   "source": [
    "# 2. yol :\n",
    "\n",
    "def my_fact(n):\n",
    "    if n <= 1:\n",
    "        return 1\n",
    "    result = n * my_fact(n-1)\n",
    "    return result\n",
    "\n",
    "my_fact(int(input()))"
   ]
  },
  {
   "cell_type": "code",
   "execution_count": null,
   "metadata": {},
   "outputs": [],
   "source": []
  },
  {
   "cell_type": "markdown",
   "metadata": {},
   "source": [
    "3-QUESTION:This is an interview question asked by Amazon.\n",
    "\n",
    "Given an array of numbers, find the maximum sum of any contiguous subarray of the array.\n",
    "For example, given the array [34, -50, 42, 14, -5, 86], the maximum sum would be 137, since we would take elements 42, 14, -5, and 86.\n",
    "Given the array [-5, -1, -8, -9], the maximum sum would be 0, since we would not take any elements."
   ]
  },
  {
   "cell_type": "raw",
   "metadata": {},
   "source": [
    "Bir sayı dizisi verildiğinde, dizinin herhangi bir bitişik(komşu) alt dizisinin maksimum toplamını bulun. Örneğin, [34, -50, 42, 14, -5, 86] dizisi verildiğinde, 42, 14, -5 ve 86 öğelerini alacağımız için maksimum toplam 137 olacaktır.[-5, -1, -8, -9], herhangi bir eleman almayacağımızdan maksimum toplam 0 olur."
   ]
  },
  {
   "cell_type": "code",
   "execution_count": 30,
   "metadata": {},
   "outputs": [
    {
     "data": {
      "text/plain": [
       "137"
      ]
     },
     "execution_count": 30,
     "metadata": {},
     "output_type": "execute_result"
    }
   ],
   "source": [
    "sum([42, 14, -5, 86])"
   ]
  },
  {
   "cell_type": "code",
   "execution_count": 38,
   "metadata": {},
   "outputs": [
    {
     "name": "stdout",
     "output_type": "stream",
     "text": [
      "137\n"
     ]
    }
   ],
   "source": [
    "# 1.yol:\n",
    "def subarray(arr):\n",
    "    total = 0\n",
    "    for i in range(len(arr)):\n",
    "        for j in range(len(arr)):\n",
    "            if sum(arr[i:i+j+1]) > total:\n",
    "                total = sum(arr[i:i+j+1])\n",
    "                \n",
    "    print(total)\n",
    "subarray([34, -50, 42, 14, -5, 86])"
   ]
  },
  {
   "cell_type": "code",
   "execution_count": 28,
   "metadata": {},
   "outputs": [
    {
     "data": {
      "text/plain": [
       "137"
      ]
     },
     "execution_count": 28,
     "metadata": {},
     "output_type": "execute_result"
    }
   ],
   "source": [
    "# 2. yol :\n",
    "def subarray_finder(lst:list):\n",
    "    max_list = []\n",
    "    for i in range(len(lst)):\n",
    "        for j in range(i+1, len(lst)+1):\n",
    "            if sum(lst[i:j]) > sum(max_list):\n",
    "                max_list = lst[i:j]\n",
    "    return sum(max_list)\n",
    "\n",
    "subarray_finder([34, -50, 42, 14, -5, 86])"
   ]
  },
  {
   "cell_type": "code",
   "execution_count": 39,
   "metadata": {},
   "outputs": [
    {
     "data": {
      "text/plain": [
       "137"
      ]
     },
     "execution_count": 39,
     "metadata": {},
     "output_type": "execute_result"
    }
   ],
   "source": [
    "# 3. yol :\n",
    "def subarray_finder2(liste):\n",
    "    if sum(liste)>0:\n",
    "        newlist = []\n",
    "        for i in range(len(liste)):\n",
    "            sayı = sum(liste[i:len(liste)])\n",
    "            newlist.append(sayı)\n",
    "        return max(newlist)\n",
    "    else:\n",
    "        return 0\n",
    "subarray_finder2([34, -50, 42, 14, -5, 86])    "
   ]
  },
  {
   "cell_type": "code",
   "execution_count": 44,
   "metadata": {},
   "outputs": [
    {
     "data": {
      "text/plain": [
       "137"
      ]
     },
     "execution_count": 44,
     "metadata": {},
     "output_type": "execute_result"
    }
   ],
   "source": [
    "# 4. yol:\n",
    "def subarray_finder3(array):\n",
    "    total = 0\n",
    "    for i in range(len(array)):\n",
    "        for j in range(i, len(array)):\n",
    "            if total < sum(array[i:j+1]):\n",
    "                total = sum(array[i:j+1])\n",
    "    return total\n",
    "subarray_finder3([34, -50, 42, 14, -5, 86])"
   ]
  },
  {
   "cell_type": "markdown",
   "metadata": {},
   "source": [
    "4-QUESTION: Interview Level = Medium\n",
    "    \n",
    "Given a string s, find the length of the longest substring without repeating characters.\n"
   ]
  },
  {
   "cell_type": "code",
   "execution_count": 49,
   "metadata": {},
   "outputs": [
    {
     "data": {
      "text/plain": [
       "'hgfd'"
      ]
     },
     "execution_count": 49,
     "metadata": {},
     "output_type": "execute_result"
    }
   ],
   "source": [
    "def lengthOfLongestSubstring(s):\n",
    "    smax, temp = \"\", \"\"\n",
    "    \n",
    "    for i in s:\n",
    "        if i in temp:\n",
    "            if len(temp) > len(smax):\n",
    "                smax = temp\n",
    "            while i in temp:\n",
    "                temp = temp[1:]\n",
    "        temp += i\n",
    "    return (smax * (len(smax) > len(temp)) + temp * (1- (len(smax) > len(temp))))\n",
    "\n",
    "lengthOfLongestSubstring('abcbdhhgfd')"
   ]
  },
  {
   "cell_type": "code",
   "execution_count": 31,
   "metadata": {},
   "outputs": [
    {
     "data": {
      "text/plain": [
       "('hgfd', 4)"
      ]
     },
     "execution_count": 31,
     "metadata": {},
     "output_type": "execute_result"
    }
   ],
   "source": [
    "lengthOfLongestSubstring('abcbdhhgfd')"
   ]
  },
  {
   "cell_type": "code",
   "execution_count": 51,
   "metadata": {},
   "outputs": [
    {
     "data": {
      "text/plain": [
       "('cbdh', 4)"
      ]
     },
     "execution_count": 51,
     "metadata": {},
     "output_type": "execute_result"
    }
   ],
   "source": [
    "def substring(text:str):\n",
    "    long = \"\"\n",
    "    for i in range(len(text)):\n",
    "        temp = \"\"\n",
    "        for j in range(i, len(text)):\n",
    "            if text[j] in temp:\n",
    "                break\n",
    "            temp += text[j]\n",
    "        if len(temp) > len(long):\n",
    "            long = temp\n",
    "    return long, len(long)\n",
    "\n",
    "substring('abcbdhhgfd')"
   ]
  },
  {
   "cell_type": "markdown",
   "metadata": {},
   "source": [
    "5.QUESTION:Create your own module named as my_module.py which contains a function printing Hello 'Your Name' when called. \n",
    "Also create a dictionary object which keeps name and profession of you inside your module. Finally put the calculator function \n",
    "in your module and call it with both import from your interpreter and from your command prompt. "
   ]
  },
  {
   "cell_type": "raw",
   "metadata": {},
   "source": [
    "Merhaba 'Adınız' çağrıldığında yazdıran bir işlev içeren my_module.py adlı kendi modülünüzü oluşturun. Ayrıca modülünüzün içinde adınızı ve mesleğinizi tutan bir sözlük nesnesi oluşturun. Son olarak, hesap makinesi işlevini modülünüze koyun ve hem yorumlayıcınızdan hem de komut isteminizden içe aktarma ile çağırın."
   ]
  },
  {
   "cell_type": "code",
   "execution_count": 10,
   "metadata": {},
   "outputs": [
    {
     "name": "stdout",
     "output_type": "stream",
     "text": [
      "Hello Michael\n"
     ]
    }
   ],
   "source": []
  },
  {
   "cell_type": "code",
   "execution_count": 8,
   "metadata": {},
   "outputs": [
    {
     "data": {
      "text/plain": [
       "{'name': 'michael', 'profession': 'DS'}"
      ]
     },
     "execution_count": 8,
     "metadata": {},
     "output_type": "execute_result"
    }
   ],
   "source": []
  },
  {
   "cell_type": "code",
   "execution_count": 7,
   "metadata": {},
   "outputs": [
    {
     "name": "stdout",
     "output_type": "stream",
     "text": [
      "5 + 4\n"
     ]
    },
    {
     "data": {
      "text/plain": [
       "9"
      ]
     },
     "execution_count": 7,
     "metadata": {},
     "output_type": "execute_result"
    }
   ],
   "source": []
  },
  {
   "cell_type": "code",
   "execution_count": null,
   "metadata": {},
   "outputs": [],
   "source": []
  },
  {
   "cell_type": "markdown",
   "metadata": {},
   "source": [
    "6. QUESTION:Use the calculator you created before and name it as calculator2. Implement Full 'Exception Handling' while callling calculator2. Try to run your function, if exception occurs write 'Please enter a valid operator and valid number values' and finally write 'Calculator works just fine' for every run."
   ]
  },
  {
   "cell_type": "raw",
   "metadata": {},
   "source": [
    "Daha önce oluşturduğunuz hesap makinesini kullanın ve hesap makinesi2 olarak adlandırın. Hesap makinesi2'yi çağırırken Tam 'İstisna İşleme' uygulayın. İşlevinizi çalıştırmayı deneyin, istisna oluşursa 'Lütfen geçerli bir operatör ve geçerli sayı değerleri girin' yazın ve son olarak her çalıştırma için 'Hesap makinesi gayet iyi çalışıyor' yazın."
   ]
  },
  {
   "cell_type": "code",
   "execution_count": 7,
   "metadata": {},
   "outputs": [
    {
     "name": "stdout",
     "output_type": "stream",
     "text": [
      "5 \n",
      "+\n",
      "şi\n",
      "Please enter a valid operator and valid number values\n",
      "Calculator works just fine\n"
     ]
    }
   ],
   "source": []
  },
  {
   "cell_type": "code",
   "execution_count": null,
   "metadata": {},
   "outputs": [],
   "source": []
  }
 ],
 "metadata": {
  "kernelspec": {
   "display_name": "Python 3",
   "language": "python",
   "name": "python3"
  },
  "language_info": {
   "codemirror_mode": {
    "name": "ipython",
    "version": 3
   },
   "file_extension": ".py",
   "mimetype": "text/x-python",
   "name": "python",
   "nbconvert_exporter": "python",
   "pygments_lexer": "ipython3",
   "version": "3.8.8"
  }
 },
 "nbformat": 4,
 "nbformat_minor": 4
}
