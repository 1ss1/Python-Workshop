{
 "cells": [
  {
   "cell_type": "markdown",
   "id": "39747241-7c75-4951-b048-e65254ab8a0c",
   "metadata": {},
   "source": [
    "# 3)"
   ]
  },
  {
   "cell_type": "markdown",
   "id": "acdcae19-54f3-46fc-9805-69abfd960476",
   "metadata": {},
   "source": [
    "#### The prime factors of 13195 are 5, 7, 13 and 29.\n",
    "\n",
    "#### What is the largest prime factor of the number 600851475143 ?"
   ]
  },
  {
   "cell_type": "code",
   "execution_count": 18,
   "id": "676b77b3-1c4b-46ff-b198-35e81bb3d5fe",
   "metadata": {},
   "outputs": [
    {
     "name": "stdout",
     "output_type": "stream",
     "text": [
      "6857\n"
     ]
    }
   ],
   "source": [
    "def sayi(int1):\n",
    "    bolen = 2\n",
    "    while int1 != 1:\n",
    "        if int1 / bolen == 1:\n",
    "            print(bolen)\n",
    "            break\n",
    "        elif int1 % bolen == 0:\n",
    "            int1 /= bolen\n",
    "        else:\n",
    "              bolen += 1\n",
    "\n",
    "sayi(600851475143)"
   ]
  },
  {
   "cell_type": "code",
   "execution_count": 21,
   "id": "77e31851-55f7-4be5-aeb5-5187f4178839",
   "metadata": {},
   "outputs": [
    {
     "name": "stdout",
     "output_type": "stream",
     "text": [
      "Max simple divider:  6857\n"
     ]
    }
   ],
   "source": [
    "# 2nd solution:\n",
    "def IsSimpleNumber(n):\n",
    "\tfor i in range(2, n):\n",
    "\t\tif n % i == 0:\n",
    "\t\t\treturn False\n",
    "\t\t\tbreak\n",
    "\telse:\n",
    "\t\treturn True\n",
    "def NextDiv(n):\n",
    "\ti = 2\n",
    "\twhile i<n:\n",
    "\t\tif n % i == 0:\n",
    "\t\t\tr = int(n/i)\n",
    "\t\t\tbreak\n",
    "\t\ti += 1\n",
    "\treturn(r)\n",
    "v = 600851475143\n",
    "i = NextDiv(v)\n",
    "while i>1:\n",
    "\tif IsSimpleNumber(i):\n",
    "\t\tprint(\"Max simple divider: \",i)\n",
    "\t\tbreak\n",
    "\ti = NextDiv(i)"
   ]
  },
  {
   "cell_type": "code",
   "execution_count": 3,
   "id": "c85315c4-ea21-4fd9-88b7-55fa74252f29",
   "metadata": {},
   "outputs": [
    {
     "data": {
      "text/plain": [
       "6857"
      ]
     },
     "execution_count": 3,
     "metadata": {},
     "output_type": "execute_result"
    }
   ],
   "source": [
    "# 3rd solution: \n",
    "def p3(n=600851475143):\n",
    "    def factors(n):\n",
    "        return [i for i in range(1, int(n ** 0.5)) if n % i == 0]\n",
    "\n",
    "    def is_prime(n):\n",
    "        return True not in [n % i == 0 for i in range(2, int(n ** 0.5) + 1)]\n",
    "\n",
    "    return max([i for i in factors(n) if is_prime(i)] or [0])\n",
    "P3(600851475143)"
   ]
  },
  {
   "cell_type": "markdown",
   "id": "e03b1215-0508-45a2-8f40-5b7a29362b6d",
   "metadata": {},
   "source": [
    "- in javascript "
   ]
  },
  {
   "cell_type": "markdown",
   "id": "5dc66993-6035-4a96-8d84-c4c96f36a09f",
   "metadata": {},
   "source": [
    " \n",
    "      \n",
    "\n",
    "    function solve() {  \n",
    "        let result = getLargestPrimeFactor(600_851_475_143);  \n",
    "        console.log(`The solution is ${result}.`);  \n",
    "    }  \n",
    "\n",
    "    function getLargestPrimeFactor(n) {  \n",
    "        let largestPrimeFactor = 1;  \n",
    "        let divisor = 1;  \n",
    "        while (largestPrimeFactor < n) {  \n",
    "            divisor++;  \n",
    "           while(n % divisor === 0) {  \n",
    "                largestPrimeFactor = divisor;  \n",
    "                n /= divisor;  \n",
    "            }  \n",
    "        }  \n",
    "        return largestPrimeFactor;  \n",
    "    }  \n",
    "\n",
    "    solve();  "
   ]
  },
  {
   "cell_type": "markdown",
   "id": "fe020ece-db50-4de7-b9c3-00f9f7c983dc",
   "metadata": {},
   "source": [
    "# 4)"
   ]
  },
  {
   "cell_type": "raw",
   "id": "daa3739c-cd16-40f0-93bf-26133e27f29e",
   "metadata": {},
   "source": [
    "A palindromic number reads the same both ways. The largest palindrome made from the product of two 2-digit numbers is 9009 = 91 × 99.\n",
    "\n",
    "Find the largest palindrome made from the product of two 3-digit numbers."
   ]
  },
  {
   "cell_type": "code",
   "execution_count": 10,
   "id": "ca19ca50-8cf8-4129-bd52-a2c0604a3286",
   "metadata": {},
   "outputs": [
    {
     "name": "stdout",
     "output_type": "stream",
     "text": [
      "906609\n",
      "913 993\n"
     ]
    }
   ],
   "source": [
    "def check_palindrome(x):\n",
    "    str_number = str(x)\n",
    "    reverse_number = str_number[::-1]\n",
    "    if str_number == reverse_number:\n",
    "        return True\n",
    "    else:\n",
    "        return False\n",
    "\n",
    "\n",
    "a = 0\n",
    "b = 0\n",
    "big_palindrome = 0\n",
    "\n",
    "for i in range(100,1000):\n",
    "    for j in range(100,1000):\n",
    "        if check_palindrome(i * j) and i * j > big_palindrome:\n",
    "            a = i\n",
    "            b = j\n",
    "            big_palindrome  = i*j\n",
    "            \n",
    "            \n",
    "print(big_palindrome)\n",
    "print(a, b)"
   ]
  },
  {
   "cell_type": "code",
   "execution_count": 7,
   "id": "cf30f1ac-314f-4389-84ac-79cf1f35ec31",
   "metadata": {},
   "outputs": [
    {
     "name": "stdout",
     "output_type": "stream",
     "text": [
      "906609\n"
     ]
    }
   ],
   "source": [
    "result = []\n",
    "for number1 in range(100,1000):\n",
    "    for number2 in range(100,1000):\n",
    "        a=(number1*number2)\n",
    "        b=str(a)\n",
    "        if (b==b[::-1]):\n",
    "            result.append(a)\n",
    "print(max(result))"
   ]
  },
  {
   "cell_type": "code",
   "execution_count": 11,
   "id": "be56ae33-55eb-4450-83c5-097be9e14bc0",
   "metadata": {},
   "outputs": [
    {
     "name": "stdout",
     "output_type": "stream",
     "text": [
      "906609\n"
     ]
    }
   ],
   "source": [
    "list = []\n",
    "for j in range(100, 999):\n",
    "    for n in range(100, 999):\n",
    "        if str(n*j) == str(n*j)[::-1]: list.append(n*j)\n",
    "print(max(list))"
   ]
  },
  {
   "cell_type": "code",
   "execution_count": 12,
   "id": "b4b35649-2c61-4dfa-a241-17158a62a8b2",
   "metadata": {},
   "outputs": [
    {
     "name": "stdout",
     "output_type": "stream",
     "text": [
      "Largest palindrome:  906609\n"
     ]
    }
   ],
   "source": [
    "def palindrome(n):\n",
    "  max = 1\n",
    "  for i in range(10**(n-1), 10**n):\n",
    "    for j in range(10**(n-1), 10**n):\n",
    "      if str(i * j) == str(i * j)[::-1]:        \n",
    "        if i * j >= max :\n",
    "          max = i * j\n",
    "\n",
    "  print(\"Largest palindrome: \", max)\n",
    "\n",
    "palindrome(3)"
   ]
  },
  {
   "cell_type": "markdown",
   "id": "d660f431-7fe6-4cdd-96e2-0ed111e22898",
   "metadata": {},
   "source": [
    "- javascript"
   ]
  },
  {
   "cell_type": "markdown",
   "id": "54de4a16-663e-4560-bcd2-6c4915284322",
   "metadata": {},
   "source": [
    "\n",
    "    function solve() {\n",
    "        let result = getLargestPalindrome(3);\n",
    "        console.log(`The solution is ${result}.`);\n",
    "    }\n",
    "\n",
    "    function getLargestPalindrome(digits) {\n",
    "        smallestFactor = 10**(digits - 1);\n",
    "        biggestFactor = 10**digits;\n",
    "        let largestPalindrome = smallestFactor** 2 - 1;\n",
    "        for (let i = smallestFactor; i < biggestFactor; i++) {\n",
    "            for (let j = i; j < biggestFactor; j++) {\n",
    "                if (i * j > largestPalindrome && isPalindrome(i * j)) {\n",
    "                    largestPalindrome = i * j;\n",
    "                }\n",
    "            }\n",
    "        }\n",
    "        return largestPalindrome;\n",
    "    }\n",
    "\n",
    "    function isPalindrome(n) {\n",
    "        return n.toString() === n.toString().split('').reverse().join(\"\");\n",
    "    }\n",
    "\n",
    "    solve();\n"
   ]
  },
  {
   "cell_type": "markdown",
   "id": "d03a5191-5b82-4b02-b06c-414b4d94ce4b",
   "metadata": {},
   "source": [
    "# 5)"
   ]
  },
  {
   "cell_type": "markdown",
   "id": "19ee913f-b59c-46a6-b91a-dd38d0bc2c8f",
   "metadata": {},
   "source": [
    "#### 2520 is the smallest number that can be divided by each of the numbers from 1 to 10 without any remainder.\n",
    "#### What is the smallest positive number that is evenly divisible by all of the numbers from 1 to 20?"
   ]
  },
  {
   "cell_type": "code",
   "execution_count": 1,
   "id": "5a400018-c583-4897-a041-3008c4bcfd9e",
   "metadata": {},
   "outputs": [],
   "source": [
    "import math\n",
    "import functools"
   ]
  },
  {
   "cell_type": "code",
   "execution_count": 2,
   "id": "fade1549-6446-448d-8bbe-e85b6cb6e755",
   "metadata": {},
   "outputs": [
    {
     "data": {
      "text/plain": [
       "8"
      ]
     },
     "execution_count": 2,
     "metadata": {},
     "output_type": "execute_result"
    }
   ],
   "source": [
    "math.gcd(32,24)"
   ]
  },
  {
   "cell_type": "code",
   "execution_count": 3,
   "id": "6224e4fe-e9f7-4a8f-aa31-134750ee82d7",
   "metadata": {},
   "outputs": [],
   "source": [
    "# ebob(x,y) * ekok(x,y) = x * y "
   ]
  },
  {
   "cell_type": "code",
   "execution_count": 4,
   "id": "1b5bcefe-338e-4baf-a19c-26b94e050471",
   "metadata": {},
   "outputs": [
    {
     "name": "stdout",
     "output_type": "stream",
     "text": [
      "12\n"
     ]
    }
   ],
   "source": [
    "def lcm(x,y):\n",
    "    return x*y // math.gcd(x,y) # float çıkmasın ddiye tam bölümü aldık\n",
    "print(lcm(6,4))"
   ]
  },
  {
   "cell_type": "code",
   "execution_count": 5,
   "id": "4a606fa4-27cf-4417-94a9-e4a20f6c9795",
   "metadata": {},
   "outputs": [
    {
     "name": "stdout",
     "output_type": "stream",
     "text": [
      "232792560\n"
     ]
    }
   ],
   "source": [
    "result = functools.reduce(lcm, range(1,21))\n",
    "print(result)"
   ]
  },
  {
   "cell_type": "code",
   "execution_count": 6,
   "id": "929d7428-02e3-441f-bb13-18a6cc96767e",
   "metadata": {},
   "outputs": [
    {
     "data": {
      "text/plain": [
       "232792560"
      ]
     },
     "execution_count": 6,
     "metadata": {},
     "output_type": "execute_result"
    }
   ],
   "source": [
    "def hay(n):\n",
    "    num = 1\n",
    "    a = 1\n",
    "    b = 1\n",
    "    for i in range(2, n):\n",
    "        t = 0\n",
    "        for k in range(2,i):\n",
    "            if i % k == 0:\n",
    "                t += 1\n",
    "        if t == 0:\n",
    "            num *= i\n",
    "   \n",
    "    while True:\n",
    "        if 2**a < n:\n",
    "            a += 1\n",
    "        else:\n",
    "            if 3**b < n:\n",
    "                b += 1\n",
    "            else:\n",
    "                return 2**(a-2) * 3**(b-2)*num\n",
    "hay(21)"
   ]
  },
  {
   "cell_type": "code",
   "execution_count": 7,
   "id": "3aceae2a-3041-409d-ab5f-32c6d7ce9a42",
   "metadata": {},
   "outputs": [
    {
     "name": "stdout",
     "output_type": "stream",
     "text": [
      "232792560\n"
     ]
    }
   ],
   "source": [
    "\"\"\"\n",
    "Finds least common factor between i and i+1,\n",
    "from 1 <= i <= 19\n",
    "Uses least common factor from previous iteration\n",
    "to find common factor\n",
    "\"\"\"\n",
    "common = 1\n",
    "for i in range(1, 20):\n",
    "    j = i + 1\n",
    "    temp = common\n",
    "    while common % j != 0:\n",
    "        common += temp\n",
    "print(common)"
   ]
  },
  {
   "cell_type": "markdown",
   "id": "9930653a-190a-4caf-8563-8e5f00a666ef",
   "metadata": {},
   "source": [
    "# 6)"
   ]
  },
  {
   "attachments": {
    "4a4a9fda-1011-4e79-8994-7e92192934f9.png": {
     "image/png": "[encoded data removed]"
    }
   },
   "cell_type": "markdown",
   "id": "2f1b869a-d85c-4578-b03c-78feb64c5161",
   "metadata": {},
   "source": [
    "![Ekran görüntüsü 2021-12-15 160917.png](attachment:4a4a9fda-1011-4e79-8994-7e92192934f9.png)"
   ]
  },
  {
   "cell_type": "code",
   "execution_count": 32,
   "id": "d242090e-e28b-4917-bdce-dafc73d4f4fb",
   "metadata": {},
   "outputs": [
    {
     "name": "stdin",
     "output_type": "stream",
     "text": [
      "num 2 :  100\n",
      "num 1 :  100\n"
     ]
    },
    {
     "name": "stdout",
     "output_type": "stream",
     "text": [
      "difference :  25164150\n"
     ]
    }
   ],
   "source": [
    "# my solition:\n",
    "def natural_numbers():\n",
    "    num = int(input(\"num 1 : \"))\n",
    "    result = 0\n",
    "    for i in range(1,num + 1):\n",
    "        result += i * i\n",
    "    return result\n",
    "#print(natural_numbers())\n",
    "\n",
    "def natural_numbers2():\n",
    "    num = int(input(\"num 2 : \"))\n",
    "    result = 0\n",
    "    for i in range(1, num+1):\n",
    "        result += i\n",
    "    return result **2\n",
    "\n",
    "#print(natural_numbers2())\n",
    "\n",
    "\n",
    "print(\"difference : \", natural_numbers2() - natural_numbers())"
   ]
  },
  {
   "cell_type": "code",
   "execution_count": 28,
   "id": "3472ca18-1d74-468a-af76-8a5bfe4d7f0b",
   "metadata": {},
   "outputs": [
    {
     "name": "stdout",
     "output_type": "stream",
     "text": [
      "25164150\n"
     ]
    }
   ],
   "source": [
    "def sum_squares(n):\n",
    "    sum = 0 \n",
    "    for i in range(1, n):\n",
    "        i **= 2\n",
    "        sum += i\n",
    "    return sum\n",
    "\n",
    "def squares_sum(n):\n",
    "    sum = 0\n",
    "    for i in range(1,n):\n",
    "        sum += i\n",
    "    sum **= 2\n",
    "    return sum\n",
    "\n",
    "a = squares_sum(101)\n",
    "b = sum_squares(101)\n",
    "c = a - b\n",
    "print(c)"
   ]
  },
  {
   "cell_type": "code",
   "execution_count": 29,
   "id": "3a5868f0-05f3-4df8-b6ca-fb218f965429",
   "metadata": {},
   "outputs": [
    {
     "name": "stdout",
     "output_type": "stream",
     "text": [
      "25164150\n"
     ]
    }
   ],
   "source": [
    "sum_squares = 0 \n",
    "square_sum = 0\n",
    "number = 1\n",
    "while number<=100:\n",
    "    sum_squares = sum_squares + number**2\n",
    "    square_sum = square_sum + number \n",
    "    number = number+1\n",
    "    \n",
    "differece =  square_sum**2 - sum_squares\n",
    "print(differece)"
   ]
  },
  {
   "cell_type": "code",
   "execution_count": 30,
   "id": "a88212f8-e719-4091-b7f6-162eea6cb339",
   "metadata": {},
   "outputs": [
    {
     "name": "stdout",
     "output_type": "stream",
     "text": [
      "25164150 \n",
      "\n"
     ]
    }
   ],
   "source": [
    "n = 100\n",
    "\n",
    "sumsqur = 0\n",
    "for i in range(1,n+1):\n",
    "    sumsqur += i*i\n",
    "\n",
    "sqursum = (n*(n+1)/2)**2\n",
    "\n",
    "ans = int(sqursum - sumsqur)\n",
    "\n",
    "print(ans, '\\n')"
   ]
  },
  {
   "cell_type": "markdown",
   "id": "704f82e9-e404-45c1-8274-36cb0769fd70",
   "metadata": {},
   "source": [
    "# 7)"
   ]
  },
  {
   "cell_type": "markdown",
   "id": "7fee7c93-bdea-45a1-ac0c-e7462c059159",
   "metadata": {},
   "source": [
    "### By listing the first six prime numbers: 2, 3, 5, 7, 11, and 13, we can see that the 6th prime is 13.\n",
    "\n",
    "### What is the 10 001st prime number?"
   ]
  },
  {
   "cell_type": "code",
   "execution_count": null,
   "id": "d0c2faff-9bf5-4cda-a0ba-06d47405cb6c",
   "metadata": {},
   "outputs": [],
   "source": [
    "# def prime_numbers():\n",
    "#     liste = []\n",
    "#     number = 1\n",
    "#     while True:\n",
    "#         for i in range(2, number):\n",
    "#             if number %i != 0:\n",
    "#                 return liste.append(number)\n",
    "#                 number += 1\n",
    "                \n",
    "#             elif len(liste) == 10001 :\n",
    "#                 return liste[10001]\n",
    "# prime_numbers()          "
   ]
  },
  {
   "cell_type": "code",
   "execution_count": 15,
   "id": "c3586e48-3152-459e-8865-eb4d93c8a68e",
   "metadata": {},
   "outputs": [
    {
     "name": "stdout",
     "output_type": "stream",
     "text": [
      "104743\n"
     ]
    }
   ],
   "source": [
    "import math\n",
    "\n",
    "prime_count = 0\n",
    "\n",
    "def prime_check(x):\n",
    "    is_prime = True\n",
    "    \n",
    "    if x == 2:\n",
    "        return True\n",
    "    else:\n",
    "        for i in range(2, int(math.sqrt(x) + 1)):\n",
    "            if x % i == 0:\n",
    "                is_prime = False\n",
    "                break\n",
    "        return is_prime\n",
    "    \n",
    "i = 2\n",
    "\n",
    "while True:\n",
    "    if prime_check(i):\n",
    "        prime_count += 1\n",
    "        \n",
    "    if prime_count == 10001:\n",
    "        print(i)\n",
    "        break\n",
    "    i+=1\n",
    "    \n"
   ]
  },
  {
   "cell_type": "code",
   "execution_count": null,
   "id": "a7e234a7-3387-4036-8517-98ec97250fd9",
   "metadata": {},
   "outputs": [],
   "source": [
    "# def isPrime(n):\n",
    "#     d = 2\n",
    "#     while n % d != 0:\n",
    "#         d += 1\n",
    "#     return d == n\n",
    "\n",
    "# primes = []\n",
    "# i = 2\n",
    "# while len(primes) < 10001:\n",
    "#     if isPrime(i) == True:\n",
    "#         primes.append(i)\n",
    "#     i += 1\n",
    "# print(primes[-1])"
   ]
  },
  {
   "cell_type": "code",
   "execution_count": 1,
   "id": "33e24027-d210-44a5-910d-4f5d917b8bd7",
   "metadata": {},
   "outputs": [
    {
     "name": "stdout",
     "output_type": "stream",
     "text": [
      "104743\n"
     ]
    }
   ],
   "source": [
    "from math import *\n",
    "\n",
    "def eratosthene(n):\n",
    "    isPrime = [True]*(n+1)\n",
    "    primes = []\n",
    "    for i in range(2,n+1):\n",
    "        if isPrime[i]:\n",
    "            for j in range(i, n+1, i):\n",
    "                isPrime[j] = False\n",
    "            primes.append(i)\n",
    "    return primes\n",
    "\n",
    "def primeNumb(n):\n",
    "    limit = n*(log(n) + log(log(n)) - 0.5)\n",
    "    primes = eratosthene(floor(limit))\n",
    "    return primes[n-1]\n",
    "\n",
    "print(primeNumb(10001))"
   ]
  },
  {
   "cell_type": "raw",
   "id": "97f6c725-b90e-4762-b9fc-ae5f6f8dae7a",
   "metadata": {},
   "source": [
    "JavaScript :\n",
    "\n",
    "const getIsPrime = (num) => {\n",
    "  for(let i = 2; i < num; i++)\n",
    "    if(num % i === 0) return false;\n",
    "  return true\n",
    "}\n",
    "\n",
    "const testToRange = (primeCount) => {\n",
    "    var countPrime = 0;\n",
    "    var numb = 0;\n",
    "    var prime = 1;\n",
    "    while (countPrime !== (primeCount + 1)){\n",
    "        numb++\n",
    "        if(getIsPrime(numb)){\n",
    "            countPrime++\n",
    "            prime = numb\n",
    "        }\n",
    "    }\n",
    "    if(countPrime === (primeCount + 1))\n",
    "    return prime\n",
    "    else\n",
    "    return false\n",
    "}"
   ]
  },
  {
   "cell_type": "markdown",
   "id": "230f7058-c3cf-4dc0-b336-72173c32bf44",
   "metadata": {},
   "source": [
    "# 8)"
   ]
  },
  {
   "cell_type": "markdown",
   "id": "f2d89ced-2561-4f47-9416-c08015401b6c",
   "metadata": {},
   "source": [
    "\"\"\"The four adjacent digits in the 1000-digit number that have the greatest product are 9 × 9 × 8 × 9 = 5832.\n",
    "\n",
    "    73167176531330624919225119674426574742355349194934\n",
    "    96983520312774506326239578318016984801869478851843\n",
    "    85861560789112949495459501737958331952853208805511\n",
    "    12540698747158523863050715693290963295227443043557\n",
    "    66896648950445244523161731856403098711121722383113\n",
    "    62229893423380308135336276614282806444486645238749\n",
    "    30358907296290491560440772390713810515859307960866\n",
    "    70172427121883998797908792274921901699720888093776\n",
    "    65727333001053367881220235421809751254540594752243\n",
    "    52584907711670556013604839586446706324415722155397\n",
    "    53697817977846174064955149290862569321978468622482\n",
    "    83972241375657056057490261407972968652414535100474\n",
    "    82166370484403199890008895243450658541227588666881\n",
    "    16427171479924442928230863465674813919123162824586\n",
    "    17866458359124566529476545682848912883142607690042\n",
    "    24219022671055626321111109370544217506941658960408\n",
    "    07198403850962455444362981230987879927244284909188\n",
    "    84580156166097919133875499200524063689912560717606\n",
    "    05886116467109405077541002256983155200055935729725\n",
    "    71636269561882670428252483600823257530420752963450\n",
    "\n",
    "Find the thirteen adjacent digits in the 1000-digit number that have the greatest product. What is the value of this product?\"\"\""
   ]
  },
  {
   "cell_type": "code",
   "execution_count": 9,
   "id": "f0974617-d7cf-4b0b-867b-c7fbab2c71f6",
   "metadata": {},
   "outputs": [],
   "source": [
    "# peşpeşe gelen 13 basamağın çarpımı en fazla kaç olur :\n",
    "\n",
    "num = \"\"\"73167176531330624919225119674426574742355349194934\n",
    "96983520312774506326239578318016984801869478851843\n",
    "85861560789112949495459501737958331952853208805511\n",
    "12540698747158523863050715693290963295227443043557\n",
    "66896648950445244523161731856403098711121722383113\n",
    "62229893423380308135336276614282806444486645238749\n",
    "30358907296290491560440772390713810515859307960866\n",
    "70172427121883998797908792274921901699720888093776\n",
    "65727333001053367881220235421809751254540594752243\n",
    "52584907711670556013604839586446706324415722155397\n",
    "53697817977846174064955149290862569321978468622482\n",
    "83972241375657056057490261407972968652414535100474\n",
    "82166370484403199890008895243450658541227588666881\n",
    "16427171479924442928230863465674813919123162824586\n",
    "17866458359124566529476545682848912883142607690042\n",
    "24219022671055626321111109370544217506941658960408\n",
    "07198403850962455444362981230987879927244284909188\n",
    "84580156166097919133875499200524063689912560717606\n",
    "05886116467109405077541002256983155200055935729725\n",
    "71636269561882670428252483600823257530420752963450\"\"\"\n",
    "\n",
    "liste = num.split(\"\\n\")\n",
    "#print(liste)\n",
    "\n",
    "number= \"\" \n",
    "for i in liste :\n",
    "    number += i\n",
    "#print(number)"
   ]
  },
  {
   "cell_type": "code",
   "execution_count": 10,
   "id": "fc2695c4-8a73-4954-951f-7221be65ac95",
   "metadata": {},
   "outputs": [
    {
     "name": "stdout",
     "output_type": "stream",
     "text": [
      "23514624000\n"
     ]
    }
   ],
   "source": [
    "product = 0\n",
    "\n",
    "for i in range(0, len(number) - 12): # index hatası vermemesi için son 13 basamağı almıyoruz\n",
    "    aux = 1\n",
    "    for j in number[i: i+13]:\n",
    "        aux *= int(j)\n",
    "    if aux > product :\n",
    "        product = aux\n",
    "    \n",
    "print(product)"
   ]
  },
  {
   "cell_type": "code",
   "execution_count": 12,
   "id": "675b5c24-de0b-4006-8f64-cac760928c34",
   "metadata": {},
   "outputs": [
    {
     "name": "stdout",
     "output_type": "stream",
     "text": [
      "23514624000 \n",
      "\n"
     ]
    }
   ],
   "source": [
    "nstr = '''73167176531330624919225119674426574742355349194934\\\n",
    "96983520312774506326239578318016984801869478851843\\\n",
    "85861560789112949495459501737958331952853208805511\\\n",
    "12540698747158523863050715693290963295227443043557\\\n",
    "66896648950445244523161731856403098711121722383113\\\n",
    "62229893423380308135336276614282806444486645238749\\\n",
    "30358907296290491560440772390713810515859307960866\\\n",
    "70172427121883998797908792274921901699720888093776\\\n",
    "65727333001053367881220235421809751254540594752243\\\n",
    "52584907711670556013604839586446706324415722155397\\\n",
    "53697817977846174064955149290862569321978468622482\\\n",
    "83972241375657056057490261407972968652414535100474\\\n",
    "82166370484403199890008895243450658541227588666881\\\n",
    "16427171479924442928230863465674813919123162824586\\\n",
    "17866458359124566529476545682848912883142607690042\\\n",
    "24219022671055626321111109370544217506941658960408\\\n",
    "07198403850962455444362981230987879927244284909188\\\n",
    "84580156166097919133875499200524063689912560717606\\\n",
    "05886116467109405077541002256983155200055935729725\\\n",
    "71636269561882670428252483600823257530420752963450'''\n",
    "n = 1000\n",
    "m = 13\n",
    "\n",
    "ans = 0\n",
    "for i in range(n-m+1):\n",
    "    prodct = 1\n",
    "    for j in range(m): \n",
    "        prodct *= int(nstr[i+j])\n",
    "    if prodct>ans:\n",
    "        ans = prodct\n",
    "\n",
    "print(ans, '\\n')"
   ]
  },
  {
   "cell_type": "markdown",
   "id": "b47d2090-4326-4010-85b6-211def6b5c7d",
   "metadata": {},
   "source": [
    "# 9)"
   ]
  },
  {
   "attachments": {
    "9fe88937-7597-46d0-bd66-3135e4af37da.png": {
     "image/png": "[encoded data removed]"
    }
   },
   "cell_type": "markdown",
   "id": "1ade16c1-a7a4-4d30-9663-09ccaac9b5ad",
   "metadata": {},
   "source": [
    "![image.png](attachment:9fe88937-7597-46d0-bd66-3135e4af37da.png)"
   ]
  },
  {
   "cell_type": "code",
   "execution_count": 13,
   "id": "fb8ddaab-494b-4c75-96a8-90d318b5bb2f",
   "metadata": {},
   "outputs": [
    {
     "name": "stdout",
     "output_type": "stream",
     "text": [
      "31875000\n",
      "31875000\n"
     ]
    }
   ],
   "source": [
    "for a in range(1, 1000):\n",
    "    for b in range(1, 1000-a):\n",
    "        c = 1000 - a - b\n",
    "        if c**2 == a**2 + b**2:\n",
    "            print(a*b*c)\n",
    "            break\n",
    "# dıştaki for döngüsü çalışmaya devam ettiği için iki kez yazdırdı yani 3*3 + 4*4 = 4*4 + 3*3"
   ]
  },
  {
   "cell_type": "code",
   "execution_count": 15,
   "id": "1ad20134-2f18-4607-9dfb-12718a639152",
   "metadata": {},
   "outputs": [
    {
     "name": "stdout",
     "output_type": "stream",
     "text": [
      "31875000\n",
      "200 375 425\n",
      "31875000\n",
      "375 200 425\n"
     ]
    }
   ],
   "source": [
    "done = False\n",
    "\n",
    "for a in range(1, 1000):\n",
    "    for b in range(1, 1000-a):\n",
    "        c = 1000 - a - b\n",
    "        if c**2 == a**2 + b**2:\n",
    "            print(a*b*c)\n",
    "            print(a,b,c)\n",
    "            break\n",
    "    if done:\n",
    "        break"
   ]
  },
  {
   "cell_type": "code",
   "execution_count": 18,
   "id": "809b8123-d25a-41b8-ae17-da8d3112d186",
   "metadata": {},
   "outputs": [
    {
     "name": "stdout",
     "output_type": "stream",
     "text": [
      "(200, 375, 425, 31875000)\n"
     ]
    }
   ],
   "source": [
    "def pyth_trip():\n",
    "    for a in range(1,1000):\n",
    "        for b in range(1,1000):\n",
    "            c=1000-a-b\n",
    "            if a**2+b**2==c**2:\n",
    "                return(a,b,c,a*b*c)\n",
    "print(pyth_trip())"
   ]
  },
  {
   "cell_type": "code",
   "execution_count": 19,
   "id": "4ce48d0f-1110-4d9c-afd5-02de9b5b1c5b",
   "metadata": {},
   "outputs": [
    {
     "name": "stdout",
     "output_type": "stream",
     "text": [
      "31875000 \n",
      "\n"
     ]
    }
   ],
   "source": [
    "import math\n",
    "\n",
    "n = 500000\n",
    "for d in range(int(math.sqrt(n)),1000):\n",
    "    if n%d: continue\n",
    "    a = 1000 - d; b = 1000 - n//d; c = d - b\n",
    "    if a*a+b*b==c*c: break\n",
    "\n",
    "ans = a*b*c\n",
    "\n",
    "print(ans, '\\n')"
   ]
  },
  {
   "cell_type": "code",
   "execution_count": 23,
   "id": "70852560-080d-4cff-9ddb-f4cd16e8d32f",
   "metadata": {},
   "outputs": [
    {
     "name": "stdout",
     "output_type": "stream",
     "text": [
      "Produto: 31875000\n"
     ]
    }
   ],
   "source": [
    "import math\n",
    "\n",
    "for a in range(1, 1000):\n",
    "    for b in range(a, 1000):\n",
    "        c = ( a**2 + b**2)**0.5\n",
    "        soma = a + b + c\n",
    "        if soma == 1000:\n",
    "            print('Produto: {}'.format( a * b * int(c) ))"
   ]
  },
  {
   "cell_type": "markdown",
   "id": "c6496e34-8c45-4fbc-b901-d527d301ecda",
   "metadata": {},
   "source": [
    "# 10)"
   ]
  },
  {
   "cell_type": "markdown",
   "id": "68e45a2a-2248-4578-a4bc-5ca1d8e790f8",
   "metadata": {},
   "source": [
    "### The sum of the primes below 10 is 2 + 3 + 5 + 7 = 17.\n",
    "\n",
    "### Find the sum of all the primes below two million."
   ]
  },
  {
   "cell_type": "code",
   "execution_count": 2,
   "id": "c535137d-ec1b-4257-bbc4-7d876cd53b31",
   "metadata": {},
   "outputs": [
    {
     "name": "stdin",
     "output_type": "stream",
     "text": [
      "Please enter a number :  20000000\n"
     ]
    },
    {
     "name": "stdout",
     "output_type": "stream",
     "text": [
      "[2, 3, 4, 5, 6, 7, 8, 9, 11, 13, 15, 17, 19, 23, 25, 29, 31, 35, 37, 41, 43, 47, 49, 53, 59, 61, 67, 71, 73, 79, 83, 89, 97, 101, 103, 107, 109, 113, 121, 127, 131, 137, 139, 143, 149, 151, 157, 163, 167, 169, 173, 179, 181, 191, 193, 197, 199, 211, 223, 227, 229, 233, 239, 241, 251, 257, 263, 269, 271, 277, 281, 283, 289, 293, 307, 311, 313, 317, 323, 331, 337, 347, 349, 353, 359, 361, 367, 373, 379, 383, 389, 397, 401, 409, 419, 421, 431, 433, 439, 443, 449, 457, 461, 463, 467, 479, 487, 491, 499, 503, 509, 521, 523, 529, 541, 547, 557, 563, 569, 571, 577, 587, 593, 599, 601, 607, 613, 617, 619, 631, 641, 643, 647, 653, 659, 661, 673, 677, 683, 691, 701, 709, 719, 727, 733, 739, 743, 751, 757, 761, 769, 773, 787, 797, 809, 811, 821, 823, 827, 829, 839, 841, 853, 857, 859, 863, 877, 881, 883, 887, 899, 907, 911, 919, 929, 937, 941, 947, 953, 961, 967, 971, 977, 983, 991, 997, 1009, 1013, 1019, 1021, 1031, 1033, 1039, 1049, 1051, 1061, 1063, 1069, 1087, 1091, 1093, 1097, 1103, 1109, 1117, 1123, 1129, 1151, 1153, 1163, 1171, 1181, 1187, 1193, 1201, 1213, 1217, 1223, 1229, 1231, 1237, 1249, 1259, 1277, 1279, 1283, 1289, 1291, 1297, 1301, 1303, 1307, 1319, 1321, 1327, 1361, 1367, 1369, 1373, 1381, 1399, 1409, 1423, 1427, 1429, 1433, 1439, 1447, 1451, 1453, 1459, 1471, 1481, 1483, 1487, 1489, 1493, 1499, 1511, 1523, 1531, 1543, 1549, 1553, 1559, 1567, 1571, 1579, 1583, 1597, 1601, 1607, 1609, 1613, 1619, 1621, 1627, 1637, 1657, 1663, 1667, 1669, 1681, 1693, 1697, 1699, 1709, 1721, 1723, 1733, 1741, 1747, 1753, 1759, 1763, 1777, 1783, 1787, 1789, 1801, 1811, 1823, 1831, 1847, 1849, 1861, 1867, 1871, 1873, 1877, 1879, 1889, 1901, 1907, 1913, 1931, 1933, 1949, 1951, 1973, 1979, 1987, 1993, 1997, 1999, 2003, 2011, 2017, 2027, 2029, 2039, 2053, 2063, 2069, 2081, 2083, 2087, 2089, 2099, 2111, 2113, 2129, 2131, 2137, 2141, 2143, 2153, 2161, 2179, 2203, 2207, 2209, 2213, 2221, 2237, 2239, 2243, 2251, 2267, 2269, 2273, 2281, 2287, 2293, 2297, 2309, 2311, 2333, 2339, 2341, 2347, 2351, 2357, 2371, 2377, 2381, 2383, 2389, 2393, 2399, 2411, 2417, 2423, 2437, 2441, 2447, 2459, 2467, 2473, 2477, 2503, 2521, 2531, 2539, 2543, 2549, 2551, 2557, 2579, 2591, 2593, 2609, 2617, 2621, 2633, 2647, 2657, 2659, 2663, 2671, 2677, 2683, 2687, 2689, 2693, 2699, 2707, 2711, 2713, 2719, 2729, 2731, 2741, 2749, 2753, 2767, 2777, 2789, 2791, 2797, 2801, 2803, 2809, 2819, 2833, 2837, 2843, 2851, 2857, 2861, 2879, 2887, 2897, 2903, 2909, 2917, 2927, 2939, 2953, 2957, 2963, 2969, 2971, 2999, 3001, 3011, 3019, 3023, 3037, 3041, 3049, 3061, 3067, 3079, 3083, 3089, 3109, 3119, 3121, 3137, 3163, 3167, 3169, 3181, 3187, 3191, 3203, 3209, 3217, 3221, 3229, 3251, 3253, 3257, 3259, 3271, 3299, 3301, 3307, 3313, 3319, 3323, 3329, 3331, 3343, 3347, 3359, 3361, 3371, 3373, 3389, 3391, 3407, 3413, 3433, 3449, 3457, 3461, 3463, 3467, 3469, 3481, 3491, 3499, 3511, 3517, 3527, 3529, 3533, 3539, 3541, 3547, 3557, 3559, 3571, 3581, 3583, 3593, 3599, 3607, 3613, 3617, 3623, 3631, 3637, 3643, 3659, 3671, 3673, 3677, 3691, 3697, 3701, 3709, 3719, 3721, 3727, 3733, 3739, 3761, 3767, 3769, 3779, 3793, 3797, 3803, 3821, 3823, 3833, 3847, 3851, 3853, 3863, 3877, 3881, 3889, 3907, 3911, 3917, 3919, 3923, 3929, 3931, 3943, 3947, 3967, 3989, 4001, 4003, 4007, 4013, 4019, 4021, 4027, 4049, 4051, 4057, 4073, 4079, 4091, 4093, 4099, 4111, 4127, 4129, 4133, 4139, 4153, 4157, 4159, 4177, 4201, 4211, 4217, 4219, 4229, 4231, 4241, 4243, 4253, 4259, 4261, 4271, 4273, 4283, 4289, 4297, 4327, 4337, 4339, 4349, 4357, 4363, 4373, 4391, 4397, 4409, 4421, 4423, 4441, 4447, 4451, 4457, 4463]\n",
      "1281466\n"
     ]
    }
   ],
   "source": [
    "from math import sqrt\n",
    "\n",
    "n= int(input(\"Please enter a number : \"))\n",
    "list1 = []\n",
    "for i in range(2, int(sqrt(n))+1):\n",
    "    for ii in range(2, int(sqrt(i))):\n",
    "        if i % ii == 0 :\n",
    "            break\n",
    "    else : \n",
    "        list1.append(i)\n",
    "print(list1)\n",
    "print(sum(list1))\n",
    "# cevap eksik çıkıyor"
   ]
  },
  {
   "cell_type": "code",
   "execution_count": 3,
   "id": "07ebf68b-48f2-4287-8e5d-70ecc0111865",
   "metadata": {},
   "outputs": [
    {
     "data": {
      "text/plain": [
       "4.0"
      ]
     },
     "execution_count": 3,
     "metadata": {},
     "output_type": "execute_result"
    }
   ],
   "source": [
    "math.sqrt(16)"
   ]
  },
  {
   "cell_type": "code",
   "execution_count": null,
   "id": "9eba7b1f-c6c1-48d5-90ff-70a6ad5a00a9",
   "metadata": {},
   "outputs": [],
   "source": [
    "142913828922"
   ]
  },
  {
   "cell_type": "code",
   "execution_count": 1,
   "id": "ae5f5d18-22aa-4128-b520-aa7613ce9626",
   "metadata": {},
   "outputs": [
    {
     "name": "stdout",
     "output_type": "stream",
     "text": [
      "142913828922 \n",
      "\n"
     ]
    }
   ],
   "source": [
    "import math\n",
    "\n",
    "def prim(n):\n",
    "    for i in range(2,int(math.sqrt(n))+1):\n",
    "        if n%i==0: return False\n",
    "    return True\n",
    "\n",
    "ans = 0\n",
    "for i in range(2,int(2e6)+1):\n",
    "    if prim(i): ans += i\n",
    "\n",
    "print(ans, '\\n')"
   ]
  },
  {
   "cell_type": "code",
   "execution_count": 12,
   "id": "e028bdd4-9ffd-438f-8838-8b349fb9f2f2",
   "metadata": {},
   "outputs": [
    {
     "name": "stdin",
     "output_type": "stream",
     "text": [
      "Please enter a number :  100\n"
     ]
    },
    {
     "name": "stdout",
     "output_type": "stream",
     "text": [
      "0\n"
     ]
    }
   ],
   "source": [
    "from math import sqrt\n",
    "\n",
    "n= int(input(\"Please enter a number : \"))\n",
    "result = 0\n",
    "for i in range(2, int(sqrt(n))):\n",
    "    if n%i == 0:\n",
    "        True\n",
    "        break\n",
    "    else:\n",
    "        for ii in range(2, i):\n",
    "            if i % ii == 0 :\n",
    "                break\n",
    "        else : \n",
    "            result += i\n",
    "print(result)\n",
    "# cevap eksik çıkıyor"
   ]
  },
  {
   "cell_type": "code",
   "execution_count": null,
   "id": "c659ccd4-ca83-488c-83c9-5dfca5028d33",
   "metadata": {},
   "outputs": [],
   "source": []
  }
 ],
 "metadata": {
  "kernelspec": {
   "display_name": "Python 3",
   "language": "python",
   "name": "python3"
  },
  "language_info": {
   "codemirror_mode": {
    "name": "ipython",
    "version": 3
   },
   "file_extension": ".py",
   "mimetype": "text/x-python",
   "name": "python",
   "nbconvert_exporter": "python",
   "pygments_lexer": "ipython3",
   "version": "3.8.8"
  }
 },
 "nbformat": 4,
 "nbformat_minor": 5
}
