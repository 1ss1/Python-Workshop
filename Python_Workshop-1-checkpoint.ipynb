{
 "cells": [
  {
   "cell_type": "markdown",
   "metadata": {},
   "source": [
    "<h1><center>Python Workshop - 30.11.2021</center></h1>"
   ]
  },
  {
   "cell_type": "markdown",
   "metadata": {},
   "source": [
    "### Question 1\n",
    "```\n",
    "Write a function that returns True if every consecutive sequence of ones is followed by a consecutive sequence of zeroes of the same length.\n",
    "\n",
    "same_length(\"110011100010\") ➞ True\n",
    "\n",
    "same_length(\"101010110\") ➞ False\n",
    "\n",
    "same_length(\"111100001100\") ➞ True\n",
    "\n",
    "same_length(\"111\") ➞ False\n",
    "```"
   ]
  },
  {
   "cell_type": "code",
   "execution_count": 5,
   "metadata": {},
   "outputs": [
    {
     "name": "stdout",
     "output_type": "stream",
     "text": [
      "11100010\n",
      "1100\n",
      "10\n",
      "\n",
      "True\n"
     ]
    }
   ],
   "source": [
    "num = \"110011100010\"\n",
    "\n",
    "while \"10\" in num or \"01\" in num :\n",
    "    num = num.replace(\"10\",\"\",1).replace(\"01\", \"\",1) # varsa \"10\" ve \"01\" lerin tamamını silip yerine sıfır koydu.\n",
    "    print(num)\n",
    "    \n",
    "if num == \"\" :\n",
    "    print(\"True\")\n",
    "else:\n",
    "    print(\"False\")"
   ]
  },
  {
   "cell_type": "code",
   "execution_count": 6,
   "metadata": {},
   "outputs": [
    {
     "name": "stdout",
     "output_type": "stream",
     "text": [
      "10110\n",
      "110\n",
      "1\n",
      "False\n"
     ]
    }
   ],
   "source": [
    "num = \"101010110\"\n",
    "\n",
    "while \"10\" in num or \"01\" in num :\n",
    "    num = num.replace(\"10\",\"\",1).replace(\"01\", \"\",1) # varsa \"10\" ve \"01\" lerin tamamını silip yerine sıfır koydu.\n",
    "    print(num)\n",
    "    \n",
    "if num == \"\" :\n",
    "    print(\"True\")\n",
    "else:\n",
    "    print(\"False\")"
   ]
  },
  {
   "cell_type": "markdown",
   "metadata": {},
   "source": [
    "### Question 2\n",
    "```\n",
    "Write a function that groups a string into parentheses cluster. Each cluster should be balanced.\n",
    "split(\"()()()\") ➞ [\"()\", \"()\", \"()\"]\n",
    "\n",
    "split(\"((()))\") ➞ [\"((()))\"]\n",
    "\n",
    "split(\"((()))(())()()(()())\") ➞ [\"((()))\", \"(())\", \"()\", \"()\", \"(()())\"]\n",
    "\n",
    "split(\"((())())(()(()()))\") ➞ [\"((())())\", \"(()(()()))\"]\n",
    "```"
   ]
  },
  {
   "cell_type": "code",
   "execution_count": 9,
   "metadata": {},
   "outputs": [
    {
     "name": "stdout",
     "output_type": "stream",
     "text": [
      "['((()))', '(())', '()', '()', '(()())']\n"
     ]
    }
   ],
   "source": [
    "num = \"((()))(())()()(()())\"\n",
    "\n",
    "left, right = 0, 0\n",
    "summ = \"\"\n",
    "res = []\n",
    "for i in num :\n",
    "    if i == \"(\" :\n",
    "        left += 1\n",
    "        summ += i\n",
    "    else:\n",
    "        right += 1\n",
    "        summ += i\n",
    "        \n",
    "    if left == right :\n",
    "        res.append(summ)\n",
    "        left = 0  # sağ sol sıfırlamadan da olur. eşitlikten devam edecek işlem.\n",
    "        right = 0\n",
    "        summ = \"\"\n",
    "        \n",
    "print(res)"
   ]
  },
  {
   "cell_type": "markdown",
   "metadata": {},
   "source": [
    "### Question 3\n",
    "```\n",
    "Create a function that returns a list containing the prime factors of whatever integer is passed to it. (asal çarpanlarına ayırma)\n",
    "\n",
    "prime_factors(20) ➞ [2, 2, 5]\n",
    "\n",
    "prime_factors(100) ➞ [2, 2, 5, 5]\n",
    "\n",
    "prime_factors(8912234) ➞ [2, 47, 94811]\n",
    "```"
   ]
  },
  {
   "cell_type": "code",
   "execution_count": 11,
   "metadata": {},
   "outputs": [
    {
     "name": "stdout",
     "output_type": "stream",
     "text": [
      "[2, 2, 5, 5]\n"
     ]
    }
   ],
   "source": [
    "num = 100\n",
    "x = 2\n",
    "res = []\n",
    "\n",
    "while num > 1 : # sayı 1 e eşitlenince döngüden çıkar.\n",
    "    if num % x == 0 :\n",
    "        num = num // x\n",
    "        res.append(x)\n",
    "    else :\n",
    "        x += 1\n",
    "        \n",
    "print(res) # bütün bölenler."
   ]
  },
  {
   "cell_type": "markdown",
   "metadata": {},
   "source": [
    "### Question 4\n",
    "```\n",
    "Create a function that takes a number num and returns each place value in the number.\n",
    "\n",
    "num_split(39) ➞ [30, 9]\n",
    "\n",
    "num_split(-434) ➞ [-400, -30, -4]\n",
    "\n",
    "num_split(100) ➞ [100, 0, 0]\n",
    "```"
   ]
  },
  {
   "cell_type": "code",
   "execution_count": 16,
   "metadata": {},
   "outputs": [
    {
     "name": "stdout",
     "output_type": "stream",
     "text": [
      "[-400, -30, -4]\n"
     ]
    }
   ],
   "source": [
    "num = -434 # basamak hesabı yaparken stringe dönüştürmek daha kolay olur.\n",
    "           # önce eksiden kurtulalım\n",
    "if num < 0 :\n",
    "    negative = True\n",
    "    num = abs(num)\n",
    "    \n",
    "else:\n",
    "    negative = False\n",
    "    \n",
    "num = str(num)\n",
    "res = []\n",
    "lenght = len(num) - 1\n",
    "\n",
    "for i in num :\n",
    "    res.append(i + \"0\" * lenght)\n",
    "    lenght -= 1 # her döngüde basamak sayısı için sıfırları bir azalttık\n",
    "    \n",
    "if negative :   # bu if bloğu olmazsa tüm sayıların pozitifleri basamaklarına ayrılır.\n",
    "    res = [-int(i) for i in res]\n",
    "else :\n",
    "    res = [int(i) for i in res]\n",
    "    \n",
    "print(res)"
   ]
  },
  {
   "cell_type": "markdown",
   "metadata": {},
   "source": [
    "### Question 5\n",
    "```\n",
    "Create a function that takes an integer n and returns the factorial of factorials. \n",
    "\n",
    "See below examples for a better understanding:\n",
    "\n",
    "fact_of_fact(4) ➞ 288\n",
    "#4! * 3! * 2! * 1! = 288\n",
    "\n",
    "fact_of_fact(5) ➞ 34560\n",
    "\n",
    "fact_of_fact(6) ➞ 24883200\n",
    "```"
   ]
  },
  {
   "cell_type": "code",
   "execution_count": 22,
   "metadata": {},
   "outputs": [
    {
     "name": "stdout",
     "output_type": "stream",
     "text": [
      "34560\n"
     ]
    }
   ],
   "source": [
    "num = 5\n",
    "res = 1\n",
    "\n",
    "for i in range(2, num + 1) : #faktöriyelleri birbiriyle çarpar\n",
    "    number = 1\n",
    "    for j in range(1, i  + 1) :   #faktöriyeli alır.\n",
    "        number *= j\n",
    "       # print(\"1\", number)\n",
    "    res *= number\n",
    "    #print(\"2\", res)\n",
    "    \n",
    "print(res)"
   ]
  },
  {
   "cell_type": "markdown",
   "metadata": {},
   "source": [
    "### Question 6\n",
    "```\n",
    "You are given a list which may contain sublists. Your task is to find the depth of the deepest sublist.\n",
    "\n",
    "[a] = 1 depth\n",
    "[[a]] = 2 depth\n",
    "[[[a]]] = 3 depth, etc\n",
    "Examples\n",
    "deepest([1, [2, 3], 4, [5, 6]]) ➞ 2\n",
    "\n",
    "deepest([[[[[[[[[[1]]]]]]]]]]) ➞ 10\n",
    "\n",
    "deepest([1, 4, [1, 4, [1, 4, [1, 4, [5]]]]]) ➞ 5\n",
    "```"
   ]
  },
  {
   "cell_type": "code",
   "execution_count": 28,
   "metadata": {},
   "outputs": [
    {
     "name": "stdout",
     "output_type": "stream",
     "text": [
      "13\n"
     ]
    }
   ],
   "source": [
    "lst = [[],[[[[[5]]]]],[[[[[[[6]]]]]]],[[[[[[[[[[[[7]]]]]]]]]]]]]\n",
    "\n",
    "lst = str(lst)\n",
    "count = 0\n",
    "res = []\n",
    "\n",
    "for i in lst :\n",
    "    if i == \"[\" :\n",
    "        count += 1\n",
    "        res.append(count)\n",
    "    elif i == \"]\" :\n",
    "        count -= 1\n",
    "        res.append(count)\n",
    "        \n",
    "#print(res)\n",
    "print(max(res)) # derinliği max u dur. parantezleri saydırıyoruz çünkü."
   ]
  },
  {
   "cell_type": "markdown",
   "metadata": {},
   "source": [
    "### Question 7\n",
    "```\n",
    "\"Loves me, loves me not\" is a traditional game in which a person plucks off all the petals of a flower one by one, saying the phrase \"Loves me\" and \"Loves me not\" when determining whether the one that they love, loves them back.\n",
    "\n",
    "Given a number of petals, return a string which repeats the phrases \"Loves me\" and \"Loves me not\" for every alternating petal, and return the last phrase in all caps. Remember to put a comma and space between phrases.\n",
    "\n",
    "For n = 5: \n",
    "Loves me, Loves me not, Loves me, Loves me not, LOVES ME\n",
    "```"
   ]
  },
  {
   "cell_type": "code",
   "execution_count": 32,
   "metadata": {},
   "outputs": [
    {
     "name": "stdout",
     "output_type": "stream",
     "text": [
      "Loves me, Loves me not, Loves me, Loves me not, Loves me, Loves me not, Loves me, Loves me not, Loves me, LOVES ME NOT\n"
     ]
    }
   ],
   "source": [
    "n = 10\n",
    "\n",
    "text = \"Loves me\"\n",
    "res = \"\"\n",
    "\n",
    "for i in range(1, n+1):  # çiftlere not eklemek için 1 den başlattık\n",
    "    if i %2 == 0 :\n",
    "        a = text + \" not, \"\n",
    "    else:\n",
    "        a = text + \", \"\n",
    "        \n",
    "    if i != n :\n",
    "         res += a # üstteki if döngüsünde n den küçük her sayıyı res e atmak için\n",
    "    else :      # i n e yani 10 a eşitlendiğinde son elemana ulaşıyoruz.\n",
    "        res += a.upper()\n",
    "res = res.rstrip(\", \")   # en sonda \", \" kalanı silmek için\n",
    "\n",
    "print(res)"
   ]
  },
  {
   "cell_type": "markdown",
   "metadata": {},
   "source": [
    "### Question 8\n",
    "```\n",
    "Given a string of size n, write functions to perform following operations on string.\n",
    "Left (Or anticlockwise) rotate the given string by d elements (where d <= n).\n",
    "Right (Or clockwise) rotate the given string by d elements (where d <= n). \n",
    "For example given word: \"Hippopotamus\"  \n",
    "\n",
    "result =\n",
    "Left Rotation :  opotamusHipp      #soldaki 4 harfi al sağa at\n",
    "Right Rotation :  amusHippopot     # sağdaki 4 harfi al sola at\n",
    "```"
   ]
  },
  {
   "cell_type": "code",
   "execution_count": 33,
   "metadata": {},
   "outputs": [
    {
     "name": "stdout",
     "output_type": "stream",
     "text": [
      "otamusHipop\n",
      "tamusHipopo\n"
     ]
    }
   ],
   "source": [
    "text = \"Hipopotamus\"\n",
    "n = 5\n",
    "\n",
    "left = text[n:] + text[:n]\n",
    "\n",
    "right = text[:-n-1:-1][::-1] + text[:len(text) - n] \n",
    "# ik indexlemede tersten yazdıracağı için ikinci bir indexleme yapıp tekrar stringi çevirdik.\n",
    "\n",
    "print(left)\n",
    "print(right)"
   ]
  },
  {
   "cell_type": "markdown",
   "metadata": {},
   "source": [
    "### Question 9\n",
    "```\n",
    "Given two strings s and t, create a function to determine if they are isomorphic. Two strings are isomorphic if the characters in s can be replaced to get t. All occurrences of a character must be replaced with another character while preserving the order of characters. No two characters may map to the same character but a character may map to itself.\n",
    "\n",
    "Examples\n",
    "is_isomorphic(\"egg\", \"add\") ➞ True # harfler birebir değişmiş\n",
    "\n",
    "is_isomorphic(\"aba\", \"baa\") ➞ False # sondaki a değişmemiş \n",
    "\n",
    "is_isomorphic(\"paper\", \"title\") ➞ True # birebir değişmiş\n",
    "```"
   ]
  },
  {
   "cell_type": "code",
   "execution_count": 35,
   "metadata": {},
   "outputs": [
    {
     "name": "stdout",
     "output_type": "stream",
     "text": [
      "True\n"
     ]
    }
   ],
   "source": [
    "x = 'paperbnmmmnn'\n",
    "y = 'titlesdfffdd'\n",
    "dictt = {}\n",
    "result = True\n",
    "\n",
    "if len(x) != len(y):\n",
    "    result = False\n",
    "else:\n",
    "    for i in range(len(x)):\n",
    "        if x[i] not in dictt :\n",
    "            dictt[x[i]] = y[i] # x in i. index i y de karşılık bulmadığı için atama yaptık\n",
    "        else:\n",
    "            if dictt[x[i]] != y[i]: # atanması gereken harf atanmamış demektir \n",
    "                result = False\n",
    "\n",
    "print(result)"
   ]
  },
  {
   "cell_type": "markdown",
   "metadata": {},
   "source": [
    "### Question 10\n",
    "```\n",
    "Imagine you took all the numbers between 0 and n and concatenated them together into a long string. How many digits are there between 0 and n? Write a function that can calculate this.\n",
    "There are 0 digits between 0 and 1, there are 9 digits between 0 and 10 and there are 189 digits between 0 and 100.\n",
    "Examples digits(1) ➞ 0\n",
    "digits(10) ➞ 9\n",
    "digits(100) ➞ 189\n",
    "digits(2020) ➞ 6969 # sıfırla 2020 arasındaki sayıları yan yana koyduğumuz zaman kaç digit oluştuğunu verdi.\n",
    "Notes The numbers are going to be rather big so creating that string won't be practical.\n",
    "```"
   ]
  },
  {
   "cell_type": "code",
   "execution_count": 38,
   "metadata": {},
   "outputs": [
    {
     "name": "stdout",
     "output_type": "stream",
     "text": [
      "6969\n"
     ]
    }
   ],
   "source": [
    "n = 2020\n",
    "count = 0\n",
    "\n",
    "for i in range(1, n):\n",
    "        count += 1 \n",
    "        \n",
    "        while i // 10 != 0 :  # sayı 10 veya 10 dan büyükse\n",
    "            i = i // 10 # iki haneli sayıda birinci basamak for döngüsü içinde ikinci basamak bu satırda sayılır.\n",
    "            count += 1   # 4 haneli sayının 3 basamağı while döngüsü içinde saydırılır.\n",
    "\n",
    "print(count)"
   ]
  },
  {
   "cell_type": "markdown",
   "metadata": {},
   "source": [
    "### Question 11\n",
    "```\n",
    "Print square pattern with alphabet symbols: \n",
    "\n",
    "input: pattern('A', 7)\n",
    "\n",
    "output :\n",
    "A A A A A A A \n",
    "B B B B B B B \n",
    "C C C C C C C \n",
    "D D D D D D D \n",
    "E E E E E E E \n",
    "F F F F F F F \n",
    "G G G G G G G \n",
    "```"
   ]
  },
  {
   "cell_type": "code",
   "execution_count": 41,
   "metadata": {
    "scrolled": true
   },
   "outputs": [
    {
     "name": "stdout",
     "output_type": "stream",
     "text": [
      "ABCDEFGHIJKLMNOPQRSTUVWXYZ\n"
     ]
    }
   ],
   "source": [
    "import string\n",
    "\n",
    "harf = string.ascii_uppercase\n",
    "\n",
    "print(harf)"
   ]
  },
  {
   "cell_type": "code",
   "execution_count": 45,
   "metadata": {},
   "outputs": [
    {
     "name": "stdout",
     "output_type": "stream",
     "text": [
      "X X X X X X X X X X\n",
      "Y Y Y Y Y Y Y Y Y Y\n",
      "Z Z Z Z Z Z Z Z Z Z\n",
      "A A A A A A A A A A\n",
      "B B B B B B B B B B\n",
      "C C C C C C C C C C\n",
      "D D D D D D D D D D\n",
      "E E E E E E E E E E\n",
      "F F F F F F F F F F\n",
      "G G G G G G G G G G\n"
     ]
    }
   ],
   "source": [
    "import string\n",
    "\n",
    "harf = string.ascii_uppercase\n",
    "\n",
    "n = 10\n",
    "s = 'X'\n",
    "loc = harf.index(s)\n",
    "res = ''\n",
    "# print(loc)\n",
    "\n",
    "for i in range(n):\n",
    "    res += ' '.join([harf[loc] for j in range(n)]) + '\\n'  # 10 tane harfi çağırıp birleştirdik\n",
    "    loc += 1                                               # alt satıra atmak için kaçış dizisiyle topladık.\n",
    "    if loc > len(harf) - 1:\n",
    "        loc = loc - len(harf)  # sıfıra eşitlemekle aynı. 24 den büyük de denilebilir. Maksat her döngüde başa geri dönebilmek\n",
    "res = res.rstrip('\\n')\n",
    "print(res)"
   ]
  },
  {
   "cell_type": "markdown",
   "metadata": {},
   "source": [
    "### Question 12\n",
    "```\n",
    "Given a 3x3 matrix of a completed tic-tac-toe game, create a function that returns whether the game is a win for \"X\", \"O\", or a \"Draw\", where \"X\" and \"O\" represent themselves on the matrix, and \"E\" represents an empty spot.\n",
    "\n",
    "Examples\n",
    "tic_tac_toe([\n",
    "  [\"X\", \"O\", \"X\"],\n",
    "  [\"O\", \"X\",  \"O\"],\n",
    "  [\"O\", \"X\",  \"X\"]\n",
    "]) ➞ \"X\"\n",
    "\n",
    "tic_tac_toe([\n",
    "  [\"O\", \"O\", \"O\"],\n",
    "  [\"O\", \"X\", \"X\"],\n",
    "  [\"E\", \"X\", \"X\"]\n",
    "]) ➞ \"O\"\n",
    "\n",
    "tic_tac_toe([\n",
    "  [\"X\", \"X\", \"O\"],\n",
    "  [\"O\", \"O\", \"X\"],\n",
    "  [\"X\", \"X\", \"O\"]\n",
    "]) ➞ \"Draw\"\n",
    "```"
   ]
  },
  {
   "cell_type": "code",
   "execution_count": 47,
   "metadata": {},
   "outputs": [
    {
     "name": "stdout",
     "output_type": "stream",
     "text": [
      "X\n"
     ]
    }
   ],
   "source": [
    "game = [\n",
    "  [\"X\", \"O\", \"O\"],  # for ile satırları kontrol edebiliriz.\n",
    "  [\"O\", \"X\", \"X\"],  # sütunlar için map kullanacağız.\n",
    "  [\"X\", \"X\", \"X\"]   # \n",
    "]\n",
    "\n",
    "result = 'Draw'\n",
    "vertical = list(map(lambda *x : [*x], *game)) # map e gööndereceğimiz parametre sayısını bilmediğimiz için * kullandık.\n",
    "# print(vertical)\n",
    "\n",
    "for i in range(len(game)):\n",
    "    if len(set(game[i])) == 1 and game[i][0] != 'E': # E empty olduğu için empty den gelen 1 ile \n",
    "        result = game[i][0]                          # aynı oollanlardan gelen 1 in karışmaması için E eşitsizliğini aldık.\n",
    "        break\n",
    "    elif len(set(vertical[i])) == 1 and vertical[i][0] != 'E':\n",
    "        result = vertical[i][0] # bir kazanan olabilir break atarız.\n",
    "        break\n",
    "        \n",
    "if result == 'Draw':\n",
    "    if game[0][0] == game[1][1] == game[2][2] and game[0][0] != 'E':  # çarpraz durumları kontrol için.\n",
    "        result = game[0][0]\n",
    "    elif game[0][2] == game[1][1] == game[2][0] and game[0][2] != 'E':\n",
    "        result = game[0][2]\n",
    "\n",
    "print(result)    "
   ]
  },
  {
   "cell_type": "markdown",
   "metadata": {},
   "source": [
    "### Question 13\n",
    "```\n",
    "This problem was asked by Google.\n",
    "The power set of a set is the set of all its subsets. Write a function\n",
    "that, given a set, generates its power set.\n",
    "For example, given the set {1, 2, 3}, it should return {{}, {1}, {2}, {3},\n",
    "{1, 2}, {1, 3}, {2, 3}, {1, 2, 3}}.\n",
    "You may also use a list or array to represent a set.\n",
    "```"
   ]
  },
  {
   "cell_type": "code",
   "execution_count": 51,
   "metadata": {},
   "outputs": [
    {
     "name": "stdout",
     "output_type": "stream",
     "text": [
      "[[], [1]]\n",
      "[[], [1], [2]]\n",
      "[[], [1], [2], [1, 2]]\n",
      "[[], [1], [2], [1, 2], [3]]\n",
      "[[], [1], [2], [1, 2], [3], [1, 3]]\n",
      "[[], [1], [2], [1, 2], [3], [1, 3], [2, 3]]\n",
      "[[], [1], [2], [1, 2], [3], [1, 3], [2, 3], [1, 2, 3]]\n",
      "[[], [1], [2], [1, 2], [3], [1, 3], [2, 3], [1, 2, 3]]\n"
     ]
    }
   ],
   "source": [
    "lst = [1, 2, 3]\n",
    "\n",
    "arr = [[]]\n",
    "\n",
    "for i in lst:\n",
    "    for j in arr:  # bir boş liste çağırır.\n",
    "        arr = arr + [j + [i]] # elemanın içine atıldığı listeyi boş listeyle toplar her döngüde devam eder.\n",
    "        print(arr)\n",
    "print(arr)"
   ]
  },
  {
   "cell_type": "markdown",
   "metadata": {},
   "source": [
    "### Question 14\n",
    "```\n",
    "This problem was asked by Microsoft.\n",
    "A number is considered perfect if its digits sum up to exactly 10. Given a positive integer n, return the n-th perfect number.\n",
    "For example, given 1, you should return 19. Given 2, you should return 28.\n",
    "```"
   ]
  },
  {
   "cell_type": "code",
   "execution_count": 53,
   "metadata": {},
   "outputs": [
    {
     "name": "stdout",
     "output_type": "stream",
     "text": [
      "4006\n"
     ]
    }
   ],
   "source": [
    "n = 200\n",
    "\n",
    "number = 10\n",
    "res = []\n",
    "\n",
    "while True:\n",
    "    summ = 0\n",
    "    \n",
    "    for i in str(number):\n",
    "        summ += int(i)\n",
    "        \n",
    "    if summ == 10:\n",
    "        res.append(number)\n",
    "    number += 1\n",
    "    \n",
    "    if len(res) == n:\n",
    "        result = res[-1]\n",
    "        break\n",
    "        \n",
    "print(result)"
   ]
  },
  {
   "cell_type": "markdown",
   "metadata": {},
   "source": [
    "### Question 15\n",
    "```\n",
    "An identity matrix is defined as a square matrix with 1s running from the top left of the square to the bottom right. The rest are 0s. The identity matrix has applications ranging from machine learning to the general theory of relativity.\n",
    "\n",
    "Create a function that takes an integer n and returns the identity matrix of n x n dimensions. For this challenge, if the integer is negative, return the mirror image of the identity matrix of n x n dimensions.. It does not matter if the mirror image is left-right or top-bottom.\n",
    "\n",
    "Incompatible types passed as n should return the string \"Error\".\n",
    "```"
   ]
  },
  {
   "cell_type": "code",
   "execution_count": 55,
   "metadata": {},
   "outputs": [
    {
     "name": "stdin",
     "output_type": "stream",
     "text": [
      "Enter an integer >  -10\n"
     ]
    },
    {
     "name": "stdout",
     "output_type": "stream",
     "text": [
      "[0, 0, 0, 0, 0, 0, 0, 0, 0, 1]\n",
      "[0, 0, 0, 0, 0, 0, 0, 0, 1, 0]\n",
      "[0, 0, 0, 0, 0, 0, 0, 1, 0, 0]\n",
      "[0, 0, 0, 0, 0, 0, 1, 0, 0, 0]\n",
      "[0, 0, 0, 0, 0, 1, 0, 0, 0, 0]\n",
      "[0, 0, 0, 0, 1, 0, 0, 0, 0, 0]\n",
      "[0, 0, 0, 1, 0, 0, 0, 0, 0, 0]\n",
      "[0, 0, 1, 0, 0, 0, 0, 0, 0, 0]\n",
      "[0, 1, 0, 0, 0, 0, 0, 0, 0, 0]\n",
      "[1, 0, 0, 0, 0, 0, 0, 0, 0, 0]\n"
     ]
    }
   ],
   "source": [
    "# import numpy as np\n",
    "\n",
    "# np.identity(5)\n",
    "\n",
    "num = input('Enter an integer > ')\n",
    "\n",
    "nums = num.lstrip('-')\n",
    "\n",
    "lst = []\n",
    "lst3 = []\n",
    "\n",
    "if not nums.isdigit():\n",
    "    print('Error')\n",
    "else:\n",
    "    if int(nums) == 0:\n",
    "        print(lst)\n",
    "    else:\n",
    "        for i in range(int(nums)): # satırları saydırır.\n",
    "            lst2 = []  # her döngüde lst2 yi sıfırlamalıyız. lst3 e atmak için\n",
    "            for j in range(int(nums)): # sütunları saydırır.\n",
    "                if i == j:\n",
    "                    lst2.append(1)\n",
    "                else:\n",
    "                    lst2.append(0)\n",
    "            lst3.append(lst2)\n",
    "        \n",
    "        if not num.startswith('-'):  # - ile başlamıyorusa,\n",
    "            for i in lst3:\n",
    "                print(i)\n",
    "        else:                       # - ile başlıyorsa\n",
    "            for i in lst3:\n",
    "                print(i[::-1])"
   ]
  },
  {
   "cell_type": "markdown",
   "metadata": {},
   "source": [
    "### Question 16\n",
    "```\n",
    "This problem was asked by Yelp.\n",
    "Given a mapping of digits to letters (as in a phone number), and a digit string,return all possible letters the number could represent. You can assume each valid number in the mapping is a single digit.\n",
    "For example if {“2”: [“a”, “b”, “c”], 3: [“d”, “e”, “f”], …} then “23” should return [“ad”, “ae”, “af”, “bd”, “be”, “bf”, “cd”, “ce”, “cf\"].\n",
    "```"
   ]
  },
  {
   "cell_type": "code",
   "execution_count": 56,
   "metadata": {},
   "outputs": [
    {
     "name": "stdout",
     "output_type": "stream",
     "text": [
      "['adjm', 'adjn', 'adjo', 'adkm', 'adkn', 'adko', 'adlm', 'adln', 'adlo', 'aejm', 'aejn', 'aejo', 'aekm', 'aekn', 'aeko', 'aelm', 'aeln', 'aelo', 'afjm', 'afjn', 'afjo', 'afkm', 'afkn', 'afko', 'aflm', 'afln', 'aflo', 'bdjm', 'bdjn', 'bdjo', 'bdkm', 'bdkn', 'bdko', 'bdlm', 'bdln', 'bdlo', 'bejm', 'bejn', 'bejo', 'bekm', 'bekn', 'beko', 'belm', 'beln', 'belo', 'bfjm', 'bfjn', 'bfjo', 'bfkm', 'bfkn', 'bfko', 'bflm', 'bfln', 'bflo', 'cdjm', 'cdjn', 'cdjo', 'cdkm', 'cdkn', 'cdko', 'cdlm', 'cdln', 'cdlo', 'cejm', 'cejn', 'cejo', 'cekm', 'cekn', 'ceko', 'celm', 'celn', 'celo', 'cfjm', 'cfjn', 'cfjo', 'cfkm', 'cfkn', 'cfko', 'cflm', 'cfln', 'cflo']\n"
     ]
    }
   ],
   "source": [
    "dictt = {2: 'abc', 3: 'def', 4: 'ghi', 5: 'jkl', 6: 'mno', 7: 'pqrs', 8: 'tuv', 9: 'wxyz'}\n",
    "\n",
    "number = 2356\n",
    "\n",
    "str_num = str(number)\n",
    "\n",
    "a = 0\n",
    "b = 1\n",
    "\n",
    "first = dictt[int(str_num[a])]\n",
    "second = dictt[int(str_num[b])]\n",
    "\n",
    "while True:\n",
    "    res = []\n",
    "    for i in first:\n",
    "        for j in second:\n",
    "            res.append(i+j)\n",
    "    \n",
    "    if b == len(str_num) - 1:\n",
    "        break\n",
    "    else:\n",
    "        b += 1\n",
    "        first = res\n",
    "        second = dictt[int(str_num[b])]\n",
    "print(res)"
   ]
  },
  {
   "cell_type": "code",
   "execution_count": null,
   "metadata": {},
   "outputs": [],
   "source": []
  }
 ],
 "metadata": {
  "kernelspec": {
   "display_name": "Python 3",
   "language": "python",
   "name": "python3"
  },
  "language_info": {
   "codemirror_mode": {
    "name": "ipython",
    "version": 3
   },
   "file_extension": ".py",
   "mimetype": "text/x-python",
   "name": "python",
   "nbconvert_exporter": "python",
   "pygments_lexer": "ipython3",
   "version": "3.8.8"
  }
 },
 "nbformat": 4,
 "nbformat_minor": 4
}
