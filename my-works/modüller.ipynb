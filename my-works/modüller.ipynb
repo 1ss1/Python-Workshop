{
 "cells": [
  {
   "cell_type": "markdown",
   "id": "dc499200-9239-4ea9-9ea8-5aa621ca4e6a",
   "metadata": {},
   "source": [
    "# RANDOM MODÜLÜ :"
   ]
  },
  {
   "cell_type": "code",
   "execution_count": 5,
   "id": "7ffad225-551d-4d9a-8451-7d30941d7ef4",
   "metadata": {},
   "outputs": [
    {
     "name": "stdout",
     "output_type": "stream",
     "text": [
      "0.4047631032368997\n",
      "4.401934834627223\n",
      "14\n",
      "selin\n"
     ]
    }
   ],
   "source": [
    "import random  # zorunlu yoksa hata verir.\n",
    "\n",
    "print(random.random())   # 0-1 aralığında rastgele float üretir.\n",
    "print(random.uniform(2,5)) # belirtilen aralıkta ratgele float üretir.\n",
    "print(random.randint(3,92)) # belirtilen aralıkta ratgele integer üretir.\n",
    "\n",
    "liste = 'ali', 'veli', 'ahmet','mehmet', 'celal', 'selin', 'nihat' \n",
    "\n",
    "print(random.choice(liste)) # iterable içinde herhangi bir elemanı verir."
   ]
  },
  {
   "cell_type": "code",
   "execution_count": 32,
   "id": "06dde3d3-6eef-4be1-ac6b-ee2f36d9164c",
   "metadata": {},
   "outputs": [
    {
     "name": "stdout",
     "output_type": "stream",
     "text": [
      "['cherry']\n"
     ]
    }
   ],
   "source": [
    "mylist = [\"apple\", \"banana\", \"cherry\"]\n",
    "print(random.choices(mylist)) # rastgele bir elemanı bir listenin elemanı şeklinde verir."
   ]
  },
  {
   "cell_type": "code",
   "execution_count": 34,
   "id": "d71485aa-a6fc-44de-9444-e5875f17eb3e",
   "metadata": {},
   "outputs": [
    {
     "name": "stdout",
     "output_type": "stream",
     "text": [
      "['r']\n"
     ]
    }
   ],
   "source": [
    "string = \"merhaba\"\n",
    "print(random.choices(string))"
   ]
  },
  {
   "cell_type": "code",
   "execution_count": 8,
   "id": "dd5a8226-2851-49cb-9b1c-f4085d75c130",
   "metadata": {},
   "outputs": [
    {
     "name": "stdout",
     "output_type": "stream",
     "text": [
      "[0, 1, 2, 3, 4, 5, 6, 7, 8, 9]\n",
      "[8, 0, 9, 2, 6, 1, 5, 4, 3, 7]\n"
     ]
    }
   ],
   "source": [
    "import random\n",
    "\n",
    "l = list(range(10))\n",
    "print(l)\n",
    "random.shuffle(l) # l listesi artık tamamen değişik sırayla sıralandı.değiştirildi. yalnızca listede kullanılabilir.\n",
    "print(l)"
   ]
  },
  {
   "cell_type": "code",
   "execution_count": 26,
   "id": "f9c9886d-8cb8-4c7c-8a4a-fffd28d72e28",
   "metadata": {},
   "outputs": [
    {
     "name": "stdout",
     "output_type": "stream",
     "text": [
      "['banana', 'apple', 'cherry']\n"
     ]
    }
   ],
   "source": [
    "import random\n",
    "\n",
    "mylist = [\"apple\", \"banana\", \"cherry\"]\n",
    "random.shuffle(mylist)\n",
    "\n",
    "print(mylist)"
   ]
  },
  {
   "cell_type": "code",
   "execution_count": 2,
   "id": "e23db3a9-9bec-4a67-9d07-746cb352611b",
   "metadata": {},
   "outputs": [
    {
     "name": "stdout",
     "output_type": "stream",
     "text": [
      "5\n",
      "9\n",
      "4\n"
     ]
    }
   ],
   "source": [
    "print(random.randrange(10))\n",
    "print(random.randrange(5,10)) # hem tek hem de çift parametre alarak integer sayı verir. ancak son değer 9 dur 10 u almaz.\n",
    "\n",
    "print(random.randint(0,10)) # sadece çift parametre alır. 10 dahildir."
   ]
  },
  {
   "cell_type": "code",
   "execution_count": 1,
   "id": "31efba21-7ff9-40ec-a9ce-22455abf0014",
   "metadata": {},
   "outputs": [
    {
     "data": {
      "text/plain": [
       "[70, 59, 18, 22]"
      ]
     },
     "execution_count": 1,
     "metadata": {},
     "output_type": "execute_result"
    }
   ],
   "source": [
    "import random\n",
    "\n",
    "liste2 = range(100)\n",
    "random.sample(liste2, 4) # belirtilen sayıda numune alıp liste halinde döndürür."
   ]
  },
  {
   "cell_type": "markdown",
   "id": "90b65918-4f0a-4ed9-9288-33e0780e5b94",
   "metadata": {},
   "source": [
    "# DATETİME  MODÜLÜ:"
   ]
  },
  {
   "cell_type": "raw",
   "id": "ad36353b-fc88-4158-8b29-c2639174da41",
   "metadata": {},
   "source": [
    "datetime modülü içinde yer alan bu üç sınıf şunlardır:\n",
    "\n",
    "1) date sınıfı; tarihle ilgili işlemler yapabilmemizi sağlayan fonksiyon ve nitelikleri barındırır.\n",
    "\n",
    "2) time sınıfı; zamanla/saatle ilgili işlemler yapabilmemizi sağlayan fonksiyon ve nitelikleri barındırır.\n",
    "\n",
    "3) datetime sınıfı; date ve time sınıflarının birleşiminden ve ilave birkaç nitelik ve fonksiyondan oluşur.\n",
    "\n",
    "Buna göre, datetime adlı sınıf hem date sınıfını hem de time sınıfını kapsadığı için, datetime modülü ile işlem yapmak istediğinizde, çoğunlukla yalnızca datetime sınıfını kullanarak bütün işlerinizi halledebilirsiniz."
   ]
  },
  {
   "cell_type": "code",
   "execution_count": 4,
   "id": "57a0cee5-d9ea-47ba-8c4f-086bedb28fde",
   "metadata": {},
   "outputs": [
    {
     "data": {
      "text/plain": [
       "['__add__',\n",
       " '__class__',\n",
       " '__delattr__',\n",
       " '__dir__',\n",
       " '__doc__',\n",
       " '__eq__',\n",
       " '__format__',\n",
       " '__ge__',\n",
       " '__getattribute__',\n",
       " '__gt__',\n",
       " '__hash__',\n",
       " '__init__',\n",
       " '__init_subclass__',\n",
       " '__le__',\n",
       " '__lt__',\n",
       " '__ne__',\n",
       " '__new__',\n",
       " '__radd__',\n",
       " '__reduce__',\n",
       " '__reduce_ex__',\n",
       " '__repr__',\n",
       " '__rsub__',\n",
       " '__setattr__',\n",
       " '__sizeof__',\n",
       " '__str__',\n",
       " '__sub__',\n",
       " '__subclasshook__',\n",
       " 'astimezone',\n",
       " 'combine',\n",
       " 'ctime',\n",
       " 'date',\n",
       " 'day',\n",
       " 'dst',\n",
       " 'fold',\n",
       " 'fromisocalendar',\n",
       " 'fromisoformat',\n",
       " 'fromordinal',\n",
       " 'fromtimestamp',\n",
       " 'hour',\n",
       " 'isocalendar',\n",
       " 'isoformat',\n",
       " 'isoweekday',\n",
       " 'max',\n",
       " 'microsecond',\n",
       " 'min',\n",
       " 'minute',\n",
       " 'month',\n",
       " 'now',\n",
       " 'replace',\n",
       " 'resolution',\n",
       " 'second',\n",
       " 'strftime',\n",
       " 'strptime',\n",
       " 'time',\n",
       " 'timestamp',\n",
       " 'timetuple',\n",
       " 'timetz',\n",
       " 'today',\n",
       " 'toordinal',\n",
       " 'tzinfo',\n",
       " 'tzname',\n",
       " 'utcfromtimestamp',\n",
       " 'utcnow',\n",
       " 'utcoffset',\n",
       " 'utctimetuple',\n",
       " 'weekday',\n",
       " 'year']"
      ]
     },
     "execution_count": 4,
     "metadata": {},
     "output_type": "execute_result"
    }
   ],
   "source": [
    "import datetime\n",
    "\n",
    "dir(datetime.datetime)"
   ]
  },
  {
   "cell_type": "code",
   "execution_count": 12,
   "id": "d3ee9808-2c75-4dd0-89aa-dd36ff02e2da",
   "metadata": {},
   "outputs": [
    {
     "name": "stdout",
     "output_type": "stream",
     "text": [
      "2021-11-16 12:53:19.859489\n",
      "2021\n",
      "16\n",
      "11\n",
      "12\n",
      "53\n",
      "19 859489\n"
     ]
    }
   ],
   "source": [
    "# now() : içindeki bulunduğumuz andaki tarih, saat ve zaman bilgilerini verir.\n",
    "import datetime\n",
    "\n",
    "an = datetime.datetime.now()\n",
    "print(an)\n",
    "print(an.year)\n",
    "print(an.day)\n",
    "print(an.month)\n",
    "print(an.hour)\n",
    "print(an.minute)\n",
    "print(an.second, an.microsecond)"
   ]
  },
  {
   "cell_type": "code",
   "execution_count": 13,
   "id": "b99ecbbc-bd20-4caa-b180-74f20ad999a5",
   "metadata": {},
   "outputs": [
    {
     "name": "stdout",
     "output_type": "stream",
     "text": [
      "2021 11 55 32 638067\n"
     ]
    }
   ],
   "source": [
    "# today() : now() ile aynı içeriğe ve işleve sahiptir. today() fonksiyonunu now fonksiyonunu kullandığınız gibi kullanabilirsiniz:\n",
    "\n",
    "bugün = datetime.datetime.today()\n",
    "\n",
    "print(bugün.year, bugün.month, bugün.minute ,bugün.second, bugün.microsecond)"
   ]
  },
  {
   "cell_type": "code",
   "execution_count": 14,
   "id": "9907755b-3e2f-456e-a6e9-b98a9bf5bcec",
   "metadata": {},
   "outputs": [
    {
     "data": {
      "text/plain": [
       "'Tue Nov 16 12:56:35 2021'"
      ]
     },
     "execution_count": 14,
     "metadata": {},
     "output_type": "execute_result"
    }
   ],
   "source": [
    "# ctime() : içinde bulunduğumuz ana ilişkin tarih ve zaman bilgilerini içeren okunaklı bir karakter dizisi verir.\n",
    "\n",
    "an = datetime.datetime.now()\n",
    "tarih = datetime.datetime.ctime(an)\n",
    "tarih\n"
   ]
  },
  {
   "cell_type": "code",
   "execution_count": 15,
   "id": "5bf3cdc2-13f7-4b25-b748-d71e8a52d108",
   "metadata": {},
   "outputs": [
    {
     "data": {
      "text/plain": [
       "'Tue Nov 16 12:59:40 2021'"
      ]
     },
     "execution_count": 15,
     "metadata": {},
     "output_type": "execute_result"
    }
   ],
   "source": [
    "# strftime() : size tarih ve zaman bilgilerini ihtiyaçlarınız doğrultusunda biçimlendirme imkanı sunar.\n",
    "\n",
    "an = datetime.datetime.now()\n",
    "tarih = datetime.datetime.strftime(an, '%c')\n",
    "tarih\n"
   ]
  },
  {
   "cell_type": "raw",
   "id": "4a72ec61-bbba-45a4-9ddf-ccd65cae0fbf",
   "metadata": {},
   "source": [
    "%c dışında başka tarih biçimlendiricileri de bulunur:\n",
    "\n",
    "%a\n",
    "hafta gününün kısaltılmış adı\n",
    "\n",
    "%A\n",
    "hafta gününün tam adı\n",
    "\n",
    "%b\n",
    "ayın kısaltılmış adı\n",
    "\n",
    "%B\n",
    "ayın tam adı\n",
    "\n",
    "%c\n",
    "tam tarih, saat ve zaman bilgisi\n",
    "\n",
    "%d\n",
    "sayı değerli bir karakter dizisi olarak gün\n",
    "\n",
    "%j\n",
    "belli bir tarihin, yılın kaçıncı gününe denk geldiğini gösteren 1-366 arası bir sayı\n",
    "\n",
    "%m\n",
    "sayı değerli bir karakter dizisi olarak ay\n",
    "\n",
    "%U\n",
    "belli bir tarihin yılın kaçıncı haftasına geldiğini gösteren 0-53 arası bir sayı\n",
    "\n",
    "%y\n",
    "yılın son iki rakamı\n",
    "\n",
    "%Y\n",
    "yılın dört haneli tam hali\n",
    "\n",
    "%x\n",
    "tam tarih bilgisi\n",
    "\n",
    "%X\n",
    "tam saat bilgisi"
   ]
  },
  {
   "cell_type": "code",
   "execution_count": 19,
   "id": "b4a35ee0-51c6-4daa-ac7a-65c468e753a0",
   "metadata": {},
   "outputs": [
    {
     "data": {
      "text/plain": [
       "'Kasım'"
      ]
     },
     "execution_count": 19,
     "metadata": {},
     "output_type": "execute_result"
    }
   ],
   "source": [
    "# Eğer isterseniz, locale adlı başka bir modülü kullanarak, strftime() modülünün, sisteminizdeki tanımlı dili kullanmasını sağlayabilirsiniz.\n",
    "\n",
    "\n",
    "import locale\n",
    "\n",
    "locale.setlocale(locale.LC_ALL, '') # bu komutu verdikten sonra çıktıları sistem dilinde alabilirim. \"italian\" yazsaydım italyanca verirdi.\n",
    "\n",
    "datetime.datetime.strftime(an, '%B')"
   ]
  },
  {
   "cell_type": "code",
   "execution_count": 1,
   "id": "551d5e0a-6225-4334-9fe3-9c277de171a8",
   "metadata": {},
   "outputs": [
    {
     "name": "stdout",
     "output_type": "stream",
     "text": [
      "The ceil of 2.3 is : 3\n",
      "The floor of 2.3 is : 2\n"
     ]
    }
   ],
   "source": [
    "import math\n",
    "\n",
    "a = 2.3\n",
    "  \n",
    "# returning the ceil of 2.3\n",
    "print (\"The ceil of 2.3 is : \", end=\"\")\n",
    "print (math.ceil(a))\n",
    "  \n",
    "# returning the floor of 2.3\n",
    "print (\"The floor of 2.3 is : \", end=\"\")\n",
    "print (math.floor(a))"
   ]
  },
  {
   "cell_type": "code",
   "execution_count": 2,
   "id": "4b251174-fe1b-4ff7-977c-f8f9197cb60e",
   "metadata": {},
   "outputs": [
    {
     "name": "stdout",
     "output_type": "stream",
     "text": [
      "The absolute value of -10 is : 10.0\n",
      "The factorial of 5 is : 120\n"
     ]
    }
   ],
   "source": [
    "import math\n",
    "  \n",
    "a = -10\n",
    "  \n",
    "b= 5\n",
    "  \n",
    "# returning the absolute value.\n",
    "print (\"The absolute value of -10 is : \", end=\"\")\n",
    "print (math.fabs(a))\n",
    "  \n",
    "# returning the factorial of 5\n",
    "print (\"The factorial of 5 is : \", end=\"\")\n",
    "print (math.factorial(b))"
   ]
  },
  {
   "cell_type": "code",
   "execution_count": 3,
   "id": "e5dfc2a7-8ab7-44ff-89f0-a0011ba92d74",
   "metadata": {},
   "outputs": [
    {
     "name": "stdout",
     "output_type": "stream",
     "text": [
      "The copysigned value of -10 and 5.5 is : -5.5\n",
      "The gcd of 5 and 15 is : 5\n"
     ]
    }
   ],
   "source": [
    "# Python code to demonstrate the working of\n",
    "# copysign() and gcd()\n",
    "  \n",
    "# importing \"math\" for mathematical operations\n",
    "import math\n",
    "  \n",
    "a = -10\n",
    "b = 5.5\n",
    "c = 15\n",
    "d = 5\n",
    "  \n",
    "# returning the copysigned value.\n",
    "print (\"The copysigned value of -10 and 5.5 is : \", end=\"\")\n",
    "print (math.copysign(5.5, -10))\n",
    "  \n",
    "# returning the gcd of 15 and 5\n",
    "print (\"The gcd of 5 and 15 is : \", end=\"\")\n",
    "print (math.gcd(5,15))"
   ]
  },
  {
   "cell_type": "code",
   "execution_count": 5,
   "id": "ca46b34a-cb52-4137-84fd-b7d436e1e636",
   "metadata": {},
   "outputs": [
    {
     "data": {
      "text/plain": [
       "28.6"
      ]
     },
     "execution_count": 5,
     "metadata": {},
     "output_type": "execute_result"
    }
   ],
   "source": [
    "math.fabs(-28.6)"
   ]
  },
  {
   "cell_type": "code",
   "execution_count": 6,
   "id": "f7842039-ba4d-4da8-926c-2e18964f21f2",
   "metadata": {},
   "outputs": [
    {
     "data": {
      "text/plain": [
       "28.6"
      ]
     },
     "execution_count": 6,
     "metadata": {},
     "output_type": "execute_result"
    }
   ],
   "source": [
    "abs(28.6)"
   ]
  },
  {
   "cell_type": "code",
   "execution_count": 7,
   "id": "bbe3ec5e-58c4-4f04-ba29-acd1b7995e38",
   "metadata": {},
   "outputs": [
    {
     "data": {
      "text/plain": [
       "120"
      ]
     },
     "execution_count": 7,
     "metadata": {},
     "output_type": "execute_result"
    }
   ],
   "source": [
    "math.factorial(5)"
   ]
  },
  {
   "cell_type": "code",
   "execution_count": null,
   "id": "751862b5-3b40-4cae-abce-eb072547d191",
   "metadata": {},
   "outputs": [],
   "source": []
  }
 ],
 "metadata": {
  "kernelspec": {
   "display_name": "Python 3",
   "language": "python",
   "name": "python3"
  },
  "language_info": {
   "codemirror_mode": {
    "name": "ipython",
    "version": 3
   },
   "file_extension": ".py",
   "mimetype": "text/x-python",
   "name": "python",
   "nbconvert_exporter": "python",
   "pygments_lexer": "ipython3",
   "version": "3.8.8"
  }
 },
 "nbformat": 4,
 "nbformat_minor": 5
}
