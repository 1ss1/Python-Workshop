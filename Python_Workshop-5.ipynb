{
 "cells": [
  {
   "cell_type": "markdown",
   "metadata": {},
   "source": [
    "SORU-1: Kullanıcının belirleyeceği \"n\" adet sayının tek tek girilmesini sağlayarak, bu sayıların toplamını bulan python kodunu yazınız.\n",
    "\n",
    "* For döngüsü kullanılmalıdır"
   ]
  },
  {
   "cell_type": "code",
   "execution_count": 9,
   "metadata": {},
   "outputs": [
    {
     "name": "stdin",
     "output_type": "stream",
     "text": [
      "Grilecek sayı adedi :  5\n",
      "1.sayı :  11\n",
      "2.sayı :  22\n",
      "3.sayı :  33\n",
      "4.sayı :  44\n",
      "5.sayı :  55\n"
     ]
    },
    {
     "name": "stdout",
     "output_type": "stream",
     "text": [
      "5 sayının toplamı : 165\n"
     ]
    }
   ],
   "source": [
    "# 1. yol :\n",
    "adet = int(input(\"Grilecek sayı adedi : \"))\n",
    "toplam = 0\n",
    "\n",
    "for i in range(adet) :\n",
    "    sayi = int(input(\"{}.sayı : \".format(i+1)))\n",
    "    toplam += sayi\n",
    "    \n",
    "print(\"{} sayının toplamı : {}\".format(adet, toplam))"
   ]
  },
  {
   "cell_type": "code",
   "execution_count": 10,
   "metadata": {},
   "outputs": [
    {
     "name": "stdin",
     "output_type": "stream",
     "text": [
      "Grilecek sayı adedi :  6\n",
      "1.sayı :  11\n",
      "2.sayı :  22\n",
      "3.sayı :  33\n",
      "4.sayı :  44\n",
      "5.sayı :  55\n",
      "6.sayı :  66\n"
     ]
    },
    {
     "name": "stdout",
     "output_type": "stream",
     "text": [
      "6 sayının toplamı : 231\n"
     ]
    }
   ],
   "source": [
    "# 2.yol : \n",
    "n = int(input(\"Grilecek sayı adedi : \"))\n",
    "sayac = 1\n",
    "listem = []\n",
    "\n",
    "while sayac <= n :\n",
    "    sayi = int(input(\"{}.sayı : \".format(sayac)))\n",
    "    listem.append(sayi)\n",
    "    sayac += 1\n",
    "\n",
    "print(\"{} sayının toplamı : {}\".format(n, sum(listem))) # sum() fonksiyonu listenin elemanlarını toplar."
   ]
  },
  {
   "cell_type": "code",
   "execution_count": 6,
   "metadata": {},
   "outputs": [
    {
     "name": "stdin",
     "output_type": "stream",
     "text": [
      "Toplanmasını istediğiniz sayıları bir boşlukla giriniz :  22 33 44 55 66\n"
     ]
    },
    {
     "name": "stdout",
     "output_type": "stream",
     "text": [
      "sayıların toplamı : 220\n"
     ]
    }
   ],
   "source": [
    "# 3, yol : \n",
    "\n",
    "sayilar = map(int, input(\"Toplanmasını istediğiniz sayıları bir boşlukla giriniz : \").split())\n",
    "\n",
    "toplam = sum(sayilar)\n",
    "\n",
    "print(\"sayıların toplamı : {}\".format(toplam))"
   ]
  },
  {
   "cell_type": "code",
   "execution_count": 2,
   "metadata": {},
   "outputs": [
    {
     "name": "stdin",
     "output_type": "stream",
     "text": [
      "Toplanmasını istediğiniz sayıları bir boşlukla giriniz :  55 33 22 33 44 77 55\n"
     ]
    },
    {
     "name": "stdout",
     "output_type": "stream",
     "text": [
      " sayıların toplamı : 319\n"
     ]
    }
   ],
   "source": [
    "# 4. yol :\n",
    "toplam = sum(map(int, input(\"Toplanmasını istediğiniz sayıları bir boşlukla giriniz : \").split()))\n",
    "\n",
    "print(\" sayıların toplamı : {}\".format(toplam))"
   ]
  },
  {
   "cell_type": "markdown",
   "metadata": {},
   "source": [
    "SORU-2: Kullanıcıdan alınan dört kenar uzunluğuna göre şeklin kare, dikdörtgen veya diğer dörtgenlerden biri olduğunu belirten python kodunu yazınız.\n",
    "\n",
    "* if-elif-else statement kullanılmalıdır"
   ]
  },
  {
   "cell_type": "code",
   "execution_count": 1,
   "metadata": {},
   "outputs": [
    {
     "name": "stdin",
     "output_type": "stream",
     "text": [
      "4 kenar uzunluğu :   2 3 2 3\n"
     ]
    },
    {
     "name": "stdout",
     "output_type": "stream",
     "text": [
      "Bu bir dikdörtgendir.\n"
     ]
    }
   ],
   "source": [
    "# 1.yol : Kenarların dik olduğunu varsayalım.\n",
    "n1, n2, n3, n4 = list(map(int, input(\"4 kenar uzunluğu : \").split()))\n",
    "\n",
    "if (n1 == n2 == n3 == n4) :\n",
    "    print(\"Bu bir karedir.\")\n",
    "elif (n1 == n2 and n3 == n4) or (n1 == n3 and n2 == n4) or (n1 == n4 and n2 == n3) :\n",
    "    print(\"Bu bir dikdörtgendir.\")\n",
    "else:\n",
    "    print(\"Bu dörtgen kare ve ya dikdörtgen değildir.\")"
   ]
  },
  {
   "cell_type": "code",
   "execution_count": null,
   "metadata": {},
   "outputs": [],
   "source": [
    "# 2. yol :\n",
    "\n"
   ]
  },
  {
   "cell_type": "markdown",
   "metadata": {},
   "source": [
    "SORU-3: Kullanıcının belirleyeceği satır sayısı (n) kadar, \"*\" işaretiyle piramit oluşturan python kodunu yazınız.\n",
    "\n",
    "* For döngüsü kullanılmalıdır\n"
   ]
  },
  {
   "cell_type": "code",
   "execution_count": 2,
   "metadata": {},
   "outputs": [
    {
     "name": "stdin",
     "output_type": "stream",
     "text": [
      " 5\n"
     ]
    },
    {
     "name": "stdout",
     "output_type": "stream",
     "text": [
      "1*\n",
      "2*2*\n",
      "3*3*3*\n",
      "4*4*4*4*\n",
      "5*5*5*5*5*\n"
     ]
    }
   ],
   "source": [
    "\n",
    "rows = int(input(\"\"))\n",
    "\n",
    "for i in range(1, rows+1) :\n",
    "  print(i * (str(i)+ \"*\"))"
   ]
  },
  {
   "cell_type": "code",
   "execution_count": 6,
   "metadata": {},
   "outputs": [
    {
     "name": "stdin",
     "output_type": "stream",
     "text": [
      "basamak sayısı :  5\n"
     ]
    },
    {
     "ename": "TypeError",
     "evalue": "can only concatenate str (not \"int\") to str",
     "output_type": "error",
     "traceback": [
      "\u001b[1;31m---------------------------------------------------------------------------\u001b[0m",
      "\u001b[1;31mTypeError\u001b[0m                                 Traceback (most recent call last)",
      "\u001b[1;32m<ipython-input-6-f3fb2f15e374>\u001b[0m in \u001b[0;36m<module>\u001b[1;34m\u001b[0m\n\u001b[0;32m      2\u001b[0m \u001b[1;33m\u001b[0m\u001b[0m\n\u001b[0;32m      3\u001b[0m \u001b[1;32mfor\u001b[0m \u001b[0mi\u001b[0m \u001b[1;32min\u001b[0m \u001b[0mrange\u001b[0m\u001b[1;33m(\u001b[0m\u001b[1;36m1\u001b[0m\u001b[1;33m,\u001b[0m \u001b[0mn\u001b[0m\u001b[1;33m+\u001b[0m\u001b[1;36m1\u001b[0m\u001b[1;33m)\u001b[0m\u001b[1;33m:\u001b[0m\u001b[1;33m\u001b[0m\u001b[1;33m\u001b[0m\u001b[0m\n\u001b[1;32m----> 4\u001b[1;33m     \u001b[0mprint\u001b[0m\u001b[1;33m(\u001b[0m\u001b[1;34m\" \"\u001b[0m \u001b[1;33m*\u001b[0m \u001b[1;33m(\u001b[0m\u001b[0mn\u001b[0m\u001b[1;33m-\u001b[0m\u001b[0mi\u001b[0m\u001b[1;33m)\u001b[0m \u001b[1;33m+\u001b[0m \u001b[1;34m\"*\"\u001b[0m \u001b[1;33m+\u001b[0m \u001b[1;33m(\u001b[0m\u001b[1;36m2\u001b[0m \u001b[1;33m*\u001b[0m \u001b[0mi\u001b[0m \u001b[1;33m-\u001b[0m \u001b[1;36m1\u001b[0m\u001b[1;33m)\u001b[0m\u001b[1;33m)\u001b[0m\u001b[1;33m\u001b[0m\u001b[1;33m\u001b[0m\u001b[0m\n\u001b[0m",
      "\u001b[1;31mTypeError\u001b[0m: can only concatenate str (not \"int\") to str"
     ]
    }
   ],
   "source": [
    "n = int(input(\"basamak sayısı : \"))\n",
    "\n",
    "for i in range(1, n+1):\n",
    "    print(\" \" * (n-i) + \"*\" + (2 * i - 1))"
   ]
  },
  {
   "cell_type": "markdown",
   "metadata": {},
   "source": [
    "SORU-4: Kullanıcının yarıçap değerini girdiği bir dairenin, alan ve çevresini hesaplayan python kodunu yazınız.\n",
    "\n",
    "* Fonksiyon tanımlanmalıdır"
   ]
  },
  {
   "cell_type": "code",
   "execution_count": 13,
   "metadata": {},
   "outputs": [
    {
     "name": "stdin",
     "output_type": "stream",
     "text": [
      "yarı çap :  5\n"
     ]
    },
    {
     "name": "stdout",
     "output_type": "stream",
     "text": [
      "Alan : 78.5\n"
     ]
    }
   ],
   "source": [
    "\n",
    "def daire_alanı(r) :\n",
    "    pi = 3.14\n",
    "    alan = pi * (r ** 2)\n",
    "    return round(alan, 1)\n",
    "r = int(input(\"yarı çap : \"))\n",
    "\n",
    "print(\"Alan : {}\".format(daire_alanı(r)))"
   ]
  },
  {
   "cell_type": "code",
   "execution_count": null,
   "metadata": {},
   "outputs": [],
   "source": []
  },
  {
   "cell_type": "code",
   "execution_count": 2,
   "metadata": {},
   "outputs": [
    {
     "data": {
      "text/plain": [
       "28.26"
      ]
     },
     "execution_count": 2,
     "metadata": {},
     "output_type": "execute_result"
    }
   ],
   "source": [
    "3.14 * 9"
   ]
  },
  {
   "cell_type": "code",
   "execution_count": 11,
   "metadata": {},
   "outputs": [
    {
     "name": "stdin",
     "output_type": "stream",
     "text": [
      "yarı çap :  5\n"
     ]
    },
    {
     "data": {
      "text/plain": [
       "31.4"
      ]
     },
     "execution_count": 11,
     "metadata": {},
     "output_type": "execute_result"
    }
   ],
   "source": [
    "def daire_cevresi(r) :\n",
    "    pi = 3.14\n",
    "    cevre = 2 * pi * r\n",
    "    return round(cevre, 1)\n",
    "r = int(input(\"yarı çap : \"))\n",
    "\n",
    "daire_cevresi(r)"
   ]
  },
  {
   "cell_type": "code",
   "execution_count": 7,
   "metadata": {},
   "outputs": [
    {
     "data": {
      "text/plain": [
       "31.400000000000002"
      ]
     },
     "execution_count": 7,
     "metadata": {},
     "output_type": "execute_result"
    }
   ],
   "source": [
    "2*3.14*5"
   ]
  },
  {
   "cell_type": "markdown",
   "metadata": {},
   "source": [
    "SORU-5: Kullanıcının girdiği 2 sayı arasındaki çift sayıların ortalamasını bulan python kodunu yazınız.\n",
    "\n",
    "* map() fonksiyonu kullanılmalı ve\n",
    "* Fonksiyon tanımlanmalıdır"
   ]
  },
  {
   "cell_type": "code",
   "execution_count": 26,
   "metadata": {},
   "outputs": [
    {
     "name": "stdin",
     "output_type": "stream",
     "text": [
      "Başlangıç ve bitiş değerlerini bir boşlukla giriniz :  2 10\n"
     ]
    },
    {
     "name": "stdout",
     "output_type": "stream",
     "text": [
      "Çift sayıların ortalaması : 6.0\n"
     ]
    }
   ],
   "source": [
    "def ciftx(başlangıç, bitiş): # listenin bir kez çıktısını nasıl alabilirz ?\n",
    "    lst = []\n",
    "    for i in range(başlangıç, bitiş + 1) : \n",
    "        if i % 2 == 0 :\n",
    "             lst.append(i)\n",
    "            \n",
    "    return sum(lst) / len(lst)\n",
    "\n",
    "\n",
    "başlangıç, bitiş = map(int, input(\"Başlangıç ve bitiş değerlerini bir boşlukla giriniz : \").split())\n",
    "\n",
    "print(\"Çift sayıların ortalaması : {}\".format(ciftx(başlangıç, bitiş)))"
   ]
  },
  {
   "cell_type": "markdown",
   "metadata": {},
   "source": [
    "**SORU-6:** x listesi içinde verilen sayıları birbiriyle çarpan python kodunu yazınız.\n",
    "\n",
    "x = [1, 2, 3, 4, 5]\n",
    "\n",
    "* Fonksiyon tanımlanmalıdır"
   ]
  },
  {
   "cell_type": "code",
   "execution_count": 27,
   "metadata": {},
   "outputs": [
    {
     "name": "stdin",
     "output_type": "stream",
     "text": [
      "Listenin elemanlarını giriniz :  3 4 5 6 7 8\n"
     ]
    },
    {
     "name": "stdout",
     "output_type": "stream",
     "text": [
      "Çarpım işlemi sonucu = 20160\n"
     ]
    }
   ],
   "source": [
    "def çarpmaX(x) : \n",
    "    sonuc = 1\n",
    "    for i in x:\n",
    "        sonuc *= i\n",
    "    return sonuc\n",
    "\n",
    "x = list(map(int, input(\"Listenin elemanlarını giriniz : \").split()))\n",
    "\n",
    "print(\"Çarpım işlemi sonucu = {}\".format(çarpmaX(x)))"
   ]
  },
  {
   "cell_type": "markdown",
   "metadata": {},
   "source": [
    "**SORU-7:** Tanımlanan bir liste içinde aranan değerin kaç tane olduğunu bulan Python kodunu yazınız.\n",
    "\n",
    "x = [1, 3, 8, 6, 8, 10, 20, 6, 22, 14, 10, 8, 13, 7, 8] \n",
    "\n",
    "Output = 8 elemanı dizi içinde 4 adet bulunmaktadır\n",
    "\n",
    "* Fonksiyon tanımlanmalıdır"
   ]
  },
  {
   "cell_type": "code",
   "execution_count": 29,
   "metadata": {},
   "outputs": [
    {
     "name": "stdout",
     "output_type": "stream",
     "text": [
      "x sayısı liste içinde 4 adet bulunmaktadır.\n"
     ]
    }
   ],
   "source": [
    "def sayi(listem):\n",
    "    return listem.count(x)\n",
    "    \n",
    "listem = [1, 3, 8, 6, 8, 10, 20, 6, 22, 14, 10, 8, 13, 7, 8]\n",
    "\n",
    "x = 8\n",
    "\n",
    "print(\"x sayısı liste içinde {} adet bulunmaktadır.\".format(sayi(listem)))"
   ]
  },
  {
   "cell_type": "markdown",
   "metadata": {},
   "source": [
    "**SORU-8:** Kullanıcıdan oluşturduğu listedeki herhangi iki elamanın yerini değiştiren python kodunu yazınız.\n",
    "\n",
    "* map() fonksiyonu kullanılmalı ve\n",
    "* Fonksiyon tanımlanmalıdır"
   ]
  },
  {
   "cell_type": "code",
   "execution_count": 2,
   "metadata": {},
   "outputs": [
    {
     "name": "stdin",
     "output_type": "stream",
     "text": [
      "listenin elemanlarını giriniz :  2 3 4 5 6\n",
      "Değiştirilecek elemanları boşluk bırakarak yazınız :  3 4\n"
     ]
    },
    {
     "name": "stdout",
     "output_type": "stream",
     "text": [
      "[2, 3, 4, 6, 5]\n"
     ]
    }
   ],
   "source": [
    "def yer_değiştirme(listem, a, b) :\n",
    "    listem[a], listem[b] = listem[b], listem[a]\n",
    "    return listem\n",
    "\n",
    "liste = list(map(int, input(\"listenin elemanlarını giriniz : \").split()))\n",
    "a,b = map(int, input(\"Değiştirilecek elemanları boşluk bırakarak yazınız : \").split())\n",
    "\n",
    "print(yer_değiştirme(liste, a, b))"
   ]
  },
  {
   "cell_type": "code",
   "execution_count": null,
   "metadata": {},
   "outputs": [],
   "source": []
  }
 ],
 "metadata": {
  "kernelspec": {
   "display_name": "Python 3",
   "language": "python",
   "name": "python3"
  },
  "language_info": {
   "codemirror_mode": {
    "name": "ipython",
    "version": 3
   },
   "file_extension": ".py",
   "mimetype": "text/x-python",
   "name": "python",
   "nbconvert_exporter": "python",
   "pygments_lexer": "ipython3",
   "version": "3.8.8"
  }
 },
 "nbformat": 4,
 "nbformat_minor": 4
}
